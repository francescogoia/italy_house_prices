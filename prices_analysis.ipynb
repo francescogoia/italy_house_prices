{
 "cells": [
  {
   "cell_type": "markdown",
   "metadata": {},
   "source": [
    "Italy house prices prediction.\n",
    "Dataset https://www.kaggle.com/datasets/tommasoramella/italy-house-prices/data\n"
   ]
  },
  {
   "cell_type": "code",
   "execution_count": 29,
   "metadata": {},
   "outputs": [
    {
     "name": "stdout",
     "output_type": "stream",
     "text": [
      "Path to dataset files: italy-house-prices\n"
     ]
    }
   ],
   "source": [
    "\n",
    "path = \"italy-house-prices\"\n",
    "\n",
    "print(\"Path to dataset files:\", path)"
   ]
  },
  {
   "cell_type": "code",
   "execution_count": 30,
   "metadata": {},
   "outputs": [
    {
     "data": {
      "text/plain": [
       "['limits_IT_municipalities.geojson',\n",
       " 'limits_IT_provinces.geojson',\n",
       " 'limits_IT_regions.geojson',\n",
       " 'rents_clean.csv',\n",
       " 'rent_raw.csv',\n",
       " 'sale_clean.csv',\n",
       " 'sale_raw.csv']"
      ]
     },
     "execution_count": 30,
     "metadata": {},
     "output_type": "execute_result"
    }
   ],
   "source": [
    "import os\n",
    "PATH = path+\"/versions/8\"\n",
    "os.listdir(PATH)"
   ]
  },
  {
   "cell_type": "code",
   "execution_count": 31,
   "metadata": {},
   "outputs": [],
   "source": [
    "import pandas as pd\n",
    "import numpy as np\n",
    "from deep_translator import GoogleTranslator\n",
    "import json\n",
    "import matplotlib.pyplot as plt\n",
    "import seaborn as sns\n",
    "import plotly.express as px\n",
    "import geopandas as gpd\n",
    "from pandas_geojson import read_geojson"
   ]
  },
  {
   "cell_type": "code",
   "execution_count": 32,
   "metadata": {},
   "outputs": [
    {
     "data": {
      "text/html": [
       "<div>\n",
       "<style scoped>\n",
       "    .dataframe tbody tr th:only-of-type {\n",
       "        vertical-align: middle;\n",
       "    }\n",
       "\n",
       "    .dataframe tbody tr th {\n",
       "        vertical-align: top;\n",
       "    }\n",
       "\n",
       "    .dataframe thead th {\n",
       "        text-align: right;\n",
       "    }\n",
       "</style>\n",
       "<table border=\"1\" class=\"dataframe\">\n",
       "  <thead>\n",
       "    <tr style=\"text-align: right;\">\n",
       "      <th></th>\n",
       "      <th>regione</th>\n",
       "      <th>citta</th>\n",
       "      <th>quartiere</th>\n",
       "      <th>prezzo</th>\n",
       "      <th>datetime</th>\n",
       "      <th>posti auto</th>\n",
       "      <th>bagni per stanza</th>\n",
       "      <th>bagni</th>\n",
       "      <th>stanze</th>\n",
       "      <th>ultimo piano</th>\n",
       "      <th>...</th>\n",
       "      <th>giardino privato</th>\n",
       "      <th>impianto allarme</th>\n",
       "      <th>portiere</th>\n",
       "      <th>piscina</th>\n",
       "      <th>villa</th>\n",
       "      <th>intera proprieta</th>\n",
       "      <th>appartamento</th>\n",
       "      <th>attico</th>\n",
       "      <th>loft</th>\n",
       "      <th>mansarda</th>\n",
       "    </tr>\n",
       "  </thead>\n",
       "  <tbody>\n",
       "    <tr>\n",
       "      <th>0</th>\n",
       "      <td>NaN</td>\n",
       "      <td>Milano</td>\n",
       "      <td>Centrale</td>\n",
       "      <td>1800.0</td>\n",
       "      <td>2023-07-03</td>\n",
       "      <td>1</td>\n",
       "      <td>0.333333</td>\n",
       "      <td>1.0</td>\n",
       "      <td>3.0</td>\n",
       "      <td>0</td>\n",
       "      <td>...</td>\n",
       "      <td>0</td>\n",
       "      <td>0</td>\n",
       "      <td>0</td>\n",
       "      <td>0</td>\n",
       "      <td>0</td>\n",
       "      <td>0</td>\n",
       "      <td>1</td>\n",
       "      <td>0</td>\n",
       "      <td>0</td>\n",
       "      <td>0</td>\n",
       "    </tr>\n",
       "    <tr>\n",
       "      <th>1</th>\n",
       "      <td>NaN</td>\n",
       "      <td>Torino</td>\n",
       "      <td>Santa Rita</td>\n",
       "      <td>450.0</td>\n",
       "      <td>2023-07-03</td>\n",
       "      <td>0</td>\n",
       "      <td>0.500000</td>\n",
       "      <td>1.0</td>\n",
       "      <td>2.0</td>\n",
       "      <td>1</td>\n",
       "      <td>...</td>\n",
       "      <td>0</td>\n",
       "      <td>0</td>\n",
       "      <td>0</td>\n",
       "      <td>0</td>\n",
       "      <td>0</td>\n",
       "      <td>0</td>\n",
       "      <td>1</td>\n",
       "      <td>0</td>\n",
       "      <td>0</td>\n",
       "      <td>0</td>\n",
       "    </tr>\n",
       "    <tr>\n",
       "      <th>2</th>\n",
       "      <td>NaN</td>\n",
       "      <td>Padova</td>\n",
       "      <td>Prato della Valle - Pontecorvo</td>\n",
       "      <td>3200.0</td>\n",
       "      <td>2023-07-03</td>\n",
       "      <td>1</td>\n",
       "      <td>NaN</td>\n",
       "      <td>3.0</td>\n",
       "      <td>NaN</td>\n",
       "      <td>0</td>\n",
       "      <td>...</td>\n",
       "      <td>0</td>\n",
       "      <td>0</td>\n",
       "      <td>0</td>\n",
       "      <td>0</td>\n",
       "      <td>0</td>\n",
       "      <td>0</td>\n",
       "      <td>1</td>\n",
       "      <td>0</td>\n",
       "      <td>0</td>\n",
       "      <td>0</td>\n",
       "    </tr>\n",
       "  </tbody>\n",
       "</table>\n",
       "<p>3 rows × 33 columns</p>\n",
       "</div>"
      ],
      "text/plain": [
       "  regione   citta                       quartiere  prezzo    datetime  \\\n",
       "0     NaN  Milano                        Centrale  1800.0  2023-07-03   \n",
       "1     NaN  Torino                      Santa Rita   450.0  2023-07-03   \n",
       "2     NaN  Padova  Prato della Valle - Pontecorvo  3200.0  2023-07-03   \n",
       "\n",
       "   posti auto  bagni per stanza  bagni  stanze  ultimo piano  ...  \\\n",
       "0           1          0.333333    1.0     3.0             0  ...   \n",
       "1           0          0.500000    1.0     2.0             1  ...   \n",
       "2           1               NaN    3.0     NaN             0  ...   \n",
       "\n",
       "  giardino privato impianto allarme  portiere  piscina  villa  \\\n",
       "0                0                0         0        0      0   \n",
       "1                0                0         0        0      0   \n",
       "2                0                0         0        0      0   \n",
       "\n",
       "   intera proprieta  appartamento  attico  loft  mansarda  \n",
       "0                 0             1       0     0         0  \n",
       "1                 0             1       0     0         0  \n",
       "2                 0             1       0     0         0  \n",
       "\n",
       "[3 rows x 33 columns]"
      ]
     },
     "execution_count": 32,
     "metadata": {},
     "output_type": "execute_result"
    }
   ],
   "source": [
    "df_rent_clean = pd.read_csv(PATH + \"/rents_clean.csv\")\n",
    "df_rent_clean.head(3)"
   ]
  }
 ],
 "metadata": {
  "kernelspec": {
   "display_name": "venv",
   "language": "python",
   "name": "python3"
  },
  "language_info": {
   "codemirror_mode": {
    "name": "ipython",
    "version": 3
   },
   "file_extension": ".py",
   "mimetype": "text/x-python",
   "name": "python",
   "nbconvert_exporter": "python",
   "pygments_lexer": "ipython3",
   "version": "3.12.6"
  }
 },
 "nbformat": 4,
 "nbformat_minor": 2
}
