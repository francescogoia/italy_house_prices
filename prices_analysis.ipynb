{
 "cells": [
  {
   "cell_type": "markdown",
   "metadata": {},
   "source": [
    "Italy house prices prediction.\n",
    "Dataset https://www.kaggle.com/datasets/tommasoramella/italy-house-prices/data\n"
   ]
  },
  {
   "cell_type": "code",
   "execution_count": 242,
   "metadata": {},
   "outputs": [
    {
     "name": "stdout",
     "output_type": "stream",
     "text": [
      "Path to dataset files: italy-house-prices\n"
     ]
    }
   ],
   "source": [
    "\n",
    "path = \"italy-house-prices\"\n",
    "\n",
    "print(\"Path to dataset files:\", path)"
   ]
  },
  {
   "cell_type": "code",
   "execution_count": 243,
   "metadata": {},
   "outputs": [
    {
     "data": {
      "text/plain": [
       "['limits_IT_municipalities.geojson',\n",
       " 'limits_IT_provinces.geojson',\n",
       " 'limits_IT_regions.geojson',\n",
       " 'rents_clean.csv',\n",
       " 'rent_raw.csv',\n",
       " 'sale_clean.csv',\n",
       " 'sale_raw.csv']"
      ]
     },
     "execution_count": 243,
     "metadata": {},
     "output_type": "execute_result"
    }
   ],
   "source": [
    "import os\n",
    "PATH = path+\"/versions/8\"\n",
    "os.listdir(PATH)"
   ]
  },
  {
   "cell_type": "code",
   "execution_count": 244,
   "metadata": {},
   "outputs": [],
   "source": [
    "import pandas as pd\n",
    "import numpy as np\n",
    "from deep_translator import GoogleTranslator\n",
    "import json\n",
    "import matplotlib.pyplot as plt\n",
    "import seaborn as sns\n",
    "import plotly.express as px\n",
    "import geopandas as gpd\n",
    "from pandas_geojson import read_geojson"
   ]
  },
  {
   "cell_type": "code",
   "execution_count": 245,
   "metadata": {},
   "outputs": [
    {
     "data": {
      "text/html": [
       "<div>\n",
       "<style scoped>\n",
       "    .dataframe tbody tr th:only-of-type {\n",
       "        vertical-align: middle;\n",
       "    }\n",
       "\n",
       "    .dataframe tbody tr th {\n",
       "        vertical-align: top;\n",
       "    }\n",
       "\n",
       "    .dataframe thead th {\n",
       "        text-align: right;\n",
       "    }\n",
       "</style>\n",
       "<table border=\"1\" class=\"dataframe\">\n",
       "  <thead>\n",
       "    <tr style=\"text-align: right;\">\n",
       "      <th></th>\n",
       "      <th>regione</th>\n",
       "      <th>citta</th>\n",
       "      <th>quartiere</th>\n",
       "      <th>prezzo</th>\n",
       "      <th>datetime</th>\n",
       "      <th>posti auto</th>\n",
       "      <th>bagni per stanza</th>\n",
       "      <th>bagni</th>\n",
       "      <th>stanze</th>\n",
       "      <th>ultimo piano</th>\n",
       "      <th>...</th>\n",
       "      <th>giardino privato</th>\n",
       "      <th>impianto allarme</th>\n",
       "      <th>portiere</th>\n",
       "      <th>piscina</th>\n",
       "      <th>villa</th>\n",
       "      <th>intera proprieta</th>\n",
       "      <th>appartamento</th>\n",
       "      <th>attico</th>\n",
       "      <th>loft</th>\n",
       "      <th>mansarda</th>\n",
       "    </tr>\n",
       "  </thead>\n",
       "  <tbody>\n",
       "    <tr>\n",
       "      <th>0</th>\n",
       "      <td>NaN</td>\n",
       "      <td>Milano</td>\n",
       "      <td>Centrale</td>\n",
       "      <td>1800.0</td>\n",
       "      <td>2023-07-03</td>\n",
       "      <td>1</td>\n",
       "      <td>0.333333</td>\n",
       "      <td>1.0</td>\n",
       "      <td>3.0</td>\n",
       "      <td>0</td>\n",
       "      <td>...</td>\n",
       "      <td>0</td>\n",
       "      <td>0</td>\n",
       "      <td>0</td>\n",
       "      <td>0</td>\n",
       "      <td>0</td>\n",
       "      <td>0</td>\n",
       "      <td>1</td>\n",
       "      <td>0</td>\n",
       "      <td>0</td>\n",
       "      <td>0</td>\n",
       "    </tr>\n",
       "    <tr>\n",
       "      <th>1</th>\n",
       "      <td>NaN</td>\n",
       "      <td>Torino</td>\n",
       "      <td>Santa Rita</td>\n",
       "      <td>450.0</td>\n",
       "      <td>2023-07-03</td>\n",
       "      <td>0</td>\n",
       "      <td>0.500000</td>\n",
       "      <td>1.0</td>\n",
       "      <td>2.0</td>\n",
       "      <td>1</td>\n",
       "      <td>...</td>\n",
       "      <td>0</td>\n",
       "      <td>0</td>\n",
       "      <td>0</td>\n",
       "      <td>0</td>\n",
       "      <td>0</td>\n",
       "      <td>0</td>\n",
       "      <td>1</td>\n",
       "      <td>0</td>\n",
       "      <td>0</td>\n",
       "      <td>0</td>\n",
       "    </tr>\n",
       "    <tr>\n",
       "      <th>2</th>\n",
       "      <td>NaN</td>\n",
       "      <td>Padova</td>\n",
       "      <td>Prato della Valle - Pontecorvo</td>\n",
       "      <td>3200.0</td>\n",
       "      <td>2023-07-03</td>\n",
       "      <td>1</td>\n",
       "      <td>NaN</td>\n",
       "      <td>3.0</td>\n",
       "      <td>NaN</td>\n",
       "      <td>0</td>\n",
       "      <td>...</td>\n",
       "      <td>0</td>\n",
       "      <td>0</td>\n",
       "      <td>0</td>\n",
       "      <td>0</td>\n",
       "      <td>0</td>\n",
       "      <td>0</td>\n",
       "      <td>1</td>\n",
       "      <td>0</td>\n",
       "      <td>0</td>\n",
       "      <td>0</td>\n",
       "    </tr>\n",
       "  </tbody>\n",
       "</table>\n",
       "<p>3 rows × 33 columns</p>\n",
       "</div>"
      ],
      "text/plain": [
       "  regione   citta                       quartiere  prezzo    datetime  \\\n",
       "0     NaN  Milano                        Centrale  1800.0  2023-07-03   \n",
       "1     NaN  Torino                      Santa Rita   450.0  2023-07-03   \n",
       "2     NaN  Padova  Prato della Valle - Pontecorvo  3200.0  2023-07-03   \n",
       "\n",
       "   posti auto  bagni per stanza  bagni  stanze  ultimo piano  ...  \\\n",
       "0           1          0.333333    1.0     3.0             0  ...   \n",
       "1           0          0.500000    1.0     2.0             1  ...   \n",
       "2           1               NaN    3.0     NaN             0  ...   \n",
       "\n",
       "  giardino privato impianto allarme  portiere  piscina  villa  \\\n",
       "0                0                0         0        0      0   \n",
       "1                0                0         0        0      0   \n",
       "2                0                0         0        0      0   \n",
       "\n",
       "   intera proprieta  appartamento  attico  loft  mansarda  \n",
       "0                 0             1       0     0         0  \n",
       "1                 0             1       0     0         0  \n",
       "2                 0             1       0     0         0  \n",
       "\n",
       "[3 rows x 33 columns]"
      ]
     },
     "execution_count": 245,
     "metadata": {},
     "output_type": "execute_result"
    }
   ],
   "source": [
    "df_rent_clean = pd.read_csv(PATH + \"/rents_clean.csv\")\n",
    "df_rent_clean.head(3)"
   ]
  },
  {
   "cell_type": "markdown",
   "metadata": {},
   "source": [
    "DATA CLEANING"
   ]
  },
  {
   "cell_type": "code",
   "execution_count": 246,
   "metadata": {},
   "outputs": [
    {
     "data": {
      "text/html": [
       "<div>\n",
       "<style scoped>\n",
       "    .dataframe tbody tr th:only-of-type {\n",
       "        vertical-align: middle;\n",
       "    }\n",
       "\n",
       "    .dataframe tbody tr th {\n",
       "        vertical-align: top;\n",
       "    }\n",
       "\n",
       "    .dataframe thead th {\n",
       "        text-align: right;\n",
       "    }\n",
       "</style>\n",
       "<table border=\"1\" class=\"dataframe\">\n",
       "  <thead>\n",
       "    <tr style=\"text-align: right;\">\n",
       "      <th></th>\n",
       "      <th>region</th>\n",
       "      <th>city</th>\n",
       "      <th>quarter</th>\n",
       "      <th>price</th>\n",
       "      <th>datetime</th>\n",
       "      <th>parking_spaces</th>\n",
       "      <th>Bathrooms_per_room</th>\n",
       "      <th>bathrooms</th>\n",
       "      <th>rooms</th>\n",
       "      <th>top_floor</th>\n",
       "      <th>...</th>\n",
       "      <th>private_garden</th>\n",
       "      <th>alarm_system</th>\n",
       "      <th>doorman</th>\n",
       "      <th>pool</th>\n",
       "      <th>villa</th>\n",
       "      <th>full_ownership</th>\n",
       "      <th>apartment</th>\n",
       "      <th>penthouse</th>\n",
       "      <th>loft</th>\n",
       "      <th>mansard</th>\n",
       "    </tr>\n",
       "  </thead>\n",
       "  <tbody>\n",
       "    <tr>\n",
       "      <th>0</th>\n",
       "      <td>NaN</td>\n",
       "      <td>Milano</td>\n",
       "      <td>Centrale</td>\n",
       "      <td>1800.0</td>\n",
       "      <td>2023-07-03</td>\n",
       "      <td>1</td>\n",
       "      <td>0.333333</td>\n",
       "      <td>1.0</td>\n",
       "      <td>3.0</td>\n",
       "      <td>0</td>\n",
       "      <td>...</td>\n",
       "      <td>0</td>\n",
       "      <td>0</td>\n",
       "      <td>0</td>\n",
       "      <td>0</td>\n",
       "      <td>0</td>\n",
       "      <td>0</td>\n",
       "      <td>1</td>\n",
       "      <td>0</td>\n",
       "      <td>0</td>\n",
       "      <td>0</td>\n",
       "    </tr>\n",
       "    <tr>\n",
       "      <th>1</th>\n",
       "      <td>NaN</td>\n",
       "      <td>Torino</td>\n",
       "      <td>Santa Rita</td>\n",
       "      <td>450.0</td>\n",
       "      <td>2023-07-03</td>\n",
       "      <td>0</td>\n",
       "      <td>0.500000</td>\n",
       "      <td>1.0</td>\n",
       "      <td>2.0</td>\n",
       "      <td>1</td>\n",
       "      <td>...</td>\n",
       "      <td>0</td>\n",
       "      <td>0</td>\n",
       "      <td>0</td>\n",
       "      <td>0</td>\n",
       "      <td>0</td>\n",
       "      <td>0</td>\n",
       "      <td>1</td>\n",
       "      <td>0</td>\n",
       "      <td>0</td>\n",
       "      <td>0</td>\n",
       "    </tr>\n",
       "    <tr>\n",
       "      <th>2</th>\n",
       "      <td>NaN</td>\n",
       "      <td>Padova</td>\n",
       "      <td>Prato della Valle - Pontecorvo</td>\n",
       "      <td>3200.0</td>\n",
       "      <td>2023-07-03</td>\n",
       "      <td>1</td>\n",
       "      <td>NaN</td>\n",
       "      <td>3.0</td>\n",
       "      <td>NaN</td>\n",
       "      <td>0</td>\n",
       "      <td>...</td>\n",
       "      <td>0</td>\n",
       "      <td>0</td>\n",
       "      <td>0</td>\n",
       "      <td>0</td>\n",
       "      <td>0</td>\n",
       "      <td>0</td>\n",
       "      <td>1</td>\n",
       "      <td>0</td>\n",
       "      <td>0</td>\n",
       "      <td>0</td>\n",
       "    </tr>\n",
       "  </tbody>\n",
       "</table>\n",
       "<p>3 rows × 33 columns</p>\n",
       "</div>"
      ],
      "text/plain": [
       "  region    city                         quarter   price    datetime  \\\n",
       "0    NaN  Milano                        Centrale  1800.0  2023-07-03   \n",
       "1    NaN  Torino                      Santa Rita   450.0  2023-07-03   \n",
       "2    NaN  Padova  Prato della Valle - Pontecorvo  3200.0  2023-07-03   \n",
       "\n",
       "   parking_spaces  Bathrooms_per_room  bathrooms  rooms  top_floor  ...  \\\n",
       "0               1            0.333333        1.0    3.0          0  ...   \n",
       "1               0            0.500000        1.0    2.0          1  ...   \n",
       "2               1                 NaN        3.0    NaN          0  ...   \n",
       "\n",
       "  private_garden alarm_system  doorman  pool  villa  full_ownership  \\\n",
       "0              0            0        0     0      0               0   \n",
       "1              0            0        0     0      0               0   \n",
       "2              0            0        0     0      0               0   \n",
       "\n",
       "   apartment  penthouse  loft  mansard  \n",
       "0          1          0     0        0  \n",
       "1          1          0     0        0  \n",
       "2          1          0     0        0  \n",
       "\n",
       "[3 rows x 33 columns]"
      ]
     },
     "execution_count": 246,
     "metadata": {},
     "output_type": "execute_result"
    }
   ],
   "source": [
    "## translate columns in English\n",
    "def translate(italian_input):\n",
    "    return GoogleTranslator(source=\"it\", target=\"en\").translate(italian_input)\n",
    "\n",
    "columns_translated = [translate(c) for c in df_rent_clean.columns]\n",
    "columns_translated[12], columns_translated[-1] = \"sea_view\", \"mansard\"\n",
    "columns_translated = [c.replace(\" \", \"_\") for c in columns_translated]\n",
    "df_rent_clean.columns = columns_translated\n",
    "df_rent_clean.head(3)\n"
   ]
  },
  {
   "cell_type": "code",
   "execution_count": 247,
   "metadata": {},
   "outputs": [
    {
     "name": "stdout",
     "output_type": "stream",
     "text": [
      "12500000.0\n"
     ]
    },
    {
     "data": {
      "text/plain": [
       "Text(0.5, 1.0, 'Rent in €')"
      ]
     },
     "execution_count": 247,
     "metadata": {},
     "output_type": "execute_result"
    },
    {
     "data": {
      "image/png": "[encoded data removed]",
      "text/plain": [
       "<Figure size 640x480 with 1 Axes>"
      ]
     },
     "metadata": {},
     "output_type": "display_data"
    }
   ],
   "source": [
    "## drop outliers\n",
    "print(df_rent_clean[\"price\"].max())\n",
    "df_rent_clean = df_rent_clean.loc[df_rent_clean[\"price\"] < 5000]\n",
    "plt.hist(df_rent_clean[\"price\"], bins=50)\n",
    "plt.title(\"Rent in €\")"
   ]
  },
  {
   "cell_type": "code",
   "execution_count": 248,
   "metadata": {},
   "outputs": [
    {
     "data": {
      "text/plain": [
       "0        2023-07-03\n",
       "1        2023-07-03\n",
       "2        2023-07-03\n",
       "4        2023-05-29\n",
       "5        2023-11-27\n",
       "            ...    \n",
       "126232   2023-07-24\n",
       "126233   2023-07-24\n",
       "126234   2023-07-24\n",
       "126235   2023-07-24\n",
       "126236   2023-07-24\n",
       "Name: week, Length: 113226, dtype: datetime64[ns]"
      ]
     },
     "execution_count": 248,
     "metadata": {},
     "output_type": "execute_result"
    }
   ],
   "source": [
    "## clean datetime\n",
    "import datetime\n",
    "from datetime import date\n",
    "today = np.datetime64(date.today())\n",
    "full_calendar = pd.DataFrame(pd.date_range(start=\"2023-01-01\", end=today), columns=[\"datetime\"])\n",
    "\n",
    "df_rent_clean[\"datetime\"] = pd.to_datetime(df_rent_clean[\"datetime\"])\n",
    "df_rent_clean = df_rent_clean.loc[(df_rent_clean[\"datetime\"] > \"2023-01-01\") & (df_rent_clean[\"datetime\"] < today)]\n",
    "df_rent_clean[\"month\"] = df_rent_clean[\"datetime\"].dt.to_period(\"M\").dt.start_time\n",
    "df_rent_clean[\"week\"] = df_rent_clean[\"datetime\"].dt.to_period(\"W\").dt.start_time\n",
    "df_rent_clean[\"week\"]"
   ]
  },
  {
   "cell_type": "markdown",
   "metadata": {},
   "source": [
    "DATA EXPLORATION"
   ]
  },
  {
   "cell_type": "code",
   "execution_count": 249,
   "metadata": {},
   "outputs": [
    {
     "data": {
      "text/plain": [
       "region\n",
       "lombardia                23516\n",
       "lazio                    18265\n",
       "piemonte                 14967\n",
       "emilia-romagna           12347\n",
       "veneto                    7363\n",
       "toscana                   7058\n",
       "campania                  6381\n",
       "liguria                   5569\n",
       "sicilia                   5185\n",
       "marche                    2380\n",
       "puglia                    2372\n",
       "umbria                    2368\n",
       "abruzzo                   1617\n",
       "trentino-alto-adige       1243\n",
       "sardegna                   784\n",
       "calabria                   675\n",
       "basilicata                 250\n",
       "friuli-venezia-giulia      248\n",
       "valle-d-aosta              243\n",
       "molise                     240\n",
       "emilia-Romagna              66\n",
       "trieste                     25\n",
       "catanzaro                   21\n",
       "genova                       7\n",
       "palermo                      5\n",
       "bari                         4\n",
       "l-aquila                     3\n",
       "napoli                       3\n",
       "Liguria                      2\n",
       "torino                       2\n",
       "milano                       2\n",
       "ancona                       2\n",
       "venezia                      2\n",
       "Name: count, dtype: int64"
      ]
     },
     "execution_count": 249,
     "metadata": {},
     "output_type": "execute_result"
    }
   ],
   "source": [
    "df_rent_clean.region.value_counts().sort_values(ascending=False)"
   ]
  },
  {
   "cell_type": "code",
   "execution_count": 250,
   "metadata": {},
   "outputs": [
    {
     "data": {
      "text/plain": [
       "Text(0.5, 1.0, 'Squared meters')"
      ]
     },
     "execution_count": 250,
     "metadata": {},
     "output_type": "execute_result"
    },
    {
     "data": {
      "image/png": "[encoded data removed]",
      "text/plain": [
       "<Figure size 640x480 with 1 Axes>"
      ]
     },
     "metadata": {},
     "output_type": "display_data"
    }
   ],
   "source": [
    "## sq. meters\n",
    "plt.hist(df_rent_clean[\"surface\"], bins=50)\n",
    "plt.title(\"Squared meters\")"
   ]
  },
  {
   "cell_type": "code",
   "execution_count": 251,
   "metadata": {},
   "outputs": [
    {
     "data": {
      "text/plain": [
       "furnished\n",
       "1    72.502782\n",
       "0    27.497218\n",
       "Name: proportion, dtype: float64"
      ]
     },
     "execution_count": 251,
     "metadata": {},
     "output_type": "execute_result"
    }
   ],
   "source": [
    "## furnished\n",
    "df_rent_clean[\"furnished\"].value_counts(normalize=True)*100"
   ]
  },
  {
   "cell_type": "code",
   "execution_count": 252,
   "metadata": {},
   "outputs": [
    {
     "name": "stdout",
     "output_type": "stream",
     "text": [
      "{'Apartments': 103981, 'Villa': 4172, 'Attic': 2959, 'Loft': 397}\n"
     ]
    },
    {
     "data": {
      "text/plain": [
       "Text(0.5, 1.0, 'Flat type')"
      ]
     },
     "execution_count": 252,
     "metadata": {},
     "output_type": "execute_result"
    },
    {
     "data": {
      "image/png": "[encoded data removed]",
      "text/plain": [
       "<Figure size 640x480 with 1 Axes>"
      ]
     },
     "metadata": {},
     "output_type": "display_data"
    }
   ],
   "source": [
    "## type of building\n",
    "types = {\n",
    "    \"Apartments\": len(df_rent_clean.loc[df_rent_clean[\"apartment\"] == 1]),\n",
    "    \"Villa\": len(df_rent_clean.loc[df_rent_clean[\"villa\"] == 1]),\n",
    "    \"Attic\": len(df_rent_clean.loc[df_rent_clean[\"penthouse\"] == 1]) + len(df_rent_clean.loc[df_rent_clean[\"mansard\"] == 1]),\n",
    "    \"Loft\": len(df_rent_clean.loc[df_rent_clean[\"loft\"] == 1])\n",
    "}\n",
    "print(types)\n",
    "plt.bar(types.keys(), types.values())\n",
    "plt.title(\"Flat type\")"
   ]
  },
  {
   "cell_type": "markdown",
   "metadata": {},
   "source": [
    "GEOGRAPHICAL ANALYSIS"
   ]
  },
  {
   "cell_type": "code",
   "execution_count": 253,
   "metadata": {},
   "outputs": [
    {
     "data": {
      "text/plain": [
       "Text(0, 0.5, 'Region')"
      ]
     },
     "execution_count": 253,
     "metadata": {},
     "output_type": "execute_result"
    },
    {
     "data": {
      "image/png": "[encoded data removed]",
      "text/plain": [
       "<Figure size 640x480 with 1 Axes>"
      ]
     },
     "metadata": {},
     "output_type": "display_data"
    }
   ],
   "source": [
    "## price by region\n",
    "price_by_region = df_rent_clean[\"price\"].groupby(df_rent_clean[\"region\"]).mean().sort_values(ascending=True)\n",
    "fig1, ax = plt.subplots()\n",
    "ax.barh(price_by_region.index, price_by_region)\n",
    "ax.set_title(f\"ITALIAN RENTS: \\n Price by Region\")\n",
    "ax.set_xlabel(\"Euros\")\n",
    "ax.set_ylabel(\"Region\")"
   ]
  },
  {
   "cell_type": "code",
   "execution_count": 254,
   "metadata": {},
   "outputs": [],
   "source": [
    "# get centroids coordinates from geojson\n",
    "def get_area_centroids(geo_file):\n",
    "    coords = gpd.read_file(geo_file)\n",
    "    # Convert to a projected CRS (e.g., EPSG:3857 or EPSG:3035)\n",
    "    coords = coords.to_crs(epsg=3857)\n",
    "    centroids = coords.geometry.centroid\n",
    "    coords[\"geometry\"] = centroids\n",
    "    coords = coords.to_crs(epsg=4326)\n",
    "    lon = coords.geometry.x\n",
    "    lat = coords.geometry.y\n",
    "    coords[\"lat\"], coords[\"lon\"] = lat, lon\n",
    "    return coords\n",
    "    "
   ]
  },
  {
   "cell_type": "code",
   "execution_count": 255,
   "metadata": {},
   "outputs": [],
   "source": [
    "regions_json = \"italy-house-prices/versions/8/limits_IT_regions.geojson\"\n",
    "provs_json = \"italy-house-prices/versions/8/limits_IT_provinces.geojson\"\n",
    "municipalities_json = \"italy-house-prices/versions/8/limits_IT_municipalities.geojson\"\n",
    "\n",
    "region_coords = get_area_centroids(regions_json)\n",
    "provinces_coords = get_area_centroids(provs_json)\n",
    "municipalities_coords = get_area_centroids(municipalities_json)\n",
    "\n"
   ]
  },
  {
   "cell_type": "code",
   "execution_count": 256,
   "metadata": {},
   "outputs": [],
   "source": [
    "# plot prices by area\n",
    "def map_prices_plot(prices_by_area, type_of_area):\n",
    "    fig = px.scatter_map(\n",
    "        prices_by_area, lat=\"lat\", lon=\"lon\",\n",
    "        hover_name=type_of_area,\n",
    "        hover_data=[\"price\"],\n",
    "        color=\"price\",\n",
    "        color_continuous_scale=\"turbo\",\n",
    "        range_color=(0, 2000),\n",
    "        size=\"price\",\n",
    "        zoom=5,\n",
    "        center=dict(lat=41.8719, lon=12.5674),\n",
    "        opacity=0.5,\n",
    "        labels={\"price\": \"Price in €\"},\n",
    "        height=700, width=700\n",
    "    )\n",
    "\n",
    "    fig.update_layout(mapbox_style=\"open-street-map\")\n",
    "    fig.update_layout(margin={\"r\":5, \"t\":0, \"l\":0, \"b\":0})\n",
    "    fig.show()\n",
    "\n",
    "\n"
   ]
  },
  {
   "cell_type": "code",
   "execution_count": 257,
   "metadata": {},
   "outputs": [
    {
     "data": {
      "application/vnd.plotly.v1+json": {
       "config": {
        "plotlyServerURL": "https://plot.ly"
       },
       "data": [
        {
         "customdata": {
          "bdata": "PusGUyTTf0BI4XoUrh+CQN7d3d3d5YJAR2dmi6aBg0DcHs9dlIOHQFYNe1YNo4dAK/AjDZ3wh0AxavjbFGuIQEknFR844ohAXmH5mCcJikCI/l9dsH6KQBWMgabZnI1Aj+Ne04NckEAKXk7BiwuSQKnPIFPdkZJAfoayy8jQk0AzuzOE/HWXQA==",
          "dtype": "f8",
          "shape": "17, 1"
         },
         "hovertemplate": "<b>%{hovertext}</b><br><br>Price in €=%{marker.color}<br>lat=%{lat}<br>lon=%{lon}<extra></extra>",
         "hovertext": [
          "Umbria",
          "Basilicata",
          "Molise",
          "Piemonte",
          "Sicilia",
          "Marche",
          "Abruzzo",
          "Calabria",
          "Puglia",
          "Campania",
          "Liguria",
          "Veneto",
          "Emilia-Romagna",
          "Sardegna",
          "Lazio",
          "Toscana",
          "Lombardia"
         ],
         "lat": {
          "bdata": "7nYadOV7RUDsKDOxOEBEQITbOMml10RAAEGsCa+IRkAZa8glrctCQKA1vJBwrEVAjTKrI1UdRUCmtaVQhIlDQEe1DSPQfkRA/2VZLnduREAxYbvdCyJGQKbcTmaX00ZAKxntuV5DRkDqDYnJTAxEQNBpeYDs/URAOtEqaG+6RUBVY0XJEtBGQA==",
          "dtype": "f8"
         },
         "legendgroup": "",
         "lon": {
          "bdata": "H1DLk7f6KEBwJfb1xBQwQFKBt63sMC1AxEw2deayH0B4PtfpiUosQFoLyqc6SCpAgQWjwnS1K0BSDEYMJFkwQNVQR4XAnDBA+EBnS2atLUC9rUSFe2khQMiYhXmqtidAg6czW8ITJkBHCjYk7Q8iQBuaA/10hylAX+gAUt8/JkDEqXAux4kjQA==",
          "dtype": "f8"
         },
         "marker": {
          "color": {
           "bdata": "PusGUyTTf0BI4XoUrh+CQN7d3d3d5YJAR2dmi6aBg0DcHs9dlIOHQFYNe1YNo4dAK/AjDZ3wh0AxavjbFGuIQEknFR844ohAXmH5mCcJikCI/l9dsH6KQBWMgabZnI1Aj+Ne04NckEAKXk7BiwuSQKnPIFPdkZJAfoayy8jQk0AzuzOE/HWXQA==",
           "dtype": "f8"
          },
          "coloraxis": "coloraxis",
          "opacity": 0.5,
          "size": {
           "bdata": "PusGUyTTf0BI4XoUrh+CQN7d3d3d5YJAR2dmi6aBg0DcHs9dlIOHQFYNe1YNo4dAK/AjDZ3wh0AxavjbFGuIQEknFR844ohAXmH5mCcJikCI/l9dsH6KQBWMgabZnI1Aj+Ne04NckEAKXk7BiwuSQKnPIFPdkZJAfoayy8jQk0AzuzOE/HWXQA==",
           "dtype": "f8"
          },
          "sizemode": "area",
          "sizeref": 3.7537414951522368
         },
         "mode": "markers",
         "name": "",
         "showlegend": false,
         "subplot": "map",
         "type": "scattermap"
        }
       ],
       "layout": {
        "coloraxis": {
         "cmax": 2000,
         "cmin": 0,
         "colorbar": {
          "title": {
           "text": "Price in €"
          }
         },
         "colorscale": [
          [
           0,
           "#30123b"
          ],
          [
           0.07142857142857142,
           "#4145ab"
          ],
          [
           0.14285714285714285,
           "#4675ed"
          ],
          [
           0.21428571428571427,
           "#39a2fc"
          ],
          [
           0.2857142857142857,
           "#1bcfd4"
          ],
          [
           0.35714285714285715,
           "#24eca6"
          ],
          [
           0.42857142857142855,
           "#61fc6c"
          ],
          [
           0.5,
           "#a4fc3b"
          ],
          [
           0.5714285714285714,
           "#d1e834"
          ],
          [
           0.6428571428571429,
           "#f3c63a"
          ],
          [
           0.7142857142857143,
           "#fe9b2d"
          ],
          [
           0.7857142857142857,
           "#f36315"
          ],
          [
           0.8571428571428571,
           "#d93806"
          ],
          [
           0.9285714285714286,
           "#b11901"
          ],
          [
           1,
           "#7a0402"
          ]
         ]
        },
        "height": 700,
        "legend": {
         "itemsizing": "constant",
         "tracegroupgap": 0
        },
        "map": {
         "center": {
          "lat": 41.8719,
          "lon": 12.5674
         },
         "domain": {
          "x": [
           0,
           1
          ],
          "y": [
           0,
           1
          ]
         },
         "zoom": 5
        },
        "mapbox": {
         "center": {
          "lat": 41.8719,
          "lon": 12.5674
         },
         "style": "open-street-map",
         "zoom": 5
        },
        "margin": {
         "b": 0,
         "l": 0,
         "r": 5,
         "t": 0
        },
        "template": {
         "data": {
          "bar": [
           {
            "error_x": {
             "color": "#2a3f5f"
            },
            "error_y": {
             "color": "#2a3f5f"
            },
            "marker": {
             "line": {
              "color": "#E5ECF6",
              "width": 0.5
             },
             "pattern": {
              "fillmode": "overlay",
              "size": 10,
              "solidity": 0.2
             }
            },
            "type": "bar"
           }
          ],
          "barpolar": [
           {
            "marker": {
             "line": {
              "color": "#E5ECF6",
              "width": 0.5
             },
             "pattern": {
              "fillmode": "overlay",
              "size": 10,
              "solidity": 0.2
             }
            },
            "type": "barpolar"
           }
          ],
          "carpet": [
           {
            "aaxis": {
             "endlinecolor": "#2a3f5f",
             "gridcolor": "white",
             "linecolor": "white",
             "minorgridcolor": "white",
             "startlinecolor": "#2a3f5f"
            },
            "baxis": {
             "endlinecolor": "#2a3f5f",
             "gridcolor": "white",
             "linecolor": "white",
             "minorgridcolor": "white",
             "startlinecolor": "#2a3f5f"
            },
            "type": "carpet"
           }
          ],
          "choropleth": [
           {
            "colorbar": {
             "outlinewidth": 0,
             "ticks": ""
            },
            "type": "choropleth"
           }
          ],
          "contour": [
           {
            "colorbar": {
             "outlinewidth": 0,
             "ticks": ""
            },
            "colorscale": [
             [
              0,
              "#0d0887"
             ],
             [
              0.1111111111111111,
              "#46039f"
             ],
             [
              0.2222222222222222,
              "#7201a8"
             ],
             [
              0.3333333333333333,
              "#9c179e"
             ],
             [
              0.4444444444444444,
              "#bd3786"
             ],
             [
              0.5555555555555556,
              "#d8576b"
             ],
             [
              0.6666666666666666,
              "#ed7953"
             ],
             [
              0.7777777777777778,
              "#fb9f3a"
             ],
             [
              0.8888888888888888,
              "#fdca26"
             ],
             [
              1,
              "#f0f921"
             ]
            ],
            "type": "contour"
           }
          ],
          "contourcarpet": [
           {
            "colorbar": {
             "outlinewidth": 0,
             "ticks": ""
            },
            "type": "contourcarpet"
           }
          ],
          "heatmap": [
           {
            "colorbar": {
             "outlinewidth": 0,
             "ticks": ""
            },
            "colorscale": [
             [
              0,
              "#0d0887"
             ],
             [
              0.1111111111111111,
              "#46039f"
             ],
             [
              0.2222222222222222,
              "#7201a8"
             ],
             [
              0.3333333333333333,
              "#9c179e"
             ],
             [
              0.4444444444444444,
              "#bd3786"
             ],
             [
              0.5555555555555556,
              "#d8576b"
             ],
             [
              0.6666666666666666,
              "#ed7953"
             ],
             [
              0.7777777777777778,
              "#fb9f3a"
             ],
             [
              0.8888888888888888,
              "#fdca26"
             ],
             [
              1,
              "#f0f921"
             ]
            ],
            "type": "heatmap"
           }
          ],
          "histogram": [
           {
            "marker": {
             "pattern": {
              "fillmode": "overlay",
              "size": 10,
              "solidity": 0.2
             }
            },
            "type": "histogram"
           }
          ],
          "histogram2d": [
           {
            "colorbar": {
             "outlinewidth": 0,
             "ticks": ""
            },
            "colorscale": [
             [
              0,
              "#0d0887"
             ],
             [
              0.1111111111111111,
              "#46039f"
             ],
             [
              0.2222222222222222,
              "#7201a8"
             ],
             [
              0.3333333333333333,
              "#9c179e"
             ],
             [
              0.4444444444444444,
              "#bd3786"
             ],
             [
              0.5555555555555556,
              "#d8576b"
             ],
             [
              0.6666666666666666,
              "#ed7953"
             ],
             [
              0.7777777777777778,
              "#fb9f3a"
             ],
             [
              0.8888888888888888,
              "#fdca26"
             ],
             [
              1,
              "#f0f921"
             ]
            ],
            "type": "histogram2d"
           }
          ],
          "histogram2dcontour": [
           {
            "colorbar": {
             "outlinewidth": 0,
             "ticks": ""
            },
            "colorscale": [
             [
              0,
              "#0d0887"
             ],
             [
              0.1111111111111111,
              "#46039f"
             ],
             [
              0.2222222222222222,
              "#7201a8"
             ],
             [
              0.3333333333333333,
              "#9c179e"
             ],
             [
              0.4444444444444444,
              "#bd3786"
             ],
             [
              0.5555555555555556,
              "#d8576b"
             ],
             [
              0.6666666666666666,
              "#ed7953"
             ],
             [
              0.7777777777777778,
              "#fb9f3a"
             ],
             [
              0.8888888888888888,
              "#fdca26"
             ],
             [
              1,
              "#f0f921"
             ]
            ],
            "type": "histogram2dcontour"
           }
          ],
          "mesh3d": [
           {
            "colorbar": {
             "outlinewidth": 0,
             "ticks": ""
            },
            "type": "mesh3d"
           }
          ],
          "parcoords": [
           {
            "line": {
             "colorbar": {
              "outlinewidth": 0,
              "ticks": ""
             }
            },
            "type": "parcoords"
           }
          ],
          "pie": [
           {
            "automargin": true,
            "type": "pie"
           }
          ],
          "scatter": [
           {
            "fillpattern": {
             "fillmode": "overlay",
             "size": 10,
             "solidity": 0.2
            },
            "type": "scatter"
           }
          ],
          "scatter3d": [
           {
            "line": {
             "colorbar": {
              "outlinewidth": 0,
              "ticks": ""
             }
            },
            "marker": {
             "colorbar": {
              "outlinewidth": 0,
              "ticks": ""
             }
            },
            "type": "scatter3d"
           }
          ],
          "scattercarpet": [
           {
            "marker": {
             "colorbar": {
              "outlinewidth": 0,
              "ticks": ""
             }
            },
            "type": "scattercarpet"
           }
          ],
          "scattergeo": [
           {
            "marker": {
             "colorbar": {
              "outlinewidth": 0,
              "ticks": ""
             }
            },
            "type": "scattergeo"
           }
          ],
          "scattergl": [
           {
            "marker": {
             "colorbar": {
              "outlinewidth": 0,
              "ticks": ""
             }
            },
            "type": "scattergl"
           }
          ],
          "scattermap": [
           {
            "marker": {
             "colorbar": {
              "outlinewidth": 0,
              "ticks": ""
             }
            },
            "type": "scattermap"
           }
          ],
          "scattermapbox": [
           {
            "marker": {
             "colorbar": {
              "outlinewidth": 0,
              "ticks": ""
             }
            },
            "type": "scattermapbox"
           }
          ],
          "scatterpolar": [
           {
            "marker": {
             "colorbar": {
              "outlinewidth": 0,
              "ticks": ""
             }
            },
            "type": "scatterpolar"
           }
          ],
          "scatterpolargl": [
           {
            "marker": {
             "colorbar": {
              "outlinewidth": 0,
              "ticks": ""
             }
            },
            "type": "scatterpolargl"
           }
          ],
          "scatterternary": [
           {
            "marker": {
             "colorbar": {
              "outlinewidth": 0,
              "ticks": ""
             }
            },
            "type": "scatterternary"
           }
          ],
          "surface": [
           {
            "colorbar": {
             "outlinewidth": 0,
             "ticks": ""
            },
            "colorscale": [
             [
              0,
              "#0d0887"
             ],
             [
              0.1111111111111111,
              "#46039f"
             ],
             [
              0.2222222222222222,
              "#7201a8"
             ],
             [
              0.3333333333333333,
              "#9c179e"
             ],
             [
              0.4444444444444444,
              "#bd3786"
             ],
             [
              0.5555555555555556,
              "#d8576b"
             ],
             [
              0.6666666666666666,
              "#ed7953"
             ],
             [
              0.7777777777777778,
              "#fb9f3a"
             ],
             [
              0.8888888888888888,
              "#fdca26"
             ],
             [
              1,
              "#f0f921"
             ]
            ],
            "type": "surface"
           }
          ],
          "table": [
           {
            "cells": {
             "fill": {
              "color": "#EBF0F8"
             },
             "line": {
              "color": "white"
             }
            },
            "header": {
             "fill": {
              "color": "#C8D4E3"
             },
             "line": {
              "color": "white"
             }
            },
            "type": "table"
           }
          ]
         },
         "layout": {
          "annotationdefaults": {
           "arrowcolor": "#2a3f5f",
           "arrowhead": 0,
           "arrowwidth": 1
          },
          "autotypenumbers": "strict",
          "coloraxis": {
           "colorbar": {
            "outlinewidth": 0,
            "ticks": ""
           }
          },
          "colorscale": {
           "diverging": [
            [
             0,
             "#8e0152"
            ],
            [
             0.1,
             "#c51b7d"
            ],
            [
             0.2,
             "#de77ae"
            ],
            [
             0.3,
             "#f1b6da"
            ],
            [
             0.4,
             "#fde0ef"
            ],
            [
             0.5,
             "#f7f7f7"
            ],
            [
             0.6,
             "#e6f5d0"
            ],
            [
             0.7,
             "#b8e186"
            ],
            [
             0.8,
             "#7fbc41"
            ],
            [
             0.9,
             "#4d9221"
            ],
            [
             1,
             "#276419"
            ]
           ],
           "sequential": [
            [
             0,
             "#0d0887"
            ],
            [
             0.1111111111111111,
             "#46039f"
            ],
            [
             0.2222222222222222,
             "#7201a8"
            ],
            [
             0.3333333333333333,
             "#9c179e"
            ],
            [
             0.4444444444444444,
             "#bd3786"
            ],
            [
             0.5555555555555556,
             "#d8576b"
            ],
            [
             0.6666666666666666,
             "#ed7953"
            ],
            [
             0.7777777777777778,
             "#fb9f3a"
            ],
            [
             0.8888888888888888,
             "#fdca26"
            ],
            [
             1,
             "#f0f921"
            ]
           ],
           "sequentialminus": [
            [
             0,
             "#0d0887"
            ],
            [
             0.1111111111111111,
             "#46039f"
            ],
            [
             0.2222222222222222,
             "#7201a8"
            ],
            [
             0.3333333333333333,
             "#9c179e"
            ],
            [
             0.4444444444444444,
             "#bd3786"
            ],
            [
             0.5555555555555556,
             "#d8576b"
            ],
            [
             0.6666666666666666,
             "#ed7953"
            ],
            [
             0.7777777777777778,
             "#fb9f3a"
            ],
            [
             0.8888888888888888,
             "#fdca26"
            ],
            [
             1,
             "#f0f921"
            ]
           ]
          },
          "colorway": [
           "#636efa",
           "#EF553B",
           "#00cc96",
           "#ab63fa",
           "#FFA15A",
           "#19d3f3",
           "#FF6692",
           "#B6E880",
           "#FF97FF",
           "#FECB52"
          ],
          "font": {
           "color": "#2a3f5f"
          },
          "geo": {
           "bgcolor": "white",
           "lakecolor": "white",
           "landcolor": "#E5ECF6",
           "showlakes": true,
           "showland": true,
           "subunitcolor": "white"
          },
          "hoverlabel": {
           "align": "left"
          },
          "hovermode": "closest",
          "mapbox": {
           "style": "light"
          },
          "paper_bgcolor": "white",
          "plot_bgcolor": "#E5ECF6",
          "polar": {
           "angularaxis": {
            "gridcolor": "white",
            "linecolor": "white",
            "ticks": ""
           },
           "bgcolor": "#E5ECF6",
           "radialaxis": {
            "gridcolor": "white",
            "linecolor": "white",
            "ticks": ""
           }
          },
          "scene": {
           "xaxis": {
            "backgroundcolor": "#E5ECF6",
            "gridcolor": "white",
            "gridwidth": 2,
            "linecolor": "white",
            "showbackground": true,
            "ticks": "",
            "zerolinecolor": "white"
           },
           "yaxis": {
            "backgroundcolor": "#E5ECF6",
            "gridcolor": "white",
            "gridwidth": 2,
            "linecolor": "white",
            "showbackground": true,
            "ticks": "",
            "zerolinecolor": "white"
           },
           "zaxis": {
            "backgroundcolor": "#E5ECF6",
            "gridcolor": "white",
            "gridwidth": 2,
            "linecolor": "white",
            "showbackground": true,
            "ticks": "",
            "zerolinecolor": "white"
           }
          },
          "shapedefaults": {
           "line": {
            "color": "#2a3f5f"
           }
          },
          "ternary": {
           "aaxis": {
            "gridcolor": "white",
            "linecolor": "white",
            "ticks": ""
           },
           "baxis": {
            "gridcolor": "white",
            "linecolor": "white",
            "ticks": ""
           },
           "bgcolor": "#E5ECF6",
           "caxis": {
            "gridcolor": "white",
            "linecolor": "white",
            "ticks": ""
           }
          },
          "title": {
           "x": 0.05
          },
          "xaxis": {
           "automargin": true,
           "gridcolor": "white",
           "linecolor": "white",
           "ticks": "",
           "title": {
            "standoff": 15
           },
           "zerolinecolor": "white",
           "zerolinewidth": 2
          },
          "yaxis": {
           "automargin": true,
           "gridcolor": "white",
           "linecolor": "white",
           "ticks": "",
           "title": {
            "standoff": 15
           },
           "zerolinecolor": "white",
           "zerolinewidth": 2
          }
         }
        },
        "width": 700
       }
      }
     },
     "metadata": {},
     "output_type": "display_data"
    }
   ],
   "source": [
    "## group by region\n",
    "df_rent_clean[\"region\"] = df_rent_clean[\"region\"].str.title()\n",
    "prices_by_region = df_rent_clean.merge(region_coords, left_on=\"region\", right_on=\"reg_name\", how=\"left\")\n",
    "prices_by_region = prices_by_region.groupby([\"region\", \"lat\", \"lon\"]).agg({\"price\": \"mean\"}).reset_index().sort_values(by=[\"price\"], ascending=True)\n",
    "prices_by_region = prices_by_region[[\"region\", \"lat\", \"lon\", \"price\"]]\n",
    "prices_by_region = prices_by_region.dropna(subset=[\"lat\", \"lon\"])\n",
    "\n",
    "map_prices_plot(prices_by_region, \"region\")\n"
   ]
  },
  {
   "cell_type": "code",
   "execution_count": 258,
   "metadata": {},
   "outputs": [
    {
     "data": {
      "application/vnd.plotly.v1+json": {
       "config": {
        "plotlyServerURL": "https://plot.ly"
       },
       "data": [
        {
         "customdata": {
          "bdata": "AAAAAAAAJECrqqqqqqp1QMTDw8PDI3pAkQeuop2pekCSAfVM5Xp7QEb6PkvE0HtAwa1ywa3yfECfdYMp8sl9QFVVVVVVRX5A9DE4H4OTfkBddNFFFxd/QAAAAAAAIH9AAAAAAMA+f0AoKCgoKIh/QA8PDw8PtX9ALisGSnjTf0DZdLLYdBqAQDmO4ziOO4BApAJfXP1ggEDD5kCiFXiAQOaxFUHDqYBAJUmSJMk/gUDx8PDw8NyBQDT5skGT34FAdNFFF11YgkCk3FQ0T8SCQG7btm3b1oJAkiRJkiTZgkAyxhhjjOGCQBvKayiv4YJAAAAAAMgzg0AcOHDgwDmDQCryWTeYWoNAAAAAAACHg0CIxvrQWI+DQGIndmInzINAMQzDMAwThEC/9Eu/9FOEQLtvCo+3lYRAptl3afaZhEAAAAAAALCEQMXPKPEz/oRAJrw3UrMEhUD2KFyPwnWFQCnxM0r8rIVADqbIZ90ohkCTJk2aNLWGQNVqQ+QILYdAq6qqqqqKh0AIH3zwwc+HQF100UVX/YdAl8vlcrkuiEC8cBA9vlOIQCHQFAJNYYhAYHnOqNJmiEBOEUbEtnaIQCBiaosPeIhAB2NWGj2CiEC3bdu2bbuIQInalahd6YhAp2mapmmKiUDV77klTqGJQHy4ovXF94lAWYEw0o79iUCb9ykuGQKKQJkgWiaINopA+ePW5R2AikCIxvrQWBuLQKuqqqqqmotAQNh4NH/Ii0A67ykXxgCMQOF6FK5HXYxAPQrXo3CVjEA1cRirreOMQFkqYqmI9YxAx3Ecx3FkjUCkS1G+q4aNQEA35umjnY1AKH3SJ30ojkBmZmZmZnyOQKuqqqqqAJBAWkxnMZ1VkEByHMdxrGyQQAXzRZVbp5BAVYinSJptkUDRo4mia62RQFOAo50eU5JARSwVsTS7k0BEIbmA18eTQIUDrciFF5VA//ojwsZ6mkC9Hf1vWGObQA==",
          "dtype": "f8",
          "shape": "92, 1"
         },
         "hovertemplate": "<b>%{hovertext}</b><br><br>Price in €=%{marker.color}<br>lat=%{lat}<br>lon=%{lon}<extra></extra>",
         "hovertext": [
          "Nuoro",
          "Vibo Valentia",
          "Isernia",
          "Terni",
          "Asti",
          "Alessandria",
          "Biella",
          "Chieti",
          "Sondrio",
          "Cuneo",
          "Vercelli",
          "Enna",
          "Potenza",
          "Caltanissetta",
          "Viterbo",
          "Macerata",
          "Foggia",
          "Trapani",
          "Campobasso",
          "Perugia",
          "Cremona",
          "Rovigo",
          "Avellino",
          "Arezzo",
          "Benevento",
          "Caserta",
          "Oristano",
          "Teramo",
          "Ascoli Piceno",
          "Rieti",
          "L'Aquila",
          "Novara",
          "Taranto",
          "Pavia",
          "Lodi",
          "Frosinone",
          "Cosenza",
          "Matera",
          "Ancona",
          "Piacenza",
          "Sassari",
          "Pistoia",
          "Genova",
          "Fermo",
          "Mantova",
          "Ferrara",
          "Brindisi",
          "Torino",
          "Catania",
          "Imperia",
          "Ravenna",
          "Messina",
          "Agrigento",
          "La Spezia",
          "Siracusa",
          "Palermo",
          "Catanzaro",
          "Lecce",
          "Ragusa",
          "Lecco",
          "Savona",
          "Trento",
          "Livorno",
          "Siena",
          "Grosseto",
          "Parma",
          "Trieste",
          "Salerno",
          "Latina",
          "Rimini",
          "Pisa",
          "Varese",
          "Prato",
          "Bari",
          "Brescia",
          "Lucca",
          "Padova",
          "Verona",
          "Bergamo",
          "Pescara",
          "Belluno",
          "Cagliari",
          "Modena",
          "Treviso",
          "Vicenza",
          "Napoli",
          "Venezia",
          "Roma",
          "Como",
          "Bologna",
          "Firenze",
          "Milano"
         ],
         "lat": {
          "bdata": "iU9x+HsXRECrb5aBBFBDQLQqDWgp00RAZMbi3R9VRUAiX5ZPZXBGQCj9nh0pakZAC0AdbZDKRkAAqn3O5wxFQDMEoIoYJkdAzas68Ck9RkBwjajgdMNGQBV8iwJhykJAm4++EV9CREBemLZYxa1CQOJhPVVaNkVADowbcUmYRUB+fRbaBMVEQJktDTDt50JAYV2fQP/ZREAPTKy0t4hFQB6N0GsgnEZAKwKellqBRkAKiG06CX1EQIH9YKlsxEVA7dEYTryeREAzYBB25JtEQAIfY5XD/kNAE4vT+ZxSRUDa1D90qnFFQHOGit1BMEVAXu7ChXcNRUBMNTlFMMhGQOUnuKBiRURA1eMTsACORkCP0a/PmZ1GQM93E6DLzkRAvWujUn3IQ0Coh6BOIjxEQL0JDfiBwEVAE7ZspQ1vRkDJZP57v19EQGCdKhXl+0VAfnopLNw7RkBDZ3sxt4xFQBjOFo79j0ZAH2VyaPJkRkCm83JlBE5EQCV6A32ukkZAPjoOk7rBQkBtXS7EKvlFQJB4QI6UL0ZAD6/Y1QEFQ0BiOK1KGLdCQO7k0zwaHUZAm0XnAceJQkAGf1YUWO9CQGMUOTbBckNAbwYbTD0WREB72LVWNHRCQJi+gnzN80ZAhNadGx0kRkDbAI3LXxFHQPxHDN7MkkVAa6LEF46YRUBRk2gJ9GRFQIq2ktjXVUZA+jdnOWDYRkCbiPezmzhEQDBtF/futkRAIbAxQqv2RUCd8vUEXcBFQEqiC2YP50ZA1mrPmM35RUCKjk5oNXdEQMtII0wc2kZAXjezg7cARkAwlmJSy6xGQELNF9xwtUZAB7ZcQBLmRkB9bx/liSpFQEeKvbnJJ0dArINSNZOaQ0A2sLB43ERGQNApIkPC5UZA/bGEQ1rWRkBsfqoJHWxEQO7WIYDvwEZAz8ucLj72REDXV9LOAvdGQOKXdjBBN0ZAaOAEFMHoRUBGRuyWGbtGQA==",
          "dtype": "f8"
         },
         "legendgroup": "",
         "lon": {
          "bdata": "BJpAP/K8IkCtcVJwXCkwQCAZk7TVfyxAHmO4X5G7KEC7thOBH18gQM6J3jZxUyFACSWT9YEwIEAXwGsHkMMsQEnBI9Ii0yNADwuq8lJaHkCJZtwU92ogQGWDYRXv2yxAoE6lDWHHL0D4sbEGFyUsQADpjkBk/SdAkOshyqx6KkAFV8xVEB8vQIK4pzjYaSlARwK207aNLUAaaAgDqw8pQNqqpBOi/CNAb7qQTPzZJ0DMP93weyguQBdNZbiltidAtslhfa6ALUDoOK7zVVIsQBLemLv9biFAoa6dWQ10K0CBuTrLORwrQLfA+znE6ylAzBBjGAw0K0DKh7t0iRshQNwp+jWQMzFA6rdo+rgSIkD0EogyqygjQIJo8NckEitArQm3TYBSMEBaFkv5C3IwQJBNZIiJTypASQk5f709I0D732YM+e0hQGxBWL2isiVAiU9XnFM+IkBae8orcCcrQJ9K/LnphSVAU8XhF++xJ0A9Vrrs3bAxQJMBvML0wR1A41h8MuqoLUAFDZKY4TofQPiLxKRD/idA7kVbk8TiLUDTYcZKJQQrQG4TFSgjdiNA6cZ4LzcPLkCfeI1IQCwrQMqeFoiGfTBAq6smc2QtMkDzydabcV0tQCLxQbNlxSJASN2oSaKUIECIsoyB4j0mQKt9KyQ69SRAEfoX3lnpJkA0IOR+7XwmQJtngpd5GCRAzQfCXeCHK0DLtaYdenUuQHcaYE3iSSpAt7Sm8kHhKEBKokm9blUlQK7CKBNXjSFAhL5jvLgvJkBE6Z8GYcAwQFSXRUjdnyRAmSGl94ffJEBNJ2AtuZ0nQNCLTc5tEiZAAaTFgI+TI0Byizkr0fcrQN1V9s72UShAvpKLWww3IkBzIsJKNMklQOK3ur1ibyhAwI3lLUX7JkALQJE9Pa8sQGnP/tG96ihAU9LCV3skKUCm6qGkN04iQE2y1j4dsiZAR4mvck+VJkCr6VIlAD8iQA==",
          "dtype": "f8"
         },
         "marker": {
          "color": {
           "bdata": "AAAAAAAAJECrqqqqqqp1QMTDw8PDI3pAkQeuop2pekCSAfVM5Xp7QEb6PkvE0HtAwa1ywa3yfECfdYMp8sl9QFVVVVVVRX5A9DE4H4OTfkBddNFFFxd/QAAAAAAAIH9AAAAAAMA+f0AoKCgoKIh/QA8PDw8PtX9ALisGSnjTf0DZdLLYdBqAQDmO4ziOO4BApAJfXP1ggEDD5kCiFXiAQOaxFUHDqYBAJUmSJMk/gUDx8PDw8NyBQDT5skGT34FAdNFFF11YgkCk3FQ0T8SCQG7btm3b1oJAkiRJkiTZgkAyxhhjjOGCQBvKayiv4YJAAAAAAMgzg0AcOHDgwDmDQCryWTeYWoNAAAAAAACHg0CIxvrQWI+DQGIndmInzINAMQzDMAwThEC/9Eu/9FOEQLtvCo+3lYRAptl3afaZhEAAAAAAALCEQMXPKPEz/oRAJrw3UrMEhUD2KFyPwnWFQCnxM0r8rIVADqbIZ90ohkCTJk2aNLWGQNVqQ+QILYdAq6qqqqqKh0AIH3zwwc+HQF100UVX/YdAl8vlcrkuiEC8cBA9vlOIQCHQFAJNYYhAYHnOqNJmiEBOEUbEtnaIQCBiaosPeIhAB2NWGj2CiEC3bdu2bbuIQInalahd6YhAp2mapmmKiUDV77klTqGJQHy4ovXF94lAWYEw0o79iUCb9ykuGQKKQJkgWiaINopA+ePW5R2AikCIxvrQWBuLQKuqqqqqmotAQNh4NH/Ii0A67ykXxgCMQOF6FK5HXYxAPQrXo3CVjEA1cRirreOMQFkqYqmI9YxAx3Ecx3FkjUCkS1G+q4aNQEA35umjnY1AKH3SJ30ojkBmZmZmZnyOQKuqqqqqAJBAWkxnMZ1VkEByHMdxrGyQQAXzRZVbp5BAVYinSJptkUDRo4mia62RQFOAo50eU5JARSwVsTS7k0BEIbmA18eTQIUDrciFF5VA//ojwsZ6mkC9Hf1vWGObQA==",
           "dtype": "f8"
          },
          "coloraxis": "coloraxis",
          "opacity": 0.5,
          "size": {
           "bdata": "AAAAAAAAJECrqqqqqqp1QMTDw8PDI3pAkQeuop2pekCSAfVM5Xp7QEb6PkvE0HtAwa1ywa3yfECfdYMp8sl9QFVVVVVVRX5A9DE4H4OTfkBddNFFFxd/QAAAAAAAIH9AAAAAAMA+f0AoKCgoKIh/QA8PDw8PtX9ALisGSnjTf0DZdLLYdBqAQDmO4ziOO4BApAJfXP1ggEDD5kCiFXiAQOaxFUHDqYBAJUmSJMk/gUDx8PDw8NyBQDT5skGT34FAdNFFF11YgkCk3FQ0T8SCQG7btm3b1oJAkiRJkiTZgkAyxhhjjOGCQBvKayiv4YJAAAAAAMgzg0AcOHDgwDmDQCryWTeYWoNAAAAAAACHg0CIxvrQWI+DQGIndmInzINAMQzDMAwThEC/9Eu/9FOEQLtvCo+3lYRAptl3afaZhEAAAAAAALCEQMXPKPEz/oRAJrw3UrMEhUD2KFyPwnWFQCnxM0r8rIVADqbIZ90ohkCTJk2aNLWGQNVqQ+QILYdAq6qqqqqKh0AIH3zwwc+HQF100UVX/YdAl8vlcrkuiEC8cBA9vlOIQCHQFAJNYYhAYHnOqNJmiEBOEUbEtnaIQCBiaosPeIhAB2NWGj2CiEC3bdu2bbuIQInalahd6YhAp2mapmmKiUDV77klTqGJQHy4ovXF94lAWYEw0o79iUCb9ykuGQKKQJkgWiaINopA+ePW5R2AikCIxvrQWBuLQKuqqqqqmotAQNh4NH/Ii0A67ykXxgCMQOF6FK5HXYxAPQrXo3CVjEA1cRirreOMQFkqYqmI9YxAx3Ecx3FkjUCkS1G+q4aNQEA35umjnY1AKH3SJ30ojkBmZmZmZnyOQKuqqqqqAJBAWkxnMZ1VkEByHMdxrGyQQAXzRZVbp5BAVYinSJptkUDRo4mia62RQFOAo50eU5JARSwVsTS7k0BEIbmA18eTQIUDrciFF5VA//ojwsZ6mkC9Hf1vWGObQA==",
           "dtype": "f8"
          },
          "sizemode": "area",
          "sizeref": 4.382090911757803
         },
         "mode": "markers",
         "name": "",
         "showlegend": false,
         "subplot": "map",
         "type": "scattermap"
        }
       ],
       "layout": {
        "coloraxis": {
         "cmax": 2000,
         "cmin": 0,
         "colorbar": {
          "title": {
           "text": "Price in €"
          }
         },
         "colorscale": [
          [
           0,
           "#30123b"
          ],
          [
           0.07142857142857142,
           "#4145ab"
          ],
          [
           0.14285714285714285,
           "#4675ed"
          ],
          [
           0.21428571428571427,
           "#39a2fc"
          ],
          [
           0.2857142857142857,
           "#1bcfd4"
          ],
          [
           0.35714285714285715,
           "#24eca6"
          ],
          [
           0.42857142857142855,
           "#61fc6c"
          ],
          [
           0.5,
           "#a4fc3b"
          ],
          [
           0.5714285714285714,
           "#d1e834"
          ],
          [
           0.6428571428571429,
           "#f3c63a"
          ],
          [
           0.7142857142857143,
           "#fe9b2d"
          ],
          [
           0.7857142857142857,
           "#f36315"
          ],
          [
           0.8571428571428571,
           "#d93806"
          ],
          [
           0.9285714285714286,
           "#b11901"
          ],
          [
           1,
           "#7a0402"
          ]
         ]
        },
        "height": 700,
        "legend": {
         "itemsizing": "constant",
         "tracegroupgap": 0
        },
        "map": {
         "center": {
          "lat": 41.8719,
          "lon": 12.5674
         },
         "domain": {
          "x": [
           0,
           1
          ],
          "y": [
           0,
           1
          ]
         },
         "zoom": 5
        },
        "mapbox": {
         "center": {
          "lat": 41.8719,
          "lon": 12.5674
         },
         "style": "open-street-map",
         "zoom": 5
        },
        "margin": {
         "b": 0,
         "l": 0,
         "r": 5,
         "t": 0
        },
        "template": {
         "data": {
          "bar": [
           {
            "error_x": {
             "color": "#2a3f5f"
            },
            "error_y": {
             "color": "#2a3f5f"
            },
            "marker": {
             "line": {
              "color": "#E5ECF6",
              "width": 0.5
             },
             "pattern": {
              "fillmode": "overlay",
              "size": 10,
              "solidity": 0.2
             }
            },
            "type": "bar"
           }
          ],
          "barpolar": [
           {
            "marker": {
             "line": {
              "color": "#E5ECF6",
              "width": 0.5
             },
             "pattern": {
              "fillmode": "overlay",
              "size": 10,
              "solidity": 0.2
             }
            },
            "type": "barpolar"
           }
          ],
          "carpet": [
           {
            "aaxis": {
             "endlinecolor": "#2a3f5f",
             "gridcolor": "white",
             "linecolor": "white",
             "minorgridcolor": "white",
             "startlinecolor": "#2a3f5f"
            },
            "baxis": {
             "endlinecolor": "#2a3f5f",
             "gridcolor": "white",
             "linecolor": "white",
             "minorgridcolor": "white",
             "startlinecolor": "#2a3f5f"
            },
            "type": "carpet"
           }
          ],
          "choropleth": [
           {
            "colorbar": {
             "outlinewidth": 0,
             "ticks": ""
            },
            "type": "choropleth"
           }
          ],
          "contour": [
           {
            "colorbar": {
             "outlinewidth": 0,
             "ticks": ""
            },
            "colorscale": [
             [
              0,
              "#0d0887"
             ],
             [
              0.1111111111111111,
              "#46039f"
             ],
             [
              0.2222222222222222,
              "#7201a8"
             ],
             [
              0.3333333333333333,
              "#9c179e"
             ],
             [
              0.4444444444444444,
              "#bd3786"
             ],
             [
              0.5555555555555556,
              "#d8576b"
             ],
             [
              0.6666666666666666,
              "#ed7953"
             ],
             [
              0.7777777777777778,
              "#fb9f3a"
             ],
             [
              0.8888888888888888,
              "#fdca26"
             ],
             [
              1,
              "#f0f921"
             ]
            ],
            "type": "contour"
           }
          ],
          "contourcarpet": [
           {
            "colorbar": {
             "outlinewidth": 0,
             "ticks": ""
            },
            "type": "contourcarpet"
           }
          ],
          "heatmap": [
           {
            "colorbar": {
             "outlinewidth": 0,
             "ticks": ""
            },
            "colorscale": [
             [
              0,
              "#0d0887"
             ],
             [
              0.1111111111111111,
              "#46039f"
             ],
             [
              0.2222222222222222,
              "#7201a8"
             ],
             [
              0.3333333333333333,
              "#9c179e"
             ],
             [
              0.4444444444444444,
              "#bd3786"
             ],
             [
              0.5555555555555556,
              "#d8576b"
             ],
             [
              0.6666666666666666,
              "#ed7953"
             ],
             [
              0.7777777777777778,
              "#fb9f3a"
             ],
             [
              0.8888888888888888,
              "#fdca26"
             ],
             [
              1,
              "#f0f921"
             ]
            ],
            "type": "heatmap"
           }
          ],
          "histogram": [
           {
            "marker": {
             "pattern": {
              "fillmode": "overlay",
              "size": 10,
              "solidity": 0.2
             }
            },
            "type": "histogram"
           }
          ],
          "histogram2d": [
           {
            "colorbar": {
             "outlinewidth": 0,
             "ticks": ""
            },
            "colorscale": [
             [
              0,
              "#0d0887"
             ],
             [
              0.1111111111111111,
              "#46039f"
             ],
             [
              0.2222222222222222,
              "#7201a8"
             ],
             [
              0.3333333333333333,
              "#9c179e"
             ],
             [
              0.4444444444444444,
              "#bd3786"
             ],
             [
              0.5555555555555556,
              "#d8576b"
             ],
             [
              0.6666666666666666,
              "#ed7953"
             ],
             [
              0.7777777777777778,
              "#fb9f3a"
             ],
             [
              0.8888888888888888,
              "#fdca26"
             ],
             [
              1,
              "#f0f921"
             ]
            ],
            "type": "histogram2d"
           }
          ],
          "histogram2dcontour": [
           {
            "colorbar": {
             "outlinewidth": 0,
             "ticks": ""
            },
            "colorscale": [
             [
              0,
              "#0d0887"
             ],
             [
              0.1111111111111111,
              "#46039f"
             ],
             [
              0.2222222222222222,
              "#7201a8"
             ],
             [
              0.3333333333333333,
              "#9c179e"
             ],
             [
              0.4444444444444444,
              "#bd3786"
             ],
             [
              0.5555555555555556,
              "#d8576b"
             ],
             [
              0.6666666666666666,
              "#ed7953"
             ],
             [
              0.7777777777777778,
              "#fb9f3a"
             ],
             [
              0.8888888888888888,
              "#fdca26"
             ],
             [
              1,
              "#f0f921"
             ]
            ],
            "type": "histogram2dcontour"
           }
          ],
          "mesh3d": [
           {
            "colorbar": {
             "outlinewidth": 0,
             "ticks": ""
            },
            "type": "mesh3d"
           }
          ],
          "parcoords": [
           {
            "line": {
             "colorbar": {
              "outlinewidth": 0,
              "ticks": ""
             }
            },
            "type": "parcoords"
           }
          ],
          "pie": [
           {
            "automargin": true,
            "type": "pie"
           }
          ],
          "scatter": [
           {
            "fillpattern": {
             "fillmode": "overlay",
             "size": 10,
             "solidity": 0.2
            },
            "type": "scatter"
           }
          ],
          "scatter3d": [
           {
            "line": {
             "colorbar": {
              "outlinewidth": 0,
              "ticks": ""
             }
            },
            "marker": {
             "colorbar": {
              "outlinewidth": 0,
              "ticks": ""
             }
            },
            "type": "scatter3d"
           }
          ],
          "scattercarpet": [
           {
            "marker": {
             "colorbar": {
              "outlinewidth": 0,
              "ticks": ""
             }
            },
            "type": "scattercarpet"
           }
          ],
          "scattergeo": [
           {
            "marker": {
             "colorbar": {
              "outlinewidth": 0,
              "ticks": ""
             }
            },
            "type": "scattergeo"
           }
          ],
          "scattergl": [
           {
            "marker": {
             "colorbar": {
              "outlinewidth": 0,
              "ticks": ""
             }
            },
            "type": "scattergl"
           }
          ],
          "scattermap": [
           {
            "marker": {
             "colorbar": {
              "outlinewidth": 0,
              "ticks": ""
             }
            },
            "type": "scattermap"
           }
          ],
          "scattermapbox": [
           {
            "marker": {
             "colorbar": {
              "outlinewidth": 0,
              "ticks": ""
             }
            },
            "type": "scattermapbox"
           }
          ],
          "scatterpolar": [
           {
            "marker": {
             "colorbar": {
              "outlinewidth": 0,
              "ticks": ""
             }
            },
            "type": "scatterpolar"
           }
          ],
          "scatterpolargl": [
           {
            "marker": {
             "colorbar": {
              "outlinewidth": 0,
              "ticks": ""
             }
            },
            "type": "scatterpolargl"
           }
          ],
          "scatterternary": [
           {
            "marker": {
             "colorbar": {
              "outlinewidth": 0,
              "ticks": ""
             }
            },
            "type": "scatterternary"
           }
          ],
          "surface": [
           {
            "colorbar": {
             "outlinewidth": 0,
             "ticks": ""
            },
            "colorscale": [
             [
              0,
              "#0d0887"
             ],
             [
              0.1111111111111111,
              "#46039f"
             ],
             [
              0.2222222222222222,
              "#7201a8"
             ],
             [
              0.3333333333333333,
              "#9c179e"
             ],
             [
              0.4444444444444444,
              "#bd3786"
             ],
             [
              0.5555555555555556,
              "#d8576b"
             ],
             [
              0.6666666666666666,
              "#ed7953"
             ],
             [
              0.7777777777777778,
              "#fb9f3a"
             ],
             [
              0.8888888888888888,
              "#fdca26"
             ],
             [
              1,
              "#f0f921"
             ]
            ],
            "type": "surface"
           }
          ],
          "table": [
           {
            "cells": {
             "fill": {
              "color": "#EBF0F8"
             },
             "line": {
              "color": "white"
             }
            },
            "header": {
             "fill": {
              "color": "#C8D4E3"
             },
             "line": {
              "color": "white"
             }
            },
            "type": "table"
           }
          ]
         },
         "layout": {
          "annotationdefaults": {
           "arrowcolor": "#2a3f5f",
           "arrowhead": 0,
           "arrowwidth": 1
          },
          "autotypenumbers": "strict",
          "coloraxis": {
           "colorbar": {
            "outlinewidth": 0,
            "ticks": ""
           }
          },
          "colorscale": {
           "diverging": [
            [
             0,
             "#8e0152"
            ],
            [
             0.1,
             "#c51b7d"
            ],
            [
             0.2,
             "#de77ae"
            ],
            [
             0.3,
             "#f1b6da"
            ],
            [
             0.4,
             "#fde0ef"
            ],
            [
             0.5,
             "#f7f7f7"
            ],
            [
             0.6,
             "#e6f5d0"
            ],
            [
             0.7,
             "#b8e186"
            ],
            [
             0.8,
             "#7fbc41"
            ],
            [
             0.9,
             "#4d9221"
            ],
            [
             1,
             "#276419"
            ]
           ],
           "sequential": [
            [
             0,
             "#0d0887"
            ],
            [
             0.1111111111111111,
             "#46039f"
            ],
            [
             0.2222222222222222,
             "#7201a8"
            ],
            [
             0.3333333333333333,
             "#9c179e"
            ],
            [
             0.4444444444444444,
             "#bd3786"
            ],
            [
             0.5555555555555556,
             "#d8576b"
            ],
            [
             0.6666666666666666,
             "#ed7953"
            ],
            [
             0.7777777777777778,
             "#fb9f3a"
            ],
            [
             0.8888888888888888,
             "#fdca26"
            ],
            [
             1,
             "#f0f921"
            ]
           ],
           "sequentialminus": [
            [
             0,
             "#0d0887"
            ],
            [
             0.1111111111111111,
             "#46039f"
            ],
            [
             0.2222222222222222,
             "#7201a8"
            ],
            [
             0.3333333333333333,
             "#9c179e"
            ],
            [
             0.4444444444444444,
             "#bd3786"
            ],
            [
             0.5555555555555556,
             "#d8576b"
            ],
            [
             0.6666666666666666,
             "#ed7953"
            ],
            [
             0.7777777777777778,
             "#fb9f3a"
            ],
            [
             0.8888888888888888,
             "#fdca26"
            ],
            [
             1,
             "#f0f921"
            ]
           ]
          },
          "colorway": [
           "#636efa",
           "#EF553B",
           "#00cc96",
           "#ab63fa",
           "#FFA15A",
           "#19d3f3",
           "#FF6692",
           "#B6E880",
           "#FF97FF",
           "#FECB52"
          ],
          "font": {
           "color": "#2a3f5f"
          },
          "geo": {
           "bgcolor": "white",
           "lakecolor": "white",
           "landcolor": "#E5ECF6",
           "showlakes": true,
           "showland": true,
           "subunitcolor": "white"
          },
          "hoverlabel": {
           "align": "left"
          },
          "hovermode": "closest",
          "mapbox": {
           "style": "light"
          },
          "paper_bgcolor": "white",
          "plot_bgcolor": "#E5ECF6",
          "polar": {
           "angularaxis": {
            "gridcolor": "white",
            "linecolor": "white",
            "ticks": ""
           },
           "bgcolor": "#E5ECF6",
           "radialaxis": {
            "gridcolor": "white",
            "linecolor": "white",
            "ticks": ""
           }
          },
          "scene": {
           "xaxis": {
            "backgroundcolor": "#E5ECF6",
            "gridcolor": "white",
            "gridwidth": 2,
            "linecolor": "white",
            "showbackground": true,
            "ticks": "",
            "zerolinecolor": "white"
           },
           "yaxis": {
            "backgroundcolor": "#E5ECF6",
            "gridcolor": "white",
            "gridwidth": 2,
            "linecolor": "white",
            "showbackground": true,
            "ticks": "",
            "zerolinecolor": "white"
           },
           "zaxis": {
            "backgroundcolor": "#E5ECF6",
            "gridcolor": "white",
            "gridwidth": 2,
            "linecolor": "white",
            "showbackground": true,
            "ticks": "",
            "zerolinecolor": "white"
           }
          },
          "shapedefaults": {
           "line": {
            "color": "#2a3f5f"
           }
          },
          "ternary": {
           "aaxis": {
            "gridcolor": "white",
            "linecolor": "white",
            "ticks": ""
           },
           "baxis": {
            "gridcolor": "white",
            "linecolor": "white",
            "ticks": ""
           },
           "bgcolor": "#E5ECF6",
           "caxis": {
            "gridcolor": "white",
            "linecolor": "white",
            "ticks": ""
           }
          },
          "title": {
           "x": 0.05
          },
          "xaxis": {
           "automargin": true,
           "gridcolor": "white",
           "linecolor": "white",
           "ticks": "",
           "title": {
            "standoff": 15
           },
           "zerolinecolor": "white",
           "zerolinewidth": 2
          },
          "yaxis": {
           "automargin": true,
           "gridcolor": "white",
           "linecolor": "white",
           "ticks": "",
           "title": {
            "standoff": 15
           },
           "zerolinecolor": "white",
           "zerolinewidth": 2
          }
         }
        },
        "width": 700
       }
      }
     },
     "metadata": {},
     "output_type": "display_data"
    }
   ],
   "source": [
    "## group by province\n",
    "prices_by_province = df_rent_clean.merge(provinces_coords, left_on=\"city\", right_on=\"prov_name\", how=\"left\")\n",
    "prices_by_province = prices_by_province.groupby([\"city\", \"lat\", \"lon\"]).agg({\"price\": \"mean\"}).reset_index().sort_values(by=[\"price\"], ascending=True)\n",
    "prices_by_province = prices_by_province[[\"city\", \"lat\", \"lon\", \"price\"]]\n",
    "prices_by_province = prices_by_province.dropna(subset=[\"lat\", \"lon\"])\n",
    "\n",
    "map_prices_plot(prices_by_province, \"city\")"
   ]
  },
  {
   "cell_type": "code",
   "execution_count": 259,
   "metadata": {},
   "outputs": [
    {
     "data": {
      "application/vnd.plotly.v1+json": {
       "config": {
        "plotlyServerURL": "https://plot.ly"
       },
       "data": [
        {
         "customdata": {
          "bdata": "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",
          "dtype": "f8",
          "shape": "4041, 1"
         },
         "hovertemplate": "<b>%{hovertext}</b><br><br>Price in €=%{marker.color}<br>lat=%{lat}<br>lon=%{lon}<extra></extra>",
         "hovertext": [
          "Incudine",
          "Frosolone",
          "Nuoro",
          "Canna",
          "Tesero",
          "Crevoladossola",
          "Sant'Antioco",
          "Calasetta",
          "Sannicola",
          "Baradili",
          "Cerreto di Spoleto",
          "Massignano",
          "Vercana",
          "Mattie",
          "Pitigliano",
          "Casalbordino",
          "Bioglio",
          "San Marzano sul Sarno",
          "Gavorrano",
          "Monte Porzio",
          "Muro Lucano",
          "Issiglio",
          "Grana",
          "Roccabascerana",
          "Bistagno",
          "Donato",
          "Guglionesi",
          "Palma di Montechiaro",
          "Buonalbergo",
          "Angrogna",
          "Taverna",
          "Silvano Pietra",
          "Ferriere",
          "Chiaromonte",
          "Gropparello",
          "Ronco Canavese",
          "Ribordone",
          "Molino dei Torti",
          "San Fele",
          "San Costantino Albanese",
          "Urbe",
          "Valbondione",
          "Ribera",
          "Lizzano",
          "Vallemaio",
          "Montesano sulla Marcellana",
          "Cantoira",
          "Racale",
          "Monastero di Lanzo",
          "Parodi Ligure",
          "Trinitapoli",
          "Grosio",
          "Germagnano",
          "Lucera",
          "Grassano",
          "Monteflavio",
          "Abbadia San Salvatore",
          "Santo Stefano d'Aveto",
          "Coggiola",
          "Oricola",
          "Fornelli",
          "Fontanigorda",
          "Sant'Arsenio",
          "Olevano Romano",
          "Zeri",
          "Francavilla in Sinni",
          "Giardinello",
          "Berchidda",
          "Balsorano",
          "Cusano Mutri",
          "Cunico",
          "Ascoli Satriano",
          "Ceresole Reale",
          "Montezemolo",
          "Grammichele",
          "Riofreddo",
          "Piozzo",
          "Raffadali",
          "Lauro",
          "Vallo di Nera",
          "Terenzo",
          "Pratella",
          "Pramollo",
          "Perlo",
          "Pietravairano",
          "Gavignano",
          "Lungavilla",
          "Borgiallo",
          "Ticineto",
          "Villar San Costanzo",
          "Casoli",
          "Apricena",
          "Gabiano",
          "Durazzano",
          "Monale",
          "Cabella Ligure",
          "Rodì Milici",
          "Castello di Annone",
          "Sesto Campano",
          "Viù",
          "Leonforte",
          "Serravalle Scrivia",
          "Moriondo Torinese",
          "Frugarolo",
          "Montorio Romano",
          "Otricoli",
          "Valduggia",
          "Montaldo di Mondovì",
          "Bronte",
          "Forino",
          "Folignano",
          "Sezzadio",
          "Carapelle",
          "Tiglieto",
          "Prata di Principato Ultra",
          "Monchiero",
          "Blera",
          "Ferrera di Varese",
          "Sagliano Micca",
          "Castell'Alfero",
          "Montagnareale",
          "Poggiardo",
          "Cellio con Breia",
          "Matino",
          "Tornimparte",
          "Castelletto d'Orba",
          "Trentinara",
          "Vallerano",
          "Visone",
          "Traves",
          "Brienza",
          "Corleto Perticara",
          "Belvedere Langhe",
          "Morozzo",
          "Rocca Santa Maria",
          "Vasanello",
          "Popoli",
          "San Germano Chisone",
          "Strevi",
          "Rocca di Cambio",
          "Graglia",
          "Sant'Egidio alla Vibrata",
          "Castiglione di Garfagnana",
          "Crocefieschi",
          "Roure",
          "Sant'Angelo in Vado",
          "Favara",
          "Valgioie",
          "Carona",
          "Mazzo di Valtellina",
          "Allein",
          "Zubiena",
          "Carovilli",
          "Villa Santa Maria",
          "Capizzi",
          "Custonaci",
          "Dazio",
          "Piglio",
          "Piraino",
          "Aramengo",
          "Gorla Maggiore",
          "Arcevia",
          "Toffia",
          "Villa Minozzo",
          "Civitella San Paolo",
          "Camerano Casasco",
          "Baranello",
          "Mondaino",
          "Montemarano",
          "Aragona",
          "Montelepre",
          "Gissi",
          "Veglio",
          "San Gregorio Magno",
          "Arienzo",
          "Melissano",
          "Serra Sant'Abbondio",
          "Civiasco",
          "Molini di Triora",
          "Reitano",
          "Murello",
          "Piode",
          "Badalucco",
          "Camisano",
          "Sammichele di Bari",
          "Santa Ninfa",
          "Montevago",
          "Valfornace",
          "Capestrano",
          "Maletto",
          "Apice",
          "Pontecorvo",
          "Specchia",
          "Roasio",
          "Tarano",
          "Inverso Pinasca",
          "Soriano nel Cimino",
          "Mareno di Piave",
          "Castel San Niccolò",
          "Gesualdo",
          "Catignano",
          "Pettinengo",
          "Altavilla Irpina",
          "Albugnano",
          "Sambuca Pistoiese",
          "Dego",
          "Fossa",
          "Lumarzo",
          "Pentone",
          "Lorsica",
          "Sambuca di Sicilia",
          "Castropignano",
          "Ollomont",
          "Borghetto di Vara",
          "Castell'Umberto",
          "Zelbio",
          "Aielli",
          "Zumaglia",
          "Corte Brugnatella",
          "Bossolasco",
          "Posta Fibreno",
          "Borzonasca",
          "Petralia Sottana",
          "Presenzano",
          "Sigillo",
          "Somano",
          "Fluminimaggiore",
          "Castellana Sicula",
          "Vigliano d'Asti",
          "Perosa Argentina",
          "Casalborgone",
          "Camigliano",
          "Bettola",
          "Dusino San Michele",
          "Occhieppo Inferiore",
          "Sanfront",
          "Davagna",
          "Sant'Omobono Terme",
          "Rotondi",
          "Castelsardo",
          "Pieve Santo Stefano",
          "Ferrere",
          "Capo di Ponte",
          "Aiello del Sabato",
          "Roccavione",
          "Pieve di Cento",
          "Bibiana",
          "Corleone",
          "Varallo",
          "San Donato Val di Comino",
          "Bracigliano",
          "Entracque",
          "Varsi",
          "Amorosi",
          "Piasco",
          "Cerrione",
          "Montecarotto",
          "Mombaruzzo",
          "Borgetto",
          "Chiusavecchia",
          "Cursi",
          "Satriano di Lucania",
          "San Vittore del Lazio",
          "Prata Sannita",
          "Melazzo",
          "San Martino Canavese",
          "Chiusano di San Domenico",
          "San Giovanni Gemini",
          "Cortandone",
          "Moconesi",
          "Colleretto Castelnuovo",
          "Tollegno",
          "Sassoferrato",
          "Villar Pellice",
          "Pignataro Maggiore",
          "Striano",
          "Rocca Grimalda",
          "Rionero in Vulture",
          "Villafranca in Lunigiana",
          "Bossico",
          "Treville",
          "Magliano Alpi",
          "Schilpario",
          "Verolengo",
          "Salza Irpina",
          "Monleale",
          "Quargnento",
          "Liveri",
          "Pont-Canavese",
          "Pratola Serra",
          "Cesinali",
          "Quincinetto",
          "Ormea",
          "Montoggio",
          "Civezza",
          "Challand-Saint-Victor",
          "Cassano Spinola",
          "Antrodoco",
          "Castagnole Monferrato",
          "Arcidosso",
          "Pontecurone",
          "Umbertide",
          "Arignano",
          "Attigliano",
          "Campoli Appennino",
          "Livorno Ferraris",
          "Ponzano Romano",
          "Bellona",
          "Mongrando",
          "Robilante",
          "Recale",
          "Fabrica di Roma",
          "Poggio Moiano",
          "Bojano",
          "Villar Perosa",
          "Castelnuovo Belbo",
          "Cineto Romano",
          "Monastero di Vasco",
          "Carsoli",
          "Valdilana",
          "Pralungo",
          "Tertenia",
          "Albuzzano",
          "Filottrano",
          "Calimera",
          "San Giorio di Susa",
          "Chiusa di San Michele",
          "San Costanzo",
          "Alife",
          "Castelvenere",
          "Lama Mocogno",
          "Ceranesi",
          "Andorno Micca",
          "Cervinara",
          "Mercenasco",
          "Briga Alta",
          "Massa di Somma",
          "Manocalzati",
          "Caprie",
          "Bagnolo Piemonte",
          "Grumo Appula",
          "Lentini",
          "Lugnano in Teverina",
          "Vibo Valentia",
          "Rubiana",
          "Salussola",
          "Montechiaro d'Asti",
          "Montefusco",
          "Acquapendente",
          "Acqualagna",
          "Francofonte",
          "Frassinello Monferrato",
          "Adrano",
          "Perrero",
          "Boscoreale",
          "Sala Monferrato",
          "Sant'Omero",
          "Masserano",
          "Mura",
          "Nusco",
          "Piovà Massaia",
          "Guiglia",
          "Baldichieri d'Asti",
          "Vallerotonda",
          "Ghilarza",
          "Pozzolo Formigaro",
          "Balvano",
          "Aurano",
          "Succivo",
          "Demonte",
          "Sant'Angelo dei Lombardi",
          "Fivizzano",
          "Solto Collina",
          "Castel Viscardo",
          "Tricarico",
          "Cavallerleone",
          "Gratteri",
          "Montaldo Torinese",
          "Atella",
          "Padula",
          "Taurano",
          "Robbio",
          "Vigolo",
          "Barbania",
          "Caramanico Terme",
          "Montefortino",
          "Mazzarino",
          "Andrano",
          "Lioni",
          "Serradifalco",
          "San Gregorio da Sassola",
          "Charvensod",
          "Esperia",
          "Marmirolo",
          "Marradi",
          "Marsico Nuovo",
          "San Marzano Oliveto",
          "Frontone",
          "Pettoranello del Molise",
          "Lecce nei Marsi",
          "Brossasco",
          "San Massimo",
          "Brignano-Frascata",
          "San Nazzaro",
          "Belmonte Mezzagno",
          "Pray",
          "Brusnengo",
          "Piancastagnaio",
          "Guardea",
          "Cassolnovo",
          "Cortemilia",
          "Venasca",
          "Ostiano",
          "Morano sul Po",
          "San Polo dei Cavalieri",
          "Morciano di Leuca",
          "Arnad",
          "Lavello",
          "Buseto Palizzolo",
          "Bassano Romano",
          "Gaiola",
          "San Lorenzo in Campo",
          "Camagna Monferrato",
          "Gambasca",
          "Loranzè",
          "Monte Vidon Combatte",
          "Palestro",
          "Secinaro",
          "Lauria",
          "Cassinasco",
          "Mele",
          "Farigliano",
          "Scilla",
          "Roviano",
          "Masi Torello",
          "Marta",
          "Trivigno",
          "Sestino",
          "Fiorano Canavese",
          "Villamagna",
          "Piedimonte Etneo",
          "Casola Valsenio",
          "Santa Vittoria in Matenano",
          "Paola",
          "Rocca San Casciano",
          "Minucciano",
          "Settimo Rottaro",
          "Ischia di Castro",
          "Rocca de' Baldi",
          "Castelnuovo Scrivia",
          "Castelmauro",
          "Castelletto Cervo",
          "Sassocorvaro Auditore",
          "Maleo",
          "Fontana Liri",
          "Telese Terme",
          "Senise",
          "Villanova Solaro",
          "Alta Val Tidone",
          "Netro",
          "Bernezzo",
          "Chiusa di Pesio",
          "Castelplanio",
          "Barge",
          "Settime",
          "Castiglione in Teverina",
          "Montecreto",
          "Castel Boglione",
          "Pignola",
          "Castellazzo Bormida",
          "Ficarolo",
          "Neirone",
          "Rossana",
          "Bondeno",
          "Piegaro",
          "Macerata Campania",
          "Carpegna",
          "Envie",
          "Villafranca d'Asti",
          "Siniscola",
          "Val di Chy",
          "Fabro",
          "Monteu Roero",
          "Scarnafigi",
          "Comiso",
          "Pietramelara",
          "San Pietro Val Lemina",
          "Tagliolo Monferrato",
          "San Damiano d'Asti",
          "Ovada",
          "Vallo della Lucania",
          "Arquata Scrivia",
          "Erve",
          "Poppi",
          "Carisio",
          "Cagli",
          "Montjovet",
          "Guarene",
          "Patrica",
          "Cervarese Santa Croce",
          "Campomorone",
          "Acquedolci",
          "Casalnoceto",
          "Carrosio",
          "Sapri",
          "Giano dell'Umbria",
          "Candelo",
          "Ceva",
          "Villadose",
          "Narzole",
          "Saint-Christophe",
          "Poggio Imperiale",
          "Roburent",
          "Supino",
          "Montoro",
          "Molare",
          "Coazze",
          "Benna",
          "Ferentillo",
          "Costigliole Saluzzo",
          "Chianciano Terme",
          "Tarantasca",
          "Fossato di Vico",
          "Avigliano Umbro",
          "Grazzanise",
          "Montelupo Albese",
          "Macello",
          "Nazzano",
          "Recoaro Terme",
          "Poli",
          "Quinto Vercellese",
          "Pavone Canavese",
          "Esino Lario",
          "Nole",
          "Cervaro",
          "Andezeno",
          "Mignanego",
          "Sant'Angelo Romano",
          "Chignolo Po",
          "Agliè",
          "Torre Santa Susanna",
          "Ranzanico",
          "Valle di Maddaloni",
          "Serra San Quirico",
          "Champorcher",
          "Lu e Cuccaro Monferrato",
          "Gorreto",
          "Bellante",
          "Marciano della Chiana",
          "Castiglion Fibocchi",
          "Monte San Giovanni Campano",
          "Santa Maria Nuova",
          "Trivigliano",
          "Laino",
          "Arce",
          "Castel Ritaldi",
          "Neviano degli Arduini",
          "Spezzano della Sila",
          "Balangero",
          "Bosconero",
          "Collazzone",
          "San Salvatore Monferrato",
          "Pralormo",
          "Polonghera",
          "Canelli",
          "Borgofranco d'Ivrea",
          "Quarona",
          "Dronero",
          "Frossasco",
          "Corio",
          "San Secondo di Pinerolo",
          "Ghemme",
          "Sinnai",
          "Pofi",
          "Saponara",
          "Virle Piemonte",
          "Baiano",
          "Baldissero d'Alba",
          "Vernasca",
          "Annicco",
          "Castelbuono",
          "Picinisco",
          "Torchiara",
          "Oviglio",
          "Ariano Irpino",
          "Cuasso al Monte",
          "Cuglieri",
          "Curino",
          "Palagonia",
          "Introbio",
          "Solarolo Rainerio",
          "San Leucio del Sannio",
          "Lagnasco",
          "Mombello di Torino",
          "Torre Canavese",
          "Pratola Peligna",
          "Vetto",
          "Velo d'Astico",
          "Poggio Nativo",
          "Cene",
          "Lucoli",
          "Montalbano Elicona",
          "Civitella in Val di Chiana",
          "Vitulazio",
          "Poirino",
          "Romagnano Sesia",
          "Massa d'Albe",
          "Capriglio",
          "Campobello di Licata",
          "Miradolo Terme",
          "Mollia",
          "Subiaco",
          "Caraglio",
          "San Giorgio Canavese",
          "Castelmassa",
          "Osasio",
          "Cavallermaggiore",
          "Atessa",
          "Bobbio Pellice",
          "Cori",
          "Lumezzane",
          "Busano",
          "Verrès",
          "Boves",
          "Torre Pellice",
          "Sciolze",
          "Sperone",
          "Scarmagno",
          "Pontelongo",
          "Spinazzola",
          "Cantalupo in Sabina",
          "Cingoli",
          "Lequio Tanaro",
          "Camugnano",
          "Paglieta",
          "Sant'Alfio",
          "Serravalle Sesia",
          "Arpaia",
          "Castelraimondo",
          "Ceresole Alba",
          "Camerino",
          "Roccavignale",
          "Posada",
          "Castagnole Piemonte",
          "San Severo",
          "Casarano",
          "Crescentino",
          "Pianella",
          "Villareggia",
          "San Michele di Serino",
          "Breno",
          "Piedimonte San Germano",
          "Calatabiano",
          "Aidone",
          "Oria",
          "San Sebastiano da Po",
          "Piadena Drizzona",
          "Colazza",
          "Montemiletto",
          "Borgomasino",
          "Casargo",
          "Casale Monferrato",
          "Arrone",
          "Nova Siri",
          "Montecorvino Rovella",
          "Amandola",
          "Trino",
          "Varisella",
          "Gualdo Cattaneo",
          "Galatone",
          "Gavardo",
          "Grizzana Morandi",
          "Marliana",
          "Silvano d'Orba",
          "Diano d'Alba",
          "Ceprano",
          "Romano Canavese",
          "Sarnano",
          "Castiglion Fiorentino",
          "Busalla",
          "Castelnuovo Don Bosco",
          "Arsiero",
          "Castelmarte",
          "Vescovana",
          "Sale",
          "Borghetto di Borbera",
          "Sala Consilina",
          "Fiuminata",
          "Fiumefreddo di Sicilia",
          "Ozieri",
          "Isola Dovarese",
          "Ionadi",
          "Paceco",
          "Zollino",
          "Alanno",
          "Miasino",
          "Murisengo",
          "Levone",
          "Pacentro",
          "Carinaro",
          "Armeno",
          "Torrebelvicino",
          "Arpaise",
          "Caldarola",
          "Calizzano",
          "Sarsina",
          "Coli",
          "Torremaggiore",
          "San Marco in Lamis",
          "Toano",
          "Sant'Anatolia di Narco",
          "Lisio",
          "Serle",
          "Solagna",
          "San Pellegrino Terme",
          "San Paolo Bel Sito",
          "Odolo",
          "Lotzorai",
          "Melito di Porto Salvo",
          "Burolo",
          "Mazzè",
          "Cerano",
          "Elice",
          "Ceppaloni",
          "Sambuci",
          "Scansano",
          "Giffoni Sei Casali",
          "Pagliara",
          "Casalmaiocco",
          "San Pietro Viminario",
          "Torrita di Siena",
          "Cengio",
          "Cascia",
          "Montappone",
          "Controguerra",
          "Fiesse",
          "Donnas",
          "Cadelbosco di Sopra",
          "Polverigi",
          "Loreo",
          "Garbagna Novarese",
          "Veduggio con Colzano",
          "Semproniano",
          "Papozze",
          "Solero",
          "Pamparato",
          "Capri Leone",
          "Giffoni Valle Piana",
          "Ortezzano",
          "Baragiano",
          "Civo",
          "Amaseno",
          "Stroncone",
          "Muccia",
          "Pila",
          "Candia Canavese",
          "Pinasca",
          "Monterotondo Marittimo",
          "Montemonaco",
          "Florinas",
          "Canneto Pavese",
          "Valmacca",
          "Offlaga",
          "Fontanarosa",
          "Altavilla Silentina",
          "Capizzone",
          "Limido Comasco",
          "Cappella Cantone",
          "Volpedo",
          "Savignano Irpino",
          "Cropani",
          "Albaretto della Torre",
          "Frigento",
          "Capracotta",
          "Pieve di Teco",
          "Pieve di Bono-Prezzo",
          "Castiglione di Sicilia",
          "Riva del Po",
          "Guardia Sanframondi",
          "Grottazzolina",
          "Castel del Giudice",
          "Petacciato",
          "Antegnate",
          "Pegognaga",
          "Cave",
          "Castelgomberto",
          "Montaldo Roero",
          "Bozzolo",
          "Rivarossa",
          "Madignano",
          "Vicalvi",
          "Margarita",
          "Marentino",
          "Giaglione",
          "San Germano Vercellese",
          "Tusa",
          "Tufo",
          "Pieve Porto Morone",
          "Pontinvrea",
          "San Giovanni del Dosso",
          "Talla",
          "Sparanise",
          "Piancogno",
          "Belmonte Piceno",
          "Pratiglione",
          "Predappio",
          "Sesta Godano",
          "Lampedusa e Linosa",
          "Viggiano",
          "Sonnino",
          "Monterubbiano",
          "Amatrice",
          "Ferentino",
          "Bargagli",
          "Tonco",
          "Capodrise",
          "Ceccano",
          "Montecalvo in Foglia",
          "Cuceglio",
          "Caivano",
          "Villar Focchiardo",
          "Salmour",
          "Penna in Teverina",
          "Villastellone",
          "Mercato San Severino",
          "Castel Madama",
          "Cercenasco",
          "Fiesso Umbertiano",
          "San Colombano al Lambro",
          "Trevi",
          "Orte",
          "Casella",
          "Cairo Montenotte",
          "Favria",
          "Cocconato",
          "Castel Focognano",
          "Piscina",
          "Cerreto d'Esi",
          "Banchette",
          "Castrocaro Terme e Terra del Sole",
          "Scanno",
          "Gavi",
          "Borgosesia",
          "Azzio",
          "Summonte",
          "Vesime",
          "Paliano",
          "Varano de' Melegari",
          "Pago del Vallo di Lauro",
          "Vignolo",
          "Saluggia",
          "Vigliano Biellese",
          "Chiusanico",
          "Villafalletto",
          "Saint-Vincent",
          "Capranica",
          "Castellana Grotte",
          "Narni",
          "Garessio",
          "Vinchiaturo",
          "Ficulle",
          "Poggio San Marcello",
          "Gaglianico",
          "Selci",
          "San Benedetto Val di Sambro",
          "Sulmona",
          "Cervere",
          "Bricherasio",
          "Lombriasco",
          "Villanova sull'Arda",
          "Salerano Canavese",
          "Cremella",
          "Pieve d'Olmi",
          "Lanzo Torinese",
          "Varallo Pombia",
          "Fisciano",
          "Cigliano",
          "Settingiano",
          "Norcia",
          "Feletto",
          "Castel Frentano",
          "Torpè",
          "Bene Vagienna",
          "Bassano in Teverina",
          "Villafranca Piemonte",
          "Vicoforte",
          "Montebello Vicentino",
          "Ostellato",
          "Moretta",
          "Isernia",
          "Sant'Olcese",
          "Baronissi",
          "Suno",
          "Raviscanina",
          "Gambara",
          "Sant'Agata de' Goti",
          "Sandrigo",
          "Gonzaga",
          "Mottalciata",
          "Orsago",
          "Piedimonte Matese",
          "Piea",
          "Mergozzo",
          "Broccostella",
          "Tribano",
          "Cellarengo",
          "San Giorgio Piacentino",
          "Racconigi",
          "Vernante",
          "Montanaro",
          "Canicattì",
          "Peveragno",
          "Strambino",
          "Sora",
          "Acquasparta",
          "Loiano",
          "Serino",
          "Giove",
          "Cervasca",
          "Sanguinetto",
          "San Francesco al Campo",
          "Castagnaro",
          "Appignano",
          "Valenza",
          "Pozzilli",
          "Corno Giovine",
          "Mistretta",
          "Serracapriola",
          "Sant'Angelo a Cupolo",
          "Stella",
          "Colli Verdi",
          "Frignano",
          "Atri",
          "Montiglio Monferrato",
          "Campodipietra",
          "Quaregna Cerreto",
          "Samone",
          "Villa di Briano",
          "Domusnovas",
          "Viddalba",
          "Sandigliano",
          "Brozolo",
          "Samone",
          "Chianocco",
          "Sezze",
          "Morro d'Alba",
          "Val della Torre",
          "Torre Cajetani",
          "Rocca di Botte",
          "Castelleone",
          "Acqui Terme",
          "Castagnito",
          "Canale",
          "Terni",
          "Capolona",
          "Villanova Mondovì",
          "Front",
          "Vigone",
          "Monghidoro",
          "Rivarolo Canavese",
          "Fiscaglia",
          "Canzo",
          "Beinette",
          "Uscio",
          "Villasor",
          "Cavaglio d'Agogna",
          "Brentonico",
          "Osasco",
          "Subbiano",
          "Manoppello",
          "Casanova Lerrone",
          "Desana",
          "Dogliani",
          "Calvatone",
          "Casale di Scodosia",
          "Casalgrasso",
          "Pancalieri",
          "Canaro",
          "Mirabello Sannitico",
          "Anguillara Veneta",
          "Fontevivo",
          "Castelnuovo Cilento",
          "Castiglione d'Adda",
          "Cossato",
          "Partinico",
          "Nocera Superiore",
          "Cortemaggiore",
          "Amelia",
          "Sant'Antonino di Susa",
          "Priolo Gargallo",
          "Bussoleno",
          "Roccapiemonte",
          "Rueglio",
          "Gravina in Puglia",
          "Corbola",
          "Arpino",
          "Piobbico",
          "Chiaverano",
          "Caltignaga",
          "San Giusto Canavese",
          "Urbania",
          "Atripalda",
          "Montesarchio",
          "Ivrea",
          "Fabriano",
          "Castel Goffredo",
          "Vezza d'Alba",
          "Capua",
          "Castelfidardo",
          "Sassofeltrio",
          "Serra Riccò",
          "Isola d'Asti",
          "Revello",
          "San Prospero",
          "Roletto",
          "Paciano",
          "Castel San Giorgio",
          "Cavagnolo",
          "Condove",
          "Ottaviano",
          "Cavour",
          "Pinerolo",
          "Asti",
          "Viguzzolo",
          "San Tammaro",
          "Ornago",
          "Montefredane",
          "Pianello Val Tidone",
          "Centallo",
          "Borgo Val di Taro",
          "Magliano Alfieri",
          "Copertino",
          "Chiomonte",
          "Botrugno",
          "Campiglia dei Berici",
          "Basaluzzo",
          "Cimitile",
          "Airasca",
          "Poggio Mirteto",
          "Villar Dora",
          "San Maurizio Canavese",
          "Costigliole d'Asti",
          "Monteroni di Lecce",
          "Genola",
          "Pizzoli",
          "Marsciano",
          "Panicale",
          "Foglizzo",
          "Saludecio",
          "Montalto Dora",
          "Marcianise",
          "Città di Castello",
          "Ventasso",
          "Ronco Scrivia",
          "Premosello-Chiovenda",
          "Vauda Canavese",
          "Bassignana",
          "Alessandria",
          "Marcellina",
          "Gragnano Trebbiense",
          "Cuorgnè",
          "Cupra Marittima",
          "Manziana",
          "Moncalvo",
          "Busca",
          "Rivanazzano Terme",
          "Lombardore",
          "Castelbellino",
          "Santena",
          "Godiasco Salice Terme",
          "Sommariva Perno",
          "Invorio",
          "Castelnuovo di Farfa",
          "Settimo Vittone",
          "Isorella",
          "Persico Dosimo",
          "Pescarolo ed Uniti",
          "Savignone",
          "Romentino",
          "Castellaro",
          "Ranzo",
          "Bagnolo San Vito",
          "Valfenera",
          "Capodimonte",
          "Ausonia",
          "Massa Martana",
          "Tresivio",
          "Villa San Giovanni",
          "Capistrello",
          "Mulazzano",
          "Usseaux",
          "Edolo",
          "Sedini",
          "Sogliano al Rubicone",
          "Montefano",
          "Canneto sull'Oglio",
          "Civate",
          "Candiana",
          "Plesio",
          "Palagianello",
          "Piovene Rocchette",
          "Pressana",
          "Sassetta",
          "Dovadola",
          "Dovera",
          "Gandino",
          "Torre de' Passeri",
          "Palazzolo Acreide",
          "Sarnonico",
          "Gonnosfanadiga",
          "Pombia",
          "Gorgo al Monticano",
          "Vicchio",
          "Santa Maria Imbaro",
          "Berbenno",
          "Belforte del Chienti",
          "Vigano San Martino",
          "Torre d'Arese",
          "Senna Comasco",
          "Camburzano",
          "Ozegna",
          "Campo nell'Elba",
          "Larino",
          "Colledara",
          "Cambiago",
          "Lomello",
          "Scordia",
          "Rota d'Imagna",
          "Carrù",
          "Calvi Risorta",
          "Asola",
          "Notaresco",
          "Faleria",
          "Arquà Polesine",
          "Mompeo",
          "Vezzi Portio",
          "Piateda",
          "Casapesenna",
          "Frinco",
          "Niscemi",
          "Fiastra",
          "Casalzuigno",
          "Casalbuttano ed Uniti",
          "San Zenone al Lambro",
          "Parete",
          "Casalincontrada",
          "Casaluce",
          "Casale Litta",
          "Borgo San Martino",
          "Borgo d'Ale",
          "Salassa",
          "Guspini",
          "Corigliano d'Otranto",
          "Scafa",
          "La Morra",
          "Perano",
          "Cosio Valtellino",
          "Pianfei",
          "Teverola",
          "Itala",
          "Rocca Canavese",
          "Agna",
          "Alseno",
          "Milo",
          "Agugliaro",
          "San Gemini",
          "Bosco Marengo",
          "Pozzuolo Martesana",
          "Pralboino",
          "Motta Baluffi",
          "Strozza",
          "Magliano di Tenna",
          "Bovezzo",
          "Portico di Caserta",
          "Verduno",
          "Maglie",
          "Boscotrecase",
          "Giacciano con Baruchella",
          "Sommariva del Bosco",
          "Salbertrand",
          "Montemesola",
          "Ceppo Morelli",
          "Torrita Tiberina",
          "Gergei",
          "Santa Maria a Vico",
          "Bucchianico",
          "Annone di Brianza",
          "Tromello",
          "Valdagno",
          "San Carlo Canavese",
          "Voghera",
          "Maiolati Spontini",
          "Ospedaletto d'Alpinolo",
          "Isola del Liri",
          "Motta di Livenza",
          "Mondovì",
          "Novi Ligure",
          "Pocapaglia",
          "Venafro",
          "Torrazza Piemonte",
          "Gallicano",
          "Alatri",
          "Stienta",
          "Trecastelli",
          "San Filippo del Mela",
          "Filetto",
          "Gozzano",
          "Carlentini",
          "Monticelli d'Ongina",
          "Campello sul Clitunno",
          "Mombaroccio",
          "La Cassa",
          "Palombara Sabina",
          "Loro Ciuffenna",
          "Cafasse",
          "Vitorchiano",
          "Foligno",
          "Caravino",
          "Anghiari",
          "Terranuova Bracciolini",
          "Sant'Elia Fiumerapido",
          "Monteforte Irpino",
          "Prato Sesia",
          "San Giustino",
          "Adria",
          "San Marco Evangelista",
          "Cologna Veneta",
          "Manta",
          "Calolziocorte",
          "Tarzo",
          "Ferrazzano",
          "Grottaminarda",
          "Loria",
          "Mazzano",
          "Lessona",
          "Castelletto Stura",
          "Fossalta di Piave",
          "Altamura",
          "Carceri",
          "Cellino San Marco",
          "Villanova Canavese",
          "Lizzanello",
          "Cassino",
          "Concordia sulla Secchia",
          "Parre",
          "Neive",
          "Barga",
          "Montagna in Valtellina",
          "Serrapetrona",
          "Biella",
          "Cavaglià",
          "Onore",
          "Borgonovo Val Tidone",
          "Giaveno",
          "Bovolenta",
          "Copparo",
          "Cortona",
          "Momo",
          "Sovere",
          "Minerbe",
          "Almese",
          "Somma Vesuviana",
          "Rovetta",
          "Treia",
          "San Giovanni Bianco",
          "Verrayes",
          "Trinità",
          "Villa d'Almè",
          "Teglio",
          "Dorno",
          "San Pier Niceto",
          "Castagnole delle Lanze",
          "Luserna San Giovanni",
          "Castell'Arquato",
          "Carmagnola",
          "Termini Imerese",
          "Occhiobello",
          "Francavilla d'Ete",
          "Castenedolo",
          "Albiate",
          "Orio Litta",
          "Contrada",
          "Cannara",
          "Monasterolo di Savigliano",
          "Comazzo",
          "Torrazza Coste",
          "Marnate",
          "Grignasco",
          "Valbrembo",
          "Pagani",
          "Cava Manara",
          "Ronco Biellese",
          "Roverbella",
          "Bibbiena",
          "Monte San Savino",
          "Caronno Pertusella",
          "Borgo Virgilio",
          "Garlasco",
          "Castel di Casio",
          "Sant'Albano Stura",
          "Terre Roveresche",
          "Castiglione Chiavarese",
          "Cazzano di Tramigna",
          "Medolla",
          "Porte",
          "Corciano",
          "Miane",
          "Piobesi Torinese",
          "Borgo Valsugana",
          "Urbino",
          "Varzi",
          "Polinago",
          "Polesella",
          "Santo Stefano di Camastra",
          "Caramagna Piemonte",
          "Toritto",
          "Lequile",
          "Olmedo",
          "Monte Roberto",
          "Lunano",
          "Calvenzano",
          "Dosolo",
          "Scoppito",
          "Mesola",
          "Montalto Uffugo",
          "Celano",
          "Agliano Terme",
          "Atina",
          "San Zenone degli Ezzelini",
          "Antignano",
          "San Gennaro Vesuviano",
          "Caluso",
          "Forlimpopoli",
          "San Cataldo",
          "Montefalco",
          "Chieti",
          "Statte",
          "Almenno San Bartolomeo",
          "Casalmaggiore",
          "Mugnano del Cardinale",
          "Ciriè",
          "Savigliano",
          "Borgo San Dalmazzo",
          "Castel del Rio",
          "Castel Bolognese",
          "Lanciano",
          "San Secondo Parmense",
          "Spoleto",
          "Sant'Orsola Terme",
          "Roccaforte Mondovì",
          "Ornavasso",
          "Scandolara Ravara",
          "Sannazzaro de' Burgondi",
          "Tuscania",
          "Palma Campania",
          "Momperone",
          "Taglio di Po",
          "Civita Castellana",
          "Ruvo del Monte",
          "Derovere",
          "Pagazzano",
          "Briga Novarese",
          "Bagheria",
          "Foiano della Chiana",
          "Altofonte",
          "Guastalla",
          "Galatina",
          "Luzzara",
          "Moricone",
          "Città della Pieve",
          "Deruta",
          "Cardito",
          "Avegno",
          "Loreto Aprutino",
          "Suzzara",
          "Granze",
          "Casandrino",
          "Castellamonte",
          "Fontaneto d'Agogna",
          "Roncoferraro",
          "San Ginesio",
          "Piazza Armerina",
          "Picerno",
          "Sanfrè",
          "San Cesario di Lecce",
          "Mairano",
          "Meldola",
          "Sondrio",
          "Labico",
          "Covo",
          "Finale Emilia",
          "Cepagatti",
          "Pieve Vergonte",
          "Pietrelcina",
          "Scopello",
          "Mulazzo",
          "Camerano",
          "Tornolo",
          "Volvera",
          "Terno d'Isola",
          "Gazzaniga",
          "Pessinetto",
          "Argenta",
          "Follonica",
          "Bellinzago Novarese",
          "Cavarzere",
          "Cherasco",
          "Parella",
          "Montagnana",
          "Cremeno",
          "Trescore Balneario",
          "Tiggiano",
          "Rondissone",
          "Giarre",
          "Trecate",
          "Angri",
          "Morbegno",
          "Saluzzo",
          "Cuneo",
          "Santa Maria Capua Vetere",
          "Bastia Umbra",
          "Codogno",
          "San Biagio della Cima",
          "Ballabio",
          "Saltrio",
          "Longarone",
          "Bruino",
          "Noventa Vicentina",
          "Novoli",
          "Cornate d'Adda",
          "Capriano del Colle",
          "Vizzola Ticino",
          "Laterza",
          "Fonzaso",
          "Castello di Brianza",
          "Ambivere",
          "Baldissero Canavese",
          "La Valletta Brianza",
          "Lendinara",
          "Carpaneto Piacentino",
          "Lettere",
          "Porto Viro",
          "Acerra",
          "San Benigno Canavese",
          "San Giuseppe Jato",
          "Cicagna",
          "Collebeato",
          "Fiesco",
          "Caltagirone",
          "Brivio",
          "Bosa",
          "Mercogliano",
          "Mortara",
          "Cureggio",
          "Mesagne",
          "Tirano",
          "Corato",
          "Castelbaldo",
          "Cascinette d'Ivrea",
          "Oleggio",
          "Chiaravalle",
          "Legnaro",
          "Morlupo",
          "San Marcello",
          "Zagarolo",
          "Albettone",
          "San Giorgio Ionico",
          "Gaiarine",
          "San Zeno Naviglio",
          "Casalpusterlengo",
          "Corridonia",
          "Palestrina",
          "Vercelli",
          "Bobbio",
          "Tortona",
          "Badia Polesine",
          "Nerola",
          "Sant'Anna Arresi",
          "Occhieppo Superiore",
          "Enna",
          "Nichelino",
          "Bettona",
          "Fossano",
          "Potenza",
          "Zavattarello",
          "Zinasco",
          "Frasso Telesino",
          "Squinzano",
          "Riolo Terme",
          "Villetta Barrea",
          "Fénis",
          "San Rocco al Porto",
          "Ferrandina",
          "Nomaglio",
          "Faggeto Lario",
          "Segusino",
          "Caorso",
          "Segonzano",
          "Canzano",
          "Cancello ed Arnone",
          "Val Brembilla",
          "Ploaghe",
          "Pizzighettone",
          "Pisogne",
          "Caronia",
          "Carnago",
          "Montefalcone Appennino",
          "Valbrevenna",
          "Rovellasca",
          "Nuraminis",
          "Muravera",
          "Erbè",
          "Arsita",
          "Asigliano Vercellese",
          "Casale Cremasco-Vidolasco",
          "Cartoceto",
          "Sant'Agata Feltria",
          "Sergnano",
          "Senerchia",
          "Uzzano",
          "Urbisaglia",
          "Urbana",
          "Carpineti",
          "Capiago Intimiano",
          "Valle Lomellina",
          "Sellano",
          "Refrancore",
          "Dresano",
          "Galzignano Terme",
          "San Pietro di Feletto",
          "Garbagnate Monastero",
          "Sospiro",
          "Casaletto Lodigiano",
          "Sampeyre",
          "Poggio Bustone",
          "Campi Salentina",
          "Campagnatico",
          "Monteleone d'Orvieto",
          "Casaloldo",
          "Casaletto Vaprio",
          "Divignano",
          "Tavoleto",
          "Dolianova",
          "Dolcè",
          "Quassolo",
          "Diano Arentino",
          "Azeglio",
          "Polesine Zibello",
          "Scanzano Jonico",
          "Poggiridenti",
          "Castel d'Aiano",
          "Castel Sant'Elia",
          "Tricase",
          "Castel Mella",
          "Castel Gabbiano",
          "Serravalle di Chienti",
          "Uggiano la Chiesa",
          "Oleggio Castello",
          "Gerano",
          "Gemmano",
          "Masone",
          "Barete",
          "Barbarano Romano",
          "Baone",
          "Sabbioneta",
          "Bannio Anzino",
          "Crotta d'Adda",
          "Tempio Pausania",
          "Oriolo Romano",
          "Corte Palasio",
          "Corropoli",
          "Sassello",
          "Caiazzo",
          "Priocca",
          "Barile",
          "Terrassa Padovana",
          "Castelletto Monferrato",
          "Castellina Marittima",
          "Montescano",
          "Casteldidone",
          "Gorlago",
          "San Gavino Monreale",
          "Castelcucco",
          "Camerata Picena",
          "Scheggino",
          "Copiano",
          "Ottiglio",
          "Ossona",
          "Beverino",
          "Marcaria",
          "Mapello",
          "Besnate",
          "Bellusco",
          "Ponte Nossa",
          "Ponso",
          "Buggerru",
          "Prali",
          "Castione Andevenno",
          "San Giovanni Rotondo",
          "Castelnuovo",
          "Vejano",
          "Monte di Malo",
          "Cologne",
          "Govone",
          "Pradalunga",
          "Giungano",
          "Colle Brianza",
          "Sant'Antonio Abate",
          "Monsano",
          "Bussero",
          "Sinagra",
          "Pellizzano",
          "Monteverdi Marittimo",
          "Monteu da Po",
          "Pareto",
          "Burago di Molgora",
          "Pontedassio",
          "Pabillonis",
          "Montopoli in Val d'Arno",
          "Monticiano",
          "Codevigo",
          "Palagano",
          "Cinzano",
          "Cingia de' Botti",
          "Vernate",
          "Borgolavezzaro",
          "Grumello Cremonese ed Uniti",
          "Pergola",
          "Scandriglia",
          "Macomer",
          "Bruzolo",
          "Brusasco",
          "Brusaporto",
          "Salice Salentino",
          "Pontevico",
          "Briaglia",
          "Sale delle Langhe",
          "Sava",
          "Vespolate",
          "Veronella",
          "Torchiarolo",
          "Gravellona Lomellina",
          "Granozzo con Monticello",
          "Ceriana",
          "Mesenzana",
          "Agrate Conturbia",
          "Miazzina",
          "Paolisi",
          "Venegono Inferiore",
          "Venosa",
          "Bregano",
          "Fontanelle",
          "Altino",
          "Villeneuve",
          "Mercato Saraceno",
          "Alviano",
          "Villamiroglio",
          "Medolago",
          "Caprese Michelangelo",
          "Pimonte",
          "Zero Branco",
          "Mesero",
          "Nizza Monferrato",
          "Sant'Arpino",
          "Cumiana",
          "Ceriale",
          "Cambiano",
          "Montirone",
          "Castelguglielmo",
          "San Severino Marche",
          "Caltanissetta",
          "Caspoggio",
          "Dossena",
          "Roccamonfina",
          "Ponte di Piave",
          "Massa Lombarda",
          "Alpignano",
          "Orbassano",
          "Almè",
          "Piossasco",
          "Avezzano",
          "Viterbo",
          "Brandizzo",
          "Gazzo Veronese",
          "Soragna",
          "Fontanella",
          "Motta Sant'Anastasia",
          "Codigoro",
          "Macerata",
          "Teano",
          "Maddaloni",
          "Paesana",
          "Fregona",
          "Zugliano",
          "Montefiascone",
          "Novellara",
          "Sorgà",
          "Ostiglia",
          "Reggiolo",
          "Travo",
          "San Vittore Olona",
          "Bellizzi",
          "Sciacca",
          "Broni",
          "Torriglia",
          "Passignano sul Trasimeno",
          "Cavallino",
          "Soresina",
          "Castronno",
          "Casavatore",
          "Borgosatollo",
          "Chignolo d'Isola",
          "San Nicola Manfredi",
          "Nebbiuno",
          "Ospedaletto Euganeo",
          "Gambolò",
          "Foggia",
          "Verzuolo",
          "Omegna",
          "Roncola",
          "Druento",
          "San Giovanni Valdarno",
          "Poggiomarino",
          "Palaia",
          "Vergiate",
          "Senorbì",
          "Moiano",
          "Viano",
          "Rufina",
          "Missaglia",
          "Borgone Susa",
          "Mezzana",
          "San Prisco",
          "Lemie",
          "Corigliano-Rossano",
          "Galliate",
          "Lucignano",
          "Colonna",
          "Bra",
          "Patti",
          "Quiliano",
          "Villabate",
          "Trapani",
          "Villamassargia",
          "Limana",
          "Murlo",
          "Lugagnano Val d'Arda",
          "Mathi",
          "Mondavio",
          "Marano Ticino",
          "Caltrano",
          "Cupramontana",
          "Santa Marina Salina",
          "Scalenghe",
          "Villa di Serio",
          "Penne",
          "Vairano Patenora",
          "Este",
          "Grugliasco",
          "Pogliano Milanese",
          "Castiglione delle Stiviere",
          "Camporotondo Etneo",
          "Meda",
          "Scarperia e San Piero",
          "Chivasso",
          "Firenzuola",
          "Tortolì",
          "Campobasso",
          "Marigliano",
          "Pavullo nel Frignano",
          "Arnesano",
          "Montà",
          "Montese",
          "Marcallo con Casone",
          "Conversano",
          "Caselette",
          "Fumane",
          "Roncà",
          "Casorezzo",
          "Rodengo Saiano",
          "Volpago del Montello",
          "Veglie",
          "Olevano sul Tusciano",
          "Morrovalle",
          "Calcinato",
          "Trebaseleghe",
          "Grinzane Cavour",
          "Cerete",
          "Robbiate",
          "Paternò",
          "Solarolo",
          "Gorla Minore",
          "Ponte dell'Olio",
          "Zanè",
          "Cappadocia",
          "Casal di Principe",
          "Aulla",
          "Qualiano",
          "Valle Salimbene",
          "Ficarazzi",
          "Settimo Torinese",
          "Badia Calavena",
          "Vaprio d'Agogna",
          "Perugia",
          "Fornovo di Taro",
          "Campogalliano",
          "Albino",
          "Molinella",
          "Fiorenzuola d'Arda",
          "Pedrengo",
          "Sant'Anastasia",
          "Ceggia",
          "Bevilacqua",
          "San Felice sul Panaro",
          "Calvagese della Riviera",
          "Bolano",
          "Marene",
          "Casalnuovo di Napoli",
          "Fossombrone",
          "Castiglione del Lago",
          "Ponte San Nicolò",
          "San Nicola la Strada",
          "Ranco",
          "Bitetto",
          "Bevagna",
          "Cremona",
          "Sellia Marina",
          "Casperia",
          "Santo Stefano del Sole",
          "Castrolibero",
          "Borgo Mantovano",
          "Concesio",
          "Palazzo Pignano",
          "Torrevecchia Teatina",
          "Porcari",
          "Melfi",
          "Alfonsine",
          "Jesi",
          "Avigliana",
          "Porto Mantovano",
          "Bitonto",
          "Beinasco",
          "San Mango Piemonte",
          "Castegnato",
          "Conselve",
          "Vignanello",
          "Zanica",
          "Anagni",
          "Gravere",
          "Russi",
          "Bolsena",
          "Goito",
          "Capurso",
          "Gela",
          "La Loggia",
          "Avella",
          "San Polo d'Enza",
          "Caselle Lurani",
          "Zogno",
          "Bari Sardo",
          "Marsala",
          "San Martino Siccomario",
          "Musile di Piave",
          "Fiano Romano",
          "Terre del Reno",
          "Carignano",
          "Cairate",
          "San Marco dei Cavoti",
          "Castiraga Vidardo",
          "Costa Volpino",
          "San Gillio",
          "Stezzano",
          "Oltressenda Alta",
          "Rolo",
          "Pellezzano",
          "Montevarchi",
          "Cellatica",
          "Castello di Cisterna",
          "Pescia",
          "Trana",
          "Vedelago",
          "Triggiano",
          "Trofarello",
          "Buttigliera Alta",
          "Rende",
          "Lugo",
          "Tivoli",
          "Caldiero",
          "Santa Cesarea Terme",
          "Fubine Monferrato",
          "Viadana",
          "Sala Baganza",
          "Soave",
          "Montecchio Emilia",
          "Lurano",
          "Grottaglie",
          "Isola Rizza",
          "Fossalta di Portogruaro",
          "Busseto",
          "Alfedena",
          "Tuoro sul Trasimeno",
          "San Giovanni Teatino",
          "Caselle Torinese",
          "Marudo",
          "Ceriano Laghetto",
          "Lozzo Atestino",
          "Bitritto",
          "Ponsacco",
          "Ala",
          "Assisi",
          "Gioia del Colle",
          "Augusta",
          "Sumirago",
          "San Vitaliano",
          "Altivole",
          "Volpiano",
          "Recanati",
          "Salizzole",
          "Mondolfo",
          "Marano di Napoli",
          "Forano",
          "Santa Giustina",
          "Alice Castello",
          "Sant'Ippolito",
          "Villanova del Sillaro",
          "Valderice",
          "Capriate San Gervasio",
          "Capriolo",
          "Leno",
          "Breganze",
          "Spinone al Lago",
          "Nembro",
          "Airola",
          "Albano Sant'Alessandro",
          "Volterra",
          "Acquaviva Picena",
          "Guardamiglio",
          "Ponzano di Fermo",
          "Madone",
          "Brentino Belluno",
          "Ceresara",
          "Travedona-Monate",
          "Chiusi",
          "Travagliato",
          "Inarzo",
          "Iglesias",
          "Guidizzolo",
          "Inverigo",
          "Brovello-Carpugnino",
          "Brinzio",
          "Cavernago",
          "Cazzago Brabbia",
          "Borgo San Giovanni",
          "San Marcellino",
          "Buggiano",
          "Poviglio",
          "Monsampolo del Tronto",
          "Bodio Lomnago",
          "Palazzago",
          "Chiavenna",
          "Parzanica",
          "Passirano",
          "Jolanda di Savoia",
          "Pianengo",
          "Treviolo",
          "Conselice",
          "Monvalle",
          "Buttigliera d'Asti",
          "Cortazzone",
          "Battaglia Terme",
          "Cornegliano Laudense",
          "Barzana",
          "Cadorago",
          "Ostra",
          "Torbole Casaglia",
          "Comabbio",
          "Biandrate",
          "Marchirolo",
          "Bereguardo",
          "Prarostino",
          "Caino",
          "Monte Santa Maria Tiberina",
          "Castiadas",
          "Inveruno",
          "Reano",
          "Campegine",
          "Sarezzano",
          "Matelica",
          "Avio",
          "Linarolo",
          "Pisciotta",
          "Ghisalba",
          "Gerola Alta",
          "Locate Varesino",
          "Cuggiono",
          "Masate",
          "Scurzolengo",
          "Lonate Pozzolo",
          "Pessina Cremonese",
          "Castelfranco di Sotto",
          "Villa Cortese",
          "Crispano",
          "Bagnolo Mella",
          "Crespino",
          "Piazza Brembana",
          "Esine",
          "Tavazzano con Villavesco",
          "Olmeneta",
          "Susa",
          "Entratico",
          "Galliate Lombardo",
          "Dongo",
          "Sorso",
          "Cura Carpignano",
          "Cuveglio",
          "Decimomannu",
          "Arconate",
          "Flero",
          "San Pietro in Lama",
          "Spinadesco",
          "Licciana Nardi",
          "Montegiorgio",
          "Rocca Priora",
          "Frattaminore",
          "Agordo",
          "Casale Corte Cerro",
          "Senna Lodigiana",
          "Lamporecchio",
          "Gabbioneta-Binanuova",
          "Millesimo",
          "Fabbrico",
          "Montegranaro",
          "Cologno al Serio",
          "Spirano",
          "Rovigo",
          "Bonate Sopra",
          "Castelfiorentino",
          "Tito",
          "Sant'Ambrogio di Torino",
          "Marsicovetere",
          "Torrile",
          "Argelato",
          "Monte San Vito",
          "Castelli Calepio",
          "Vigolzone",
          "Melito di Napoli",
          "Borgo San Lorenzo",
          "Bagnacavallo",
          "Barcellona Pozzo di Gotto",
          "Nogara",
          "Agugliano",
          "Issime",
          "Dalmine",
          "Barletta",
          "Nave",
          "Sorbolo Mezzani",
          "Castello di Godego",
          "San Cesareo",
          "Giussano",
          "Villanova del Ghebbo",
          "Apecchio",
          "Rovato",
          "Gualtieri",
          "Castelnovo di Sotto",
          "Alzano Lombardo",
          "Manerbio",
          "Vetralla",
          "Grumo Nevano",
          "Porto Azzurro",
          "Cappelle sul Tavo",
          "Cameri",
          "Ghedi",
          "Cornuda",
          "Caerano di San Marco",
          "Molfetta",
          "Venaria Reale",
          "Genzano di Roma",
          "Casamarciano",
          "Mosciano Sant'Angelo",
          "Brusciano",
          "Pollein",
          "Pereto",
          "Figline e Incisa Valdarno",
          "Tagliacozzo",
          "Sansepolcro",
          "Montemarciano",
          "Follo",
          "Montichiari",
          "Stradella",
          "Olgiate Molgora",
          "Sant'Ilario d'Enza",
          "Trepuzzi",
          "Villanova d'Asti",
          "Zocca",
          "Gualdo Tadino",
          "Mentana",
          "Rottofreno",
          "Calvizzano",
          "Montecarlo",
          "Santeramo in Colle",
          "Cadrezzate con Osmate",
          "Poggio Renatico",
          "Pievepelago",
          "Bagnoregio",
          "Mariglianella",
          "Viverone",
          "Canegrate",
          "Sissa Trecasali",
          "Valledoria",
          "Bertinoro",
          "Mappano",
          "Todi",
          "Porto Ceresio",
          "Lanuvio",
          "Vicovaro",
          "Lamezia Terme",
          "Carmignano di Brenta",
          "Porte di Rendena",
          "Schiavon",
          "Varano Borghi",
          "Guanzate",
          "Casaleone",
          "Zandobbio",
          "Pontinia",
          "Mercatino Conca",
          "Monticello d'Alba",
          "Morazzone",
          "Seveso",
          "Somma Lombardo",
          "Rocca di Papa",
          "Fontanellato",
          "Battipaglia",
          "Ponte San Pietro",
          "Rio Saliceto",
          "Velletri",
          "Avellino",
          "Comano Terme",
          "Campagna Lupia",
          "Arezzo",
          "Forlì",
          "Fusignano",
          "San Genesio ed Uniti",
          "Darfo Boario Terme",
          "San Giuseppe Vesuviano",
          "Malalbergo",
          "Montaione",
          "Massafra",
          "Angiari",
          "Origgio",
          "Floridia",
          "Lariano",
          "Castelvetere sul Calore",
          "Villanova di Camposampiero",
          "Sarre",
          "Offida",
          "Senago",
          "Bolgare",
          "Spinetoli",
          "Gattatico",
          "Monte San Giusto",
          "Arcisate",
          "Santa Maria di Licodia",
          "Arluno",
          "Mascalucia",
          "Aprilia",
          "Sant'Antimo",
          "Certaldo",
          "Belpasso",
          "Sarezzo",
          "Falconara Marittima",
          "Magione",
          "Ospitaletto",
          "Erice",
          "Casagiove",
          "Gravina di Catania",
          "Alba",
          "Serramazzoni",
          "Valmontone",
          "Boffalora d'Adda",
          "Tregnago",
          "Sestu",
          "Candiolo",
          "Mozzanica",
          "Presezzo",
          "Curti",
          "San Clemente",
          "Casole d'Elsa",
          "Mansuè",
          "Telgate",
          "Massa e Cozzile",
          "San Bellino",
          "Castel San Giovanni",
          "Pozzo d'Adda",
          "Feltre",
          "Torre del Greco",
          "Sannicandro di Bari",
          "Peia",
          "Idro",
          "Montecastrilli",
          "Solesino",
          "San Bonifacio",
          "Correggio",
          "Montecatini-Terme",
          "Monteroni d'Arbia",
          "Canda",
          "Lonate Ceppino",
          "Chiesina Uzzanese",
          "Aci Catena",
          "Nepi",
          "Civitavecchia",
          "Cicciano",
          "Bovolone",
          "Santa Flavia",
          "San Giorgio Bigarello",
          "Albiano d'Ivrea",
          "Campo San Martino",
          "Santa Croce sull'Arno",
          "Calcinaia",
          "Benevento",
          "Collegno",
          "Ascea",
          "San Giovanni in Marignano",
          "Santo Stefano Ticino",
          "Quattro Castella",
          "Asciano",
          "Ariccia",
          "Pognano",
          "Milazzo",
          "Sant'Agata di Militello",
          "Gioiosa Marea",
          "Santa Maria la Carità",
          "Montecosaro",
          "Busto Garolfo",
          "Capena",
          "Cento",
          "Arosio",
          "Macherio",
          "Fiuggi",
          "Botticino",
          "Breda di Piave",
          "Roverchiara",
          "Cislago",
          "Orio al Serio",
          "Guidonia Montecelio",
          "Aci Sant'Antonio",
          "Campolongo Maggiore",
          "Campodarsego",
          "Alto Reno Terme",
          "Bernalda",
          "Caravaggio",
          "Provaglio d'Iseo",
          "Alghero",
          "Misterbianco",
          "Nocera Inferiore",
          "Altidona",
          "Vigevano",
          "Mugnano di Napoli",
          "Chioggia",
          "Arzano",
          "Monte Compatri",
          "Villarbasse",
          "Serravalle Pistoiese",
          "Portogruaro",
          "Cerignola",
          "Brogliano",
          "Poggio Torriana",
          "Treviglio",
          "Nola",
          "Borgomanero",
          "Zone",
          "Mezzomerico",
          "Volta Mantovana",
          "Voghiera",
          "Sarteano",
          "Uboldo",
          "Bagno di Romagna",
          "Bagnatica",
          "Montù Beccaria",
          "Morciano di Romagna",
          "Bellagio",
          "Solofra",
          "Belgirate",
          "Traona",
          "Roncaro",
          "Alserio",
          "Gromo",
          "Nervesa della Battaglia",
          "Muscoline",
          "Varese Ligure",
          "Villa Lagarina",
          "Villa Bartolomea",
          "Bagnolo Cremasco",
          "Vallada Agordina",
          "Cellamare",
          "Patù",
          "Cembra Lisignago",
          "Trambileno",
          "Biandronno",
          "Bibbiano",
          "Pedavena",
          "Cavenago d'Adda",
          "Sortino",
          "Vigasio",
          "San Vito di Leguzzano",
          "Gadesco-Pieve Delmona",
          "Seclì",
          "Sulbiate",
          "Fiavè",
          "Noviglio",
          "Portoscuso",
          "Borghetto Lodigiano",
          "Sant'Agata sul Santerno",
          "Pandino",
          "Vertemate con Minoprio",
          "Nove",
          "Lardirago",
          "Tollo",
          "Cavedago",
          "Montegrosso d'Asti",
          "Viarigi",
          "Boccioleto",
          "Torre de' Roveri",
          "Cerignale",
          "Calliano",
          "Ossi",
          "Laterina Pergine Valdarno",
          "Terrazzo",
          "Cornedo Vicentino",
          "Castelverde",
          "Cavaso del Tomba",
          "Castro dei Volsci",
          "Castelvetro Piacentino",
          "Tonezza del Cimone",
          "Arlena di Castro",
          "San Potito Ultra",
          "Farra di Soligo",
          "Montedinove",
          "Bulciago",
          "Corteolona e Genzone",
          "Colleretto Giacosa",
          "Casnigo",
          "Mezzago",
          "Ponte Buggianese",
          "Santhià",
          "Casalino",
          "Casalbeltrame",
          "Pieve a Nievole",
          "Urgnano",
          "Volturara Irpina",
          "Colorno",
          "Casciana Terme Lari",
          "Calliano",
          "Pojana Maggiore",
          "Calcinate",
          "Oltre il Colle",
          "Boschi Sant'Anna",
          "Malonno",
          "San Fiorano",
          "Arcene",
          "Sutri",
          "San Pietro Vernotico",
          "Ozzero",
          "Arcade",
          "Cassano Magnago",
          "Altare",
          "Sant'Angelo di Piove di Sacco",
          "Marano di Valpolicella",
          "Ancarano",
          "Casarile",
          "Lupara",
          "Monte Urano",
          "Montenero di Bisaccia",
          "Rivoli",
          "Caserta",
          "Brembate di Sopra",
          "Frattamaggiore",
          "Castagneto Po",
          "Oristano",
          "Sant'Angelo Lodigiano",
          "Teramo",
          "Vittuone",
          "Orta Nova",
          "Nogarole Rocca",
          "Novafeltria",
          "Ascoli Piceno",
          "Rieti",
          "Val Liona",
          "Lessolo",
          "Ciserano",
          "Schio",
          "Nerviano",
          "Correzzola",
          "Frabosa Soprana",
          "Lagosanto",
          "Piove di Sacco",
          "Cavedine",
          "Costa Masnaga",
          "Pollena Trocchia",
          "Capo d'Orlando",
          "Casteldaccia",
          "Legnago",
          "Scisciano",
          "Santarcangelo di Romagna",
          "Solza",
          "Bariano",
          "Montelabbate",
          "Lentate sul Seveso",
          "Montecorvino Pugliano",
          "San Mauro Pascoli",
          "Turi",
          "Castano Primo",
          "Bovisio-Masciago",
          "Santa Vittoria d'Alba",
          "Macerata Feltria",
          "San Pietro di Morubio",
          "Borgo Ticino",
          "Montechiarugolo",
          "Nocera Umbra",
          "Aosta",
          "Brignano Gera d'Adda",
          "Isola della Scala",
          "Tribiano",
          "Bagni di Lucca",
          "Pollenza",
          "Santa Maria a Monte",
          "Sermoneta",
          "Pontenure",
          "Sacrofano",
          "L'Aquila",
          "Siziano",
          "Gricignano di Aversa",
          "Levico Terme",
          "Vighizzolo d'Este",
          "Poncarale",
          "Sedriano",
          "Brembate",
          "Novara",
          "San Felice a Cancello",
          "Selvino",
          "Pella",
          "Montopoli di Sabina",
          "Cabiate",
          "Riano",
          "Taranto",
          "Turate",
          "Monforte d'Alba",
          "Garlate",
          "Coccaglio",
          "Bottanuco",
          "Portobuffolè",
          "Codognè",
          "Buttapietra",
          "Viola",
          "Castello d'Argile",
          "Olginate",
          "Casoria",
          "Rosta",
          "Truccazzano",
          "Altavilla Milicia",
          "Vo'",
          "San Mauro Torinese",
          "Quarto",
          "Lonigo",
          "Concamarise",
          "Albano Laziale",
          "Gravellona Toce",
          "Castelnuovo di Garfagnana",
          "Marcignago",
          "Rivara",
          "Monterotondo",
          "Magenta",
          "Felino",
          "Pavia",
          "Capannoli",
          "Cadoneghe",
          "Trecase",
          "Cavareno",
          "Boltiere",
          "Surbo",
          "Casaleggio Novara",
          "Comun Nuovo",
          "Comerio",
          "Carate Brianza",
          "Savignano sul Rubicone",
          "Castelnuovo Magra",
          "Lodi",
          "Roncadelle",
          "Sovicille",
          "Monsummano Terme",
          "San Miniato",
          "Baricella",
          "Scanzorosciate",
          "Lavagno",
          "Bastiglia",
          "Rescaldina",
          "Riese Pio X",
          "Mirandola",
          "Torre Boldone",
          "Imola",
          "Cerano d'Intelvi",
          "Giussago",
          "Pernumia",
          "Costa di Mezzate",
          "Pedaso",
          "San Donato di Lecce",
          "Annone Veneto",
          "Mornago",
          "Vinovo",
          "Limena",
          "Daverio",
          "Isola Vicentina",
          "Santorso",
          "Tombolo",
          "Malo",
          "Pomigliano d'Arco",
          "Cisterna di Latina",
          "Castellanza",
          "Borghi",
          "Borgoricco",
          "Galluccio",
          "Rovello Porro",
          "Frosinone",
          "Casamassima",
          "Chieri",
          "Cartura",
          "Azzate",
          "Novi di Modena",
          "Palazzolo sull'Oglio",
          "Colle di Val d'Elsa",
          "Crevalcore",
          "Maracalagonis",
          "Valverde",
          "Piombino",
          "Collesalvetti",
          "Traversetolo",
          "Castelvetrano",
          "Cardano al Campo",
          "Segni",
          "Fauglia",
          "Cornaredo",
          "Robassomero",
          "Noventa di Piave",
          "Cerea",
          "Brisighella",
          "Osio Sotto",
          "Cles",
          "Lallio",
          "Carbonera",
          "Carpenedolo",
          "Busnago",
          "Lipomo",
          "Fucecchio",
          "Tremestieri Etneo",
          "Fidenza",
          "Noale",
          "Cosenza",
          "Aversa",
          "Vigodarzere",
          "Binasco",
          "Policoro",
          "Cavezzo",
          "Sommacampagna",
          "Gallicano nel Lazio",
          "Cesano Maderno",
          "Monterenzio",
          "Zevio",
          "Cona",
          "Scafati",
          "Pianiga",
          "Altopascio",
          "Capraia e Limite",
          "Moglia",
          "Ripalta Cremasca",
          "Casatenovo",
          "Osnago",
          "Loreto",
          "Castelnuovo di Porto",
          "Chiari",
          "Osimo",
          "Camposampiero",
          "Bellano",
          "Bientina",
          "Bernareggio",
          "Santo Stefano di Magra",
          "Piana degli Albanesi",
          "Gassino Torinese",
          "Trevenzuolo",
          "Villa d'Adda",
          "Grandate",
          "Ittiri",
          "Certosa di Pavia",
          "Vidigulfo",
          "Cazzago San Martino",
          "Gardone Val Trompia",
          "Cencenighe Agordino",
          "Bagnara di Romagna",
          "Soleto",
          "Istrana",
          "Cressa",
          "Collepasso",
          "San Martino Valle Caudina",
          "Crespiatica",
          "Merì",
          "Ormelle",
          "Polverara",
          "Vodo Cadore",
          "Camponogara",
          "Nocciano",
          "Fenestrelle",
          "Dolzago",
          "Vellezzo Bellini",
          "Peccioli",
          "Giovo",
          "Vercurago",
          "Castel Rozzone",
          "Capriata d'Orba",
          "Monte Grimano Terme",
          "Pieve di Cadore",
          "Sartirana Lomellina",
          "Alagna Valsesia",
          "Pescolanciano",
          "Marano sul Panaro",
          "Melizzano",
          "Piazzola sul Brenta",
          "Tresignana",
          "Cappella de' Picenardi",
          "Lazzate",
          "Castione della Presolana",
          "Locatello",
          "Carbonia",
          "Viganò",
          "Givoletto",
          "Matera",
          "Borghetto Santo Spirito",
          "Pieve del Grappa",
          "Villaricca",
          "Vignola",
          "Albizzate",
          "Verucchio",
          "Desio",
          "San Vito Chietino",
          "Fermignano",
          "Macugnaga",
          "Pontecagnano Faiano",
          "Pontedera",
          "Fiesso d'Artico",
          "Cascina",
          "Medicina",
          "Nibionno",
          "Cesate",
          "Trezzo sull'Adda",
          "Acireale",
          "Menfi",
          "Olgiate Olona",
          "Vicopisano",
          "Viagrande",
          "Ancona",
          "San Salvo",
          "Piacenza",
          "Casalgrande",
          "San Biagio di Callalta",
          "Pregnana Milanese",
          "Andria",
          "Borgo Veneto",
          "Mandello del Lario",
          "Sassari",
          "Tolentino",
          "Montelibretti",
          "Varzo",
          "Induno Olona",
          "Roccasecca",
          "Rignano sull'Arno",
          "Colleferro",
          "Bussolengo",
          "Sarmato",
          "Arcole",
          "Fara in Sabina",
          "Modugno",
          "Monzuno",
          "Bregnano",
          "Moriago della Battaglia",
          "Moggio",
          "Resana",
          "Pianezza",
          "Samarate",
          "Concorezzo",
          "Cavenago di Brianza",
          "Malnate",
          "Cavriglia",
          "Pollone",
          "Ponderano",
          "Curtarolo",
          "Gazzola",
          "Pove del Grappa",
          "Ercolano",
          "Bareggio",
          "Limbiate",
          "Cermenate",
          "Agrate Brianza",
          "Meolo",
          "Giugliano in Campania",
          "Martina Franca",
          "Artena",
          "Valdobbiadene",
          "Portomaggiore",
          "Pistoia",
          "Suvereto",
          "Cesena",
          "Villafranca Padovana",
          "Genova",
          "Busto Arsizio",
          "Brezzo di Bedero",
          "Imbersago",
          "Santa Maria di Sala",
          "Casalserugo",
          "Sangano",
          "Rignano Flaminio",
          "Boissano",
          "Arcinazzo Romano",
          "Falerone",
          "Lurate Caccivio",
          "Torretta",
          "Cossogno",
          "Salzano",
          "Ceranova",
          "Colle Umberto",
          "Cesa",
          "Aldeno",
          "Bomporto",
          "Orta di Atella",
          "Mori",
          "Paese",
          "Calco",
          "Cipressa",
          "Montiano",
          "Roppolo",
          "Talamello",
          "Giavera del Montello",
          "Casarza Ligure",
          "Salsomaggiore Terme",
          "Negrar di Valpolicella",
          "Rubiera",
          "Bogogno",
          "Paladina",
          "Gossolengo",
          "Camposanto",
          "Budrio",
          "Vanzago",
          "Arcola",
          "Villadossola",
          "San Possidonio",
          "Bucine",
          "Curno",
          "Fermo",
          "Paderno Dugnano",
          "Caldonazzo",
          "Rivergaro",
          "San Pietro Mosezzo",
          "Pantigliate",
          "Medesano",
          "Castiglione Torinese",
          "Preganziol",
          "Montegalda",
          "Monteriggioni",
          "Cucciago",
          "Casale sul Sile",
          "Castellarano",
          "Monastier di Treviso",
          "Lacchiarella",
          "Spresiano",
          "Valenzano",
          "Capoliveri",
          "Erbusco",
          "Magnago",
          "Mantova",
          "Melilli",
          "Sestola",
          "Barzio",
          "Afragola",
          "Verghereto",
          "Brugine",
          "Ceglie Messapica",
          "Martellago",
          "Nonantola",
          "Montespertoli",
          "Pollina",
          "San Giovanni la Punta",
          "Dicomano",
          "Vergato",
          "Offagna",
          "Cerro al Lambro",
          "Magliolo",
          "Riomaggiore",
          "Cittiglio",
          "Calice Ligure",
          "Calendasco",
          "Torre de' Picenardi",
          "Valbrenta",
          "Mezzocorona",
          "Romano di Lombardia",
          "Mezzane di Sotto",
          "Alezio",
          "Vische",
          "Mazzin",
          "Inzago",
          "Solaro",
          "Monteprandone",
          "Vignone",
          "Casorate Sempione",
          "Sessa Cilento",
          "Godega di Sant'Urbano",
          "Ronco all'Adige",
          "Fossò",
          "Sordio",
          "Motteggiana",
          "Solignano",
          "Songavazzo",
          "Galbiate",
          "Lodi Vecchio",
          "Fondi",
          "Stra",
          "Vezzano sul Crostolo",
          "Liscate",
          "Bubbiano",
          "San Lorenzo al Mare",
          "Bressana Bottarone",
          "Pontida",
          "Diamante",
          "Verderio",
          "Brienno",
          "Lurago d'Erba",
          "Dorzano",
          "Felizzano",
          "Paderno d'Adda",
          "Civita d'Antino",
          "Buti",
          "Caccamo",
          "Coassolo Torinese",
          "Buonconvento",
          "Comiziano",
          "Madruzzo",
          "Vallecrosia",
          "Cortenuova",
          "Trasquera",
          "Riva Ligure",
          "Mira",
          "Vittorio Veneto",
          "Montegrotto Terme",
          "Torreglia",
          "Crema",
          "San Giorgio in Bosco",
          "San Giorgio a Cremano",
          "Torre d'Isola",
          "Frabosa Sottana",
          "Moncalieri",
          "Buscate",
          "Ponzano Veneto",
          "Boretto",
          "Dozza",
          "Monteforte d'Alpone",
          "Ronciglione",
          "Gatteo",
          "Pomarolo",
          "Villorba",
          "Roverè Veronese",
          "Altopiano della Vigolana",
          "Vasto",
          "Minerbio",
          "Reggello",
          "Mariano Comense",
          "Curtatone",
          "Corbetta",
          "Ferrara",
          "San Martino in Strada",
          "Conegliano",
          "Casteggio",
          "Eboli",
          "Borso del Grappa",
          "Montale",
          "Rio",
          "Correzzana",
          "Ceres",
          "Mezzolombardo",
          "Castrignano del Capo",
          "Pisticci",
          "Cisliano",
          "Ustica",
          "Sale Marasino",
          "Fosdinovo",
          "Gerenzano",
          "Cercola",
          "Gressan",
          "Sant'Agata li Battiati",
          "Cocquio-Trevisago",
          "Briosco",
          "Luino",
          "Potenza Picena",
          "Castel San Pietro Terme",
          "Vietri sul Mare",
          "Bellinzago Lombardo",
          "Rovereto",
          "Rossano Veneto",
          "Ovindoli",
          "Sant'Agata Bolognese",
          "Fiano",
          "Airuno",
          "Civezzano",
          "Tezze sul Brenta",
          "Coriano",
          "Sedico",
          "Monserrato",
          "Povegliano",
          "Verdello",
          "Castel di Lama",
          "Ravarino",
          "Carugate",
          "Vigonovo",
          "Poggibonsi",
          "San Pietro in Casale",
          "Brindisi",
          "Gambassi Terme",
          "Volla",
          "Oggiono",
          "Domodossola",
          "Rivalta di Torino",
          "Massanzago",
          "Arzignano",
          "Sotto il Monte Giovanni XXIII",
          "Baveno",
          "Castiglione dei Pepoli",
          "Misilmeri",
          "Vecchiano",
          "Castelfranco Veneto",
          "Domaso",
          "Cavallino-Treporti",
          "Dolo",
          "Spoltore",
          "Sossano",
          "Fonte",
          "Morgano",
          "Santa Venerina",
          "Mozzate",
          "Due Carrare",
          "Vignate",
          "Castel Gandolfo",
          "Martinsicuro",
          "Zafferana Etnea",
          "Garbagnate Milanese",
          "Quartucciu",
          "Spadafora",
          "Barlassina",
          "Follina",
          "Gallarate",
          "Marino",
          "Vigonza",
          "Cava de' Tirreni",
          "Empoli",
          "Paullo",
          "Castel Guelfo di Bologna",
          "Gussago",
          "Chiesa in Valmalenco",
          "Arquà Petrarca",
          "Torgiano",
          "Lizzano in Belvedere",
          "Ginosa",
          "Torino",
          "Monselice",
          "Clusone",
          "Carpi",
          "Seregno",
          "Novate Milanese",
          "Gessate",
          "Seriate",
          "Noicattaro",
          "Camposano",
          "Eraclea",
          "Carpiano",
          "Trezzone",
          "Taviano",
          "Fossacesia",
          "Gardone Riviera",
          "Marano Vicentino",
          "Caprino Veronese",
          "Gazzada Schianno",
          "Terre d'Adige",
          "Genazzano",
          "Bolognetta",
          "Berceto",
          "Piombino Dese",
          "Piubega",
          "Besano",
          "Commezzadura",
          "San Giorgio delle Pertiche",
          "Gonnesa",
          "Monte Sant'Angelo",
          "Cisano sul Neva",
          "Alvito",
          "Rezzo",
          "Vanzaghello",
          "Cavizzana",
          "Vallio Terme",
          "Ome",
          "Brusson",
          "Locorotondo",
          "Palagiano",
          "Paratico",
          "Pastrengo",
          "Fagnano Olona",
          "Cedegolo",
          "Montelupo Fiorentino",
          "Riposto",
          "Verbania",
          "Iseo",
          "San Giovanni Lupatoto",
          "Castelnuovo Berardenga",
          "Calenzano",
          "Catania",
          "Campomarino",
          "Cernusco Lombardone",
          "Cerro Maggiore",
          "Adelfia",
          "Monte Porzio Catone",
          "Montebelluna",
          "Parabiago",
          "Calderara di Reno",
          "Asolo",
          "Ciampino",
          "Gubbio",
          "Pergine Valsugana",
          "Brugherio",
          "Vermezzo con Zelo",
          "Baranzate",
          "Ponteranica",
          "Villasanta",
          "Imperia",
          "Castelvetro di Modena",
          "San Giuliano Milanese",
          "Lesmo",
          "Fonte Nuova",
          "Pero",
          "San Raffaele Cimena",
          "Monreale",
          "Villa Carcina",
          "Casapulla",
          "Alberobello",
          "Nago-Torbole",
          "Ravenna",
          "Besenello",
          "Pecetto Torinese",
          "Thiene",
          "Lissone",
          "San Giorgio del Sannio",
          "Mediglia",
          "Ronago",
          "Barberino Tavarnelle",
          "Saronno",
          "Tradate",
          "Orvieto",
          "Legnano",
          "Messina",
          "Borghetto d'Arroscia",
          "Sesto Calende",
          "Villanova d'Albenga",
          "Zibido San Giacomo",
          "San Paolo d'Argon",
          "Terricciola",
          "Cormano",
          "Casorate Primo",
          "Casina",
          "Laveno-Mombello",
          "Monte di Procida",
          "Leggiuno",
          "Agrigento",
          "Robecco sul Naviglio",
          "Veroli",
          "Bentivoglio",
          "Sant'Ambrogio di Valpolicella",
          "Formello",
          "Ozzano Monferrato",
          "Santa Teresa di Riva",
          "La Spezia",
          "Siracusa",
          "Villafranca di Verona",
          "Corneliano d'Alba",
          "San Vendemiano",
          "Rezzato",
          "Palermo",
          "Vallefoglia",
          "Noventa Padovana",
          "Catanzaro",
          "Muggiò",
          "San Pietro Clarenza",
          "Camporosso",
          "Caponago",
          "San Polo di Piave",
          "Lecce",
          "Numana",
          "Ispra",
          "Maslianico",
          "Montemurlo",
          "San Cesario sul Panaro",
          "Pelago",
          "Castenaso",
          "Torrevecchia Pia",
          "Corsico",
          "Modica",
          "Cecina",
          "Pavarolo",
          "Vinci",
          "Ragusa",
          "Cinisello Balsamo",
          "Castel d'Azzano",
          "Cantù",
          "Lomagna",
          "Carmignano",
          "Garlenda",
          "Capannori",
          "Arcore",
          "Spello",
          "Marcon",
          "Gera Lario",
          "Lovere",
          "Pesaro",
          "Alcamo",
          "Azzano San Paolo",
          "Lecco",
          "Rho",
          "Podenzano",
          "Brenta",
          "Cessalto",
          "La Magdeleine",
          "Treiso",
          "San Marzano di San Giuseppe",
          "Vernazza",
          "Vernio",
          "San Bartolomeo in Galdo",
          "Scaldasole",
          "Pieve San Giacomo",
          "Badesi",
          "Maserada sul Piave",
          "Framura",
          "Pontey",
          "Melito Irpino",
          "Trivolzio",
          "Mattinata",
          "Foza",
          "Gandellino",
          "Casalromano",
          "Valmorea",
          "Verano Brianza",
          "Lierna",
          "Canino",
          "Santo Stefano al Mare",
          "Albese con Cassano",
          "Montefiore Conca",
          "Bornasco",
          "Sirtori",
          "Bedollo",
          "Lusia",
          "Mogliano",
          "Ghiffa",
          "Spinea",
          "Brescello",
          "Senigallia",
          "Cavaion Veronese",
          "Saonara",
          "Pieve di Soligo",
          "Maserà di Padova",
          "Romano d'Ezzelino",
          "Porto Sant'Elpidio",
          "Oppeano",
          "Porto Torres",
          "San Sebastiano al Vesuvio",
          "Selargius",
          "Pescantina",
          "Cerreto Guidi",
          "Fano",
          "Francavilla Fontana",
          "Castelfranco Emilia",
          "Bagnolo in Piano",
          "Loano",
          "Cassola",
          "Cusano Milanino",
          "Savignano sul Panaro",
          "Roncade",
          "Mirano",
          "Mola di Bari",
          "Cesano Boscone",
          "San Fermo della Battaglia",
          "Leivi",
          "Noceto",
          "Savona",
          "Sala Bolognese",
          "Barbarano Mossano",
          "Grezzana",
          "Montano Lucino",
          "Trento",
          "Lainate",
          "San Michele all'Adige",
          "Pedara",
          "Alta Valle Intelvi",
          "Giustino",
          "Sovico",
          "Vaprio d'Adda",
          "Susegana",
          "Portici",
          "Anguillara Sabazia",
          "Abbiategrasso",
          "Valmadrera",
          "Castelnuovo del Garda",
          "Vigarano Mainarda",
          "Grassobbio",
          "Trabia",
          "Bassano del Grappa",
          "Formigine",
          "Gaggiano",
          "Creazzo",
          "Livorno",
          "Besozzo",
          "Siena",
          "Albavilla",
          "Grosseto",
          "Fanano",
          "Calvi dell'Umbria",
          "Maiori",
          "Cogne",
          "Povegliano Veronese",
          "Petriano",
          "Druogno",
          "Cittadella",
          "Oulx",
          "San Pietro in Cariano",
          "Gragnano",
          "Pragelato",
          "Manfredonia",
          "San Giuliano Terme",
          "Castro",
          "Castro",
          "Cotignola",
          "Aci Castello",
          "Parma",
          "Vaglia",
          "Merate",
          "Lipari",
          "Campo di Giove",
          "Rodi Garganico",
          "Bordighera",
          "Lesina",
          "Vedano al Lambro",
          "Stanghella",
          "Castel di Sangro",
          "Sant'Alessio Siculo",
          "Valeggio sul Mincio",
          "Tione di Trento",
          "Trieste",
          "Agliana",
          "San Martino Buon Albergo",
          "Campi Bisenzio",
          "Scicli",
          "Teolo",
          "Borgo a Mozzano",
          "Campofilone",
          "Ronco Briantino",
          "Rosciano",
          "Montodine",
          "Pramaggiore",
          "Ruvo di Puglia",
          "Teglio Veneto",
          "San Sperate",
          "Mozzecane",
          "Tremezzina",
          "Torgnon",
          "Pontecchio Polesine",
          "San Gregorio di Catania",
          "Sassuolo",
          "Barzanò",
          "Scandiano",
          "Quarto d'Altino",
          "Bosco Chiesanuova",
          "Oderzo",
          "Torre Annunziata",
          "Malgrate",
          "Lavis",
          "Calalzo di Cadore",
          "Luisago",
          "Pederobba",
          "Nicolosi",
          "Cantalupa",
          "Usmate Velate",
          "Soriso",
          "Putignano",
          "Castel Maggiore",
          "Borgaro Torinese",
          "Salerno",
          "Collecchio",
          "Rubano",
          "Pomezia",
          "Castelseprio",
          "Sulzano",
          "Colli al Metauro",
          "Granarolo dell'Emilia",
          "Vimodrone",
          "Gallipoli",
          "Taggia",
          "Nibbiola",
          "Cervo",
          "Brebbia",
          "Cologno Monzese",
          "Bedizzole",
          "Alba Adriatica",
          "Pietra Ligure",
          "Abano Terme",
          "Sarnico",
          "Mogliano Veneto",
          "Calci",
          "Melzo",
          "Latina",
          "Baldissero Torinese",
          "San Giovanni in Persiceto",
          "Maranello",
          "Melegnano",
          "Serina",
          "Martinengo",
          "San Giorgio di Piano",
          "Castel Volturno",
          "Saviano",
          "Pianoro",
          "Recco",
          "Cogoleto",
          "Castellammare di Stabia",
          "Rimini",
          "Signa",
          "Gaggio Montano",
          "Cetona",
          "Claviere",
          "Pioltello",
          "Arco",
          "Castagneto Carducci",
          "Torregrotta",
          "Rovolon",
          "Bellaria-Igea Marina",
          "Pisa",
          "Bizzarone",
          "Rosate",
          "Cassina Valsassina",
          "Cantello",
          "Monfumo",
          "Capaci",
          "Montefelcino",
          "Furore",
          "Pozzallo",
          "Castiglione d'Orcia",
          "Magliano Romano",
          "Ogliastro Cilento",
          "Cirimido",
          "Refrontolo",
          "Ravanusa",
          "Zelo Buon Persico",
          "Pienza",
          "San Giovanni in Croce",
          "Piazzatorre",
          "Valentano",
          "Limone Piemonte",
          "Varese",
          "Assemini",
          "Pontassieve",
          "Varedo",
          "Vieste",
          "Prato",
          "Gavirate",
          "Abbadia Lariana",
          "Campofelice di Roccella",
          "Olgiate Comasco",
          "San Colombano Certenoli",
          "Cassina de' Pecchi",
          "Scurcola Marsicana",
          "Binago",
          "Bari",
          "Erba",
          "Cernusco sul Naviglio",
          "San Martino di Venezze",
          "Bisceglie",
          "Sanremo",
          "Brescia",
          "Monticello Conte Otto",
          "Quartu Sant'Elena",
          "Sinalunga",
          "Cerro Veronese",
          "Favignana",
          "Trecastagni",
          "Comacchio",
          "Cavriago",
          "San Martino di Lupari",
          "Meina",
          "Locate di Triulzi",
          "Castellammare del Golfo",
          "Manciano",
          "Carnate",
          "Selvazzano Dentro",
          "Portovenere",
          "Lucca",
          "Scorzè",
          "San Casciano in Val di Pesa",
          "Città Sant'Angelo",
          "Grottaferrata",
          "Mondragone",
          "Padova",
          "Borgo Vercelli",
          "Frascati",
          "Fasano",
          "Pino Torinese",
          "Terrasini",
          "Capoterra",
          "Verona",
          "Trezzano sul Naviglio",
          "Pachino",
          "Ranica",
          "Terzo",
          "Torricella",
          "Brenna",
          "Londa",
          "Gambettola",
          "San Donà di Piave",
          "Piozzano",
          "Montecchio Maggiore",
          "Sirolo",
          "Sesto San Giovanni",
          "Albignasego",
          "Sarzana",
          "Valsamoggia",
          "Brenzone sul Garda",
          "Montesilvano",
          "Furnari",
          "Cassano delle Murge",
          "Castellabate",
          "Folgaria",
          "Bergamo",
          "Enego",
          "Baschi",
          "Casnate con Bernate",
          "Montalcino",
          "Lavagna",
          "Petrosino",
          "Sorisole",
          "Roccalumera",
          "Biassono",
          "Saccolongo",
          "Rocchetta di Vara",
          "Rovegno",
          "Ventimiglia",
          "Pescara",
          "Valtournenche",
          "Bacoli",
          "Vimercate",
          "Cogollo del Cengio",
          "Faenza",
          "Poggio a Caiano",
          "Montepaone",
          "Vedano Olona",
          "Porto Cesareo",
          "Giardini-Naxos",
          "Noto",
          "Lesa",
          "Lusciano",
          "Nova Milanese",
          "Grumello del Monte",
          "Montevecchia",
          "Trani",
          "Altavilla Vicentina",
          "Martano",
          "Lavena Ponte Tresa",
          "Bernate Ticino",
          "San Vincenzo",
          "Bolognola",
          "Fiumalbo",
          "Ala di Stura",
          "Val di Zoldo",
          "Squillace",
          "Spongano",
          "Castel Morrone",
          "Orsenigo",
          "Camerota",
          "Monticelli Brusati",
          "Valsavarenche",
          "Monterosi",
          "Nemi",
          "Celle di Macra",
          "San Marcello Piteglio",
          "Nus",
          "Lusiana Conco",
          "Mascali",
          "Dro",
          "Emarèse",
          "Borca di Cadore",
          "Ripatransone",
          "Solbiate Olona",
          "Prignano sulla Secchia",
          "Asso",
          "Cassago Brianza",
          "Peio",
          "Soliera",
          "Villa Guardia",
          "Bollate",
          "Pozzuoli",
          "Casamicciola Terme",
          "Campagnano di Roma",
          "Manduria",
          "Sori",
          "Letojanni",
          "Cerveteri",
          "Bracciano",
          "Roseto degli Abruzzi",
          "Pieve Emanuele",
          "Nardò",
          "Belluno",
          "Sirignano",
          "Pollica",
          "Solbiate con Cagno",
          "Moena",
          "Castellina in Chianti",
          "Artogne",
          "Triuggio",
          "Calamandrana",
          "Langhirano",
          "Carini",
          "La Salle",
          "Dueville",
          "Maratea",
          "San Bartolomeo al Mare",
          "San Giovanni a Piro",
          "Albinea",
          "Porano",
          "Monza",
          "Acquaviva delle Fonti",
          "Rocca di Mezzo",
          "Anzola dell'Emilia",
          "Carate Urio",
          "Cernobbio",
          "Cagliari",
          "Appiano Gentile",
          "Sona",
          "Rivisondoli",
          "Santa Maria Maggiore",
          "Montalenghe",
          "Portopalo di Capo Passero",
          "Piobesi d'Alba",
          "Cinto Euganeo",
          "Cadeo",
          "Marostica",
          "Modena",
          "San Michele al Tagliamento",
          "Formia",
          "La Maddalena",
          "Vermiglio",
          "Sauze d'Oulx",
          "Carrara",
          "Avola",
          "Silvi",
          "Toscolano-Maderno",
          "Termoli",
          "Treviso",
          "San Giovanni Suergiu",
          "Alliste",
          "Cattolica",
          "Polizzi Generosa",
          "Gallio",
          "Sasso Marconi",
          "Zola Predosa",
          "Ayas",
          "Silea",
          "Vittoria",
          "Gradara",
          "Rozzano",
          "Vaiano",
          "Agropoli",
          "Peschiera Borromeo",
          "San Vito dei Normanni",
          "Caorle",
          "Montecatini Val di Cecina",
          "Campione d'Italia",
          "Fombio",
          "Oliveri",
          "Pessano con Bornago",
          "Foppolo",
          "Quinto di Treviso",
          "Stresa",
          "Luvinate",
          "Fiorano Modenese",
          "Arenzano",
          "Scandicci",
          "Varazze",
          "Vicenza",
          "San Felice del Benaco",
          "Dervio",
          "Ortona",
          "Garda",
          "Monte San Pietro",
          "Vado Ligure",
          "Civitanova Marche",
          "Polpenazze del Garda",
          "Forchia",
          "Vallelaghi",
          "Valdidentro",
          "Almenno San Salvatore",
          "Arona",
          "Napoli",
          "Monopoli",
          "Gazzo",
          "Tolfa",
          "Pescasseroli",
          "Lastra a Signa",
          "Albenga",
          "Ameglia",
          "Casalecchio di Reno",
          "Dormelletto",
          "Taino",
          "Besana in Brianza",
          "Borgia",
          "Mercatello sul Metauro",
          "Cassano d'Adda",
          "Lesignano de' Bagni",
          "Leporano",
          "San Benedetto del Tronto",
          "Gravedona ed Uniti",
          "San Donato Milanese",
          "Illasi",
          "Colico",
          "Valfabbrica",
          "Sesto Fiorentino",
          "Gorgonzola",
          "Bardonecchia",
          "Chiavari",
          "Venezia",
          "Diano Castello",
          "Luni",
          "Assago",
          "Tramonti",
          "Noli",
          "San Lazzaro di Savena",
          "Temù",
          "Otranto",
          "Peschiera del Garda",
          "Rosà",
          "Sirmione",
          "Orta San Giulio",
          "Allumiere",
          "Sarmede",
          "Cassinetta di Lugagnano",
          "Pasturo",
          "Val di Nizza",
          "Cansano",
          "Smerillo",
          "Colle Santa Lucia",
          "Lenola",
          "Baceno",
          "Cannobio",
          "Pettenasco",
          "Angolo Terme",
          "Gagliano del Capo",
          "Venegono Superiore",
          "Lonato del Garda",
          "Quarrata",
          "Vico del Gargano",
          "Madesimo",
          "Puegnago sul Garda",
          "Ugento",
          "Pantelleria",
          "Malesco",
          "Tavullia",
          "Bergeggi",
          "Massino Visconti",
          "Allerona",
          "Nizza di Sicilia",
          "Grumolo delle Abbadesse",
          "Bolzano Vicentino",
          "Abetone Cutigliano",
          "Ozzano dell'Emilia",
          "Casal Velino",
          "Sessa Aurunca",
          "Barberino di Mugello",
          "Cefalù",
          "Grantorto",
          "Giovinazzo",
          "Albisola Superiore",
          "Castrezzato",
          "Brunate",
          "Francavilla al Mare",
          "Finale Ligure",
          "Craveggia",
          "Pozzolengo",
          "Motta San Giovanni",
          "Valera Fratta",
          "Zapponeta",
          "Stintino",
          "Rapallo",
          "Sestriere",
          "Carloforte",
          "Diano Marina",
          "Minturno",
          "Trappeto",
          "Ponte di Legno",
          "Trevignano",
          "Roma",
          "Como",
          "Segrate",
          "Nettuno",
          "Buccinasco",
          "Rosignano Marittimo",
          "Belfiore",
          "Ziano Piacentino",
          "Porto Recanati",
          "Ardea",
          "Castelnuovo Rangone",
          "Santo Stefano di Cadore",
          "Mestrino",
          "Nogaredo",
          "Venetico",
          "Dimaro Folgarida",
          "Pula",
          "Andora",
          "Spilamberto",
          "Santa Teresa Gallura",
          "Campiglia Marittima",
          "Adrara San Martino",
          "Massa Marittima",
          "Predore",
          "San Fior",
          "Bressanvido",
          "Cogorno",
          "Velo Veronese",
          "Cetara",
          "Lascari",
          "Montepulciano",
          "Torri del Benaco",
          "Jerago con Orago",
          "Carovigno",
          "Portoferraio",
          "Villafranca Tirrena",
          "Angera",
          "Ospedaletti",
          "Sauze di Cesana",
          "Borgio Verezzi",
          "Pineto",
          "Colceresa",
          "Cinisi",
          "San Vito Lo Capo",
          "Corsano",
          "Salò",
          "Camogli",
          "Greve in Chianti",
          "Lerici",
          "Bologna",
          "Cassina Rizzardi",
          "Barano d'Ischia",
          "Valle di Cadore",
          "Marzabotto",
          "Gressoney-Saint-Jean",
          "Tortoreto",
          "Cisternino",
          "Sestri Levante",
          "Arese",
          "Bogliasco",
          "Pinzolo",
          "Valdisotto",
          "Caprarola",
          "Lomazzo",
          "Torri di Quartesolo",
          "Mazara del Vallo",
          "Sant'Elpidio a Mare",
          "Arsago Seprio",
          "Piano di Sorrento",
          "Porto Empedocle",
          "Maruggio",
          "Peschici",
          "Villaverla",
          "Borgo Valbelluna",
          "Zoagli",
          "Misano Adriatico",
          "Trevi nel Lazio",
          "Vezza d'Oglio",
          "Positano",
          "Forio",
          "Margherita di Savoia",
          "Capaccio Paestum",
          "Pieve Ligure",
          "Orosei",
          "Massarosa",
          "Avetrana",
          "Riva del Garda",
          "Porto San Giorgio",
          "Ladispoli",
          "Costermano sul Garda",
          "Grottammare",
          "Parabita",
          "Seggiano",
          "Canazei",
          "Massa Lubrense",
          "Cesana Torinese",
          "La Thuile",
          "Palau",
          "Taormina",
          "Celle Ligure",
          "Aprica",
          "Arbus",
          "Caldogno",
          "Grisignano di Zocco",
          "Bresso",
          "Sant'Andrea Apostolo dello Ionio",
          "Isola delle Femmine",
          "Vezzano Ligure",
          "Amalfi",
          "Campodoro",
          "Viareggio",
          "Giulianova",
          "Mussolente",
          "Pulsano",
          "Massa",
          "Pettorano sul Gizio",
          "Cantarana",
          "Scarlino",
          "Carrodano",
          "Boville Ernica",
          "Radicofani",
          "Rocca San Giovanni",
          "Oliveto Lario",
          "Anacapri",
          "Davoli",
          "Agosta",
          "Corteno Golgi",
          "Gargnano",
          "Simeri Crichi",
          "Sorano",
          "Sala Comacina",
          "Piana Crixia",
          "Menaggio",
          "Vione",
          "Deiva Marina",
          "Pompei",
          "San Gimignano",
          "Ischitella",
          "Costabissara",
          "Camisano Vicentino",
          "Longare",
          "Albissola Marina",
          "Trevignano Romano",
          "Fiumicino",
          "Meta",
          "Salve",
          "Cavalese",
          "Terme Vigliatore",
          "Carimate",
          "Jesolo",
          "Cesenatico",
          "Olbia",
          "Monticello Brianza",
          "Licata",
          "Santa Lucia di Serino",
          "Lazise",
          "San Zeno di Montagna",
          "Montorfano",
          "Carisolo",
          "Torno",
          "Malcesine",
          "Maccagno con Pino e Veddasca",
          "Trecchina",
          "Perledo",
          "Chialamberto",
          "Cenate Sotto",
          "Ateleta",
          "Ostuni",
          "Castegnero",
          "Desenzano del Garda",
          "Zovencedo",
          "Perarolo di Cadore",
          "Bagno a Ripoli",
          "Germignaga",
          "Ischia",
          "Rometta",
          "Stalettì",
          "Quinto Vicentino",
          "Chamois",
          "Santa Fiora",
          "Santa Marina",
          "Magliano Sabina",
          "Balestrate",
          "Melendugno",
          "Montegaldella",
          "Santa Marinella",
          "Mozzo",
          "Vibonati",
          "Lavarone",
          "Mazzano Romano",
          "Santa Croce Camerina",
          "Opera",
          "Asiago",
          "Spotorno",
          "Firenze",
          "Ispani",
          "Sarroch",
          "Monteviale",
          "Ripa Teatina",
          "Gabicce Mare",
          "Anzio",
          "Arcugnano",
          "Bonassola",
          "Tarquinia",
          "Elmas",
          "Trinità d'Agultu e Vignola",
          "Vico Equense",
          "Nanto",
          "Fino Mornasco",
          "Magliano in Toscana",
          "Milano",
          "Settimo Milanese",
          "Soiano del Lago",
          "Budoni",
          "Alassio",
          "Lacco Ameno",
          "Padenghe sul Garda",
          "Castellaneta",
          "Cicerale",
          "Livinallongo del Col di Lana",
          "Terzigno",
          "Cabras",
          "Ville di Fiemme",
          "Procida",
          "Laigueglia",
          "Affi",
          "Roccaraso",
          "Sovizzo",
          "Itri",
          "Montauro",
          "Casciago",
          "Mede",
          "Loiri Porto San Paolo",
          "Orbetello",
          "Sorrento",
          "Arzachena",
          "Ponzone",
          "Carcoforo",
          "Fiesole",
          "Camaiore",
          "Morgex",
          "Moneglia",
          "Sarego",
          "San Pietro in Gu",
          "Predazzo",
          "Seravezza",
          "Soverato",
          "Isola del Giglio",
          "Ispica",
          "Sabaudia",
          "Gignese",
          "Bardolino",
          "Cassano all'Ionio",
          "Portacomaro",
          "Arzergrande",
          "Furci Siculo",
          "Pescocostanzo",
          "Alì Terme",
          "San Nicandro Garganico",
          "Neviano",
          "Villasimius",
          "Moltrasio",
          "Santa Margherita Ligure",
          "Bormio",
          "Courmayeur",
          "Cortina d'Ampezzo",
          "Ponza",
          "Roana",
          "Pietrasanta",
          "Gaeta",
          "Moniga del Garda",
          "Brendola",
          "Basiglio",
          "Casier",
          "Terracina",
          "Uggiate-Trevano",
          "Bagnoli Irpino",
          "Capalbio",
          "Auronzo di Cadore",
          "Centola",
          "Botricello",
          "Canicattini Bagni",
          "Impruneta",
          "Castiglione della Pescaia",
          "Monterosso al Mare",
          "Rabbi",
          "Cervia",
          "Campobello di Mazara",
          "Cellole",
          "Mercallo",
          "Centro Valle Intelvi",
          "San Felice Circeo",
          "Capri",
          "Montalto di Castro",
          "Telti",
          "Aglientu",
          "San Teodoro",
          "San Teodoro",
          "Cusago",
          "Sperlonga",
          "San Vito di Cadore",
          "Selva di Cadore",
          "Pescorocchiano",
          "Alfiano Natta",
          "Mottola",
          "Monteleone di Fermo",
          "Monte Castello di Vibio",
          "Calvignasco",
          "Falcade",
          "Strongoli",
          "Veggiano",
          "Polignano a Mare",
          "Manerba del Garda",
          "Riccione",
          "Portofino",
          "Carro",
          "Colverde",
          "Crecchio",
          "Frassinoro",
          "Monte Argentario",
          "Golfo Aranci",
          "Villa San Secondo",
          "Rosolina",
          "Forte dei Marmi",
          "Cutrofiano",
          "Marciana",
          "Bracca",
          "Eupilio",
          "Radda in Chianti",
          "Blevio",
          "Montignoso",
          "Sant'Agnello",
          "Campitello di Fassa",
          "San Casciano dei Bagni",
          "Gattico-Veruno",
          "Montecorice",
          "Diso",
          "Valfurva",
          "Roccalbegna"
         ],
         "lat": {
          "bdata": "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",
          "dtype": "f8"
         },
         "legendgroup": "",
         "lon": {
          "bdata": "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",
          "dtype": "f8"
         },
         "marker": {
          "color": {
           "bdata": "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",
           "dtype": "f8"
          },
          "coloraxis": "coloraxis",
          "opacity": 0.5,
          "size": {
           "bdata": "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",
           "dtype": "f8"
          },
          "sizemode": "area",
          "sizeref": 11
         },
         "mode": "markers",
         "name": "",
         "showlegend": false,
         "subplot": "map",
         "type": "scattermap"
        }
       ],
       "layout": {
        "coloraxis": {
         "cmax": 2000,
         "cmin": 0,
         "colorbar": {
          "title": {
           "text": "Price in €"
          }
         },
         "colorscale": [
          [
           0,
           "#30123b"
          ],
          [
           0.07142857142857142,
           "#4145ab"
          ],
          [
           0.14285714285714285,
           "#4675ed"
          ],
          [
           0.21428571428571427,
           "#39a2fc"
          ],
          [
           0.2857142857142857,
           "#1bcfd4"
          ],
          [
           0.35714285714285715,
           "#24eca6"
          ],
          [
           0.42857142857142855,
           "#61fc6c"
          ],
          [
           0.5,
           "#a4fc3b"
          ],
          [
           0.5714285714285714,
           "#d1e834"
          ],
          [
           0.6428571428571429,
           "#f3c63a"
          ],
          [
           0.7142857142857143,
           "#fe9b2d"
          ],
          [
           0.7857142857142857,
           "#f36315"
          ],
          [
           0.8571428571428571,
           "#d93806"
          ],
          [
           0.9285714285714286,
           "#b11901"
          ],
          [
           1,
           "#7a0402"
          ]
         ]
        },
        "height": 700,
        "legend": {
         "itemsizing": "constant",
         "tracegroupgap": 0
        },
        "map": {
         "center": {
          "lat": 41.8719,
          "lon": 12.5674
         },
         "domain": {
          "x": [
           0,
           1
          ],
          "y": [
           0,
           1
          ]
         },
         "zoom": 5
        },
        "mapbox": {
         "center": {
          "lat": 41.8719,
          "lon": 12.5674
         },
         "style": "open-street-map",
         "zoom": 5
        },
        "margin": {
         "b": 0,
         "l": 0,
         "r": 5,
         "t": 0
        },
        "template": {
         "data": {
          "bar": [
           {
            "error_x": {
             "color": "#2a3f5f"
            },
            "error_y": {
             "color": "#2a3f5f"
            },
            "marker": {
             "line": {
              "color": "#E5ECF6",
              "width": 0.5
             },
             "pattern": {
              "fillmode": "overlay",
              "size": 10,
              "solidity": 0.2
             }
            },
            "type": "bar"
           }
          ],
          "barpolar": [
           {
            "marker": {
             "line": {
              "color": "#E5ECF6",
              "width": 0.5
             },
             "pattern": {
              "fillmode": "overlay",
              "size": 10,
              "solidity": 0.2
             }
            },
            "type": "barpolar"
           }
          ],
          "carpet": [
           {
            "aaxis": {
             "endlinecolor": "#2a3f5f",
             "gridcolor": "white",
             "linecolor": "white",
             "minorgridcolor": "white",
             "startlinecolor": "#2a3f5f"
            },
            "baxis": {
             "endlinecolor": "#2a3f5f",
             "gridcolor": "white",
             "linecolor": "white",
             "minorgridcolor": "white",
             "startlinecolor": "#2a3f5f"
            },
            "type": "carpet"
           }
          ],
          "choropleth": [
           {
            "colorbar": {
             "outlinewidth": 0,
             "ticks": ""
            },
            "type": "choropleth"
           }
          ],
          "contour": [
           {
            "colorbar": {
             "outlinewidth": 0,
             "ticks": ""
            },
            "colorscale": [
             [
              0,
              "#0d0887"
             ],
             [
              0.1111111111111111,
              "#46039f"
             ],
             [
              0.2222222222222222,
              "#7201a8"
             ],
             [
              0.3333333333333333,
              "#9c179e"
             ],
             [
              0.4444444444444444,
              "#bd3786"
             ],
             [
              0.5555555555555556,
              "#d8576b"
             ],
             [
              0.6666666666666666,
              "#ed7953"
             ],
             [
              0.7777777777777778,
              "#fb9f3a"
             ],
             [
              0.8888888888888888,
              "#fdca26"
             ],
             [
              1,
              "#f0f921"
             ]
            ],
            "type": "contour"
           }
          ],
          "contourcarpet": [
           {
            "colorbar": {
             "outlinewidth": 0,
             "ticks": ""
            },
            "type": "contourcarpet"
           }
          ],
          "heatmap": [
           {
            "colorbar": {
             "outlinewidth": 0,
             "ticks": ""
            },
            "colorscale": [
             [
              0,
              "#0d0887"
             ],
             [
              0.1111111111111111,
              "#46039f"
             ],
             [
              0.2222222222222222,
              "#7201a8"
             ],
             [
              0.3333333333333333,
              "#9c179e"
             ],
             [
              0.4444444444444444,
              "#bd3786"
             ],
             [
              0.5555555555555556,
              "#d8576b"
             ],
             [
              0.6666666666666666,
              "#ed7953"
             ],
             [
              0.7777777777777778,
              "#fb9f3a"
             ],
             [
              0.8888888888888888,
              "#fdca26"
             ],
             [
              1,
              "#f0f921"
             ]
            ],
            "type": "heatmap"
           }
          ],
          "histogram": [
           {
            "marker": {
             "pattern": {
              "fillmode": "overlay",
              "size": 10,
              "solidity": 0.2
             }
            },
            "type": "histogram"
           }
          ],
          "histogram2d": [
           {
            "colorbar": {
             "outlinewidth": 0,
             "ticks": ""
            },
            "colorscale": [
             [
              0,
              "#0d0887"
             ],
             [
              0.1111111111111111,
              "#46039f"
             ],
             [
              0.2222222222222222,
              "#7201a8"
             ],
             [
              0.3333333333333333,
              "#9c179e"
             ],
             [
              0.4444444444444444,
              "#bd3786"
             ],
             [
              0.5555555555555556,
              "#d8576b"
             ],
             [
              0.6666666666666666,
              "#ed7953"
             ],
             [
              0.7777777777777778,
              "#fb9f3a"
             ],
             [
              0.8888888888888888,
              "#fdca26"
             ],
             [
              1,
              "#f0f921"
             ]
            ],
            "type": "histogram2d"
           }
          ],
          "histogram2dcontour": [
           {
            "colorbar": {
             "outlinewidth": 0,
             "ticks": ""
            },
            "colorscale": [
             [
              0,
              "#0d0887"
             ],
             [
              0.1111111111111111,
              "#46039f"
             ],
             [
              0.2222222222222222,
              "#7201a8"
             ],
             [
              0.3333333333333333,
              "#9c179e"
             ],
             [
              0.4444444444444444,
              "#bd3786"
             ],
             [
              0.5555555555555556,
              "#d8576b"
             ],
             [
              0.6666666666666666,
              "#ed7953"
             ],
             [
              0.7777777777777778,
              "#fb9f3a"
             ],
             [
              0.8888888888888888,
              "#fdca26"
             ],
             [
              1,
              "#f0f921"
             ]
            ],
            "type": "histogram2dcontour"
           }
          ],
          "mesh3d": [
           {
            "colorbar": {
             "outlinewidth": 0,
             "ticks": ""
            },
            "type": "mesh3d"
           }
          ],
          "parcoords": [
           {
            "line": {
             "colorbar": {
              "outlinewidth": 0,
              "ticks": ""
             }
            },
            "type": "parcoords"
           }
          ],
          "pie": [
           {
            "automargin": true,
            "type": "pie"
           }
          ],
          "scatter": [
           {
            "fillpattern": {
             "fillmode": "overlay",
             "size": 10,
             "solidity": 0.2
            },
            "type": "scatter"
           }
          ],
          "scatter3d": [
           {
            "line": {
             "colorbar": {
              "outlinewidth": 0,
              "ticks": ""
             }
            },
            "marker": {
             "colorbar": {
              "outlinewidth": 0,
              "ticks": ""
             }
            },
            "type": "scatter3d"
           }
          ],
          "scattercarpet": [
           {
            "marker": {
             "colorbar": {
              "outlinewidth": 0,
              "ticks": ""
             }
            },
            "type": "scattercarpet"
           }
          ],
          "scattergeo": [
           {
            "marker": {
             "colorbar": {
              "outlinewidth": 0,
              "ticks": ""
             }
            },
            "type": "scattergeo"
           }
          ],
          "scattergl": [
           {
            "marker": {
             "colorbar": {
              "outlinewidth": 0,
              "ticks": ""
             }
            },
            "type": "scattergl"
           }
          ],
          "scattermap": [
           {
            "marker": {
             "colorbar": {
              "outlinewidth": 0,
              "ticks": ""
             }
            },
            "type": "scattermap"
           }
          ],
          "scattermapbox": [
           {
            "marker": {
             "colorbar": {
              "outlinewidth": 0,
              "ticks": ""
             }
            },
            "type": "scattermapbox"
           }
          ],
          "scatterpolar": [
           {
            "marker": {
             "colorbar": {
              "outlinewidth": 0,
              "ticks": ""
             }
            },
            "type": "scatterpolar"
           }
          ],
          "scatterpolargl": [
           {
            "marker": {
             "colorbar": {
              "outlinewidth": 0,
              "ticks": ""
             }
            },
            "type": "scatterpolargl"
           }
          ],
          "scatterternary": [
           {
            "marker": {
             "colorbar": {
              "outlinewidth": 0,
              "ticks": ""
             }
            },
            "type": "scatterternary"
           }
          ],
          "surface": [
           {
            "colorbar": {
             "outlinewidth": 0,
             "ticks": ""
            },
            "colorscale": [
             [
              0,
              "#0d0887"
             ],
             [
              0.1111111111111111,
              "#46039f"
             ],
             [
              0.2222222222222222,
              "#7201a8"
             ],
             [
              0.3333333333333333,
              "#9c179e"
             ],
             [
              0.4444444444444444,
              "#bd3786"
             ],
             [
              0.5555555555555556,
              "#d8576b"
             ],
             [
              0.6666666666666666,
              "#ed7953"
             ],
             [
              0.7777777777777778,
              "#fb9f3a"
             ],
             [
              0.8888888888888888,
              "#fdca26"
             ],
             [
              1,
              "#f0f921"
             ]
            ],
            "type": "surface"
           }
          ],
          "table": [
           {
            "cells": {
             "fill": {
              "color": "#EBF0F8"
             },
             "line": {
              "color": "white"
             }
            },
            "header": {
             "fill": {
              "color": "#C8D4E3"
             },
             "line": {
              "color": "white"
             }
            },
            "type": "table"
           }
          ]
         },
         "layout": {
          "annotationdefaults": {
           "arrowcolor": "#2a3f5f",
           "arrowhead": 0,
           "arrowwidth": 1
          },
          "autotypenumbers": "strict",
          "coloraxis": {
           "colorbar": {
            "outlinewidth": 0,
            "ticks": ""
           }
          },
          "colorscale": {
           "diverging": [
            [
             0,
             "#8e0152"
            ],
            [
             0.1,
             "#c51b7d"
            ],
            [
             0.2,
             "#de77ae"
            ],
            [
             0.3,
             "#f1b6da"
            ],
            [
             0.4,
             "#fde0ef"
            ],
            [
             0.5,
             "#f7f7f7"
            ],
            [
             0.6,
             "#e6f5d0"
            ],
            [
             0.7,
             "#b8e186"
            ],
            [
             0.8,
             "#7fbc41"
            ],
            [
             0.9,
             "#4d9221"
            ],
            [
             1,
             "#276419"
            ]
           ],
           "sequential": [
            [
             0,
             "#0d0887"
            ],
            [
             0.1111111111111111,
             "#46039f"
            ],
            [
             0.2222222222222222,
             "#7201a8"
            ],
            [
             0.3333333333333333,
             "#9c179e"
            ],
            [
             0.4444444444444444,
             "#bd3786"
            ],
            [
             0.5555555555555556,
             "#d8576b"
            ],
            [
             0.6666666666666666,
             "#ed7953"
            ],
            [
             0.7777777777777778,
             "#fb9f3a"
            ],
            [
             0.8888888888888888,
             "#fdca26"
            ],
            [
             1,
             "#f0f921"
            ]
           ],
           "sequentialminus": [
            [
             0,
             "#0d0887"
            ],
            [
             0.1111111111111111,
             "#46039f"
            ],
            [
             0.2222222222222222,
             "#7201a8"
            ],
            [
             0.3333333333333333,
             "#9c179e"
            ],
            [
             0.4444444444444444,
             "#bd3786"
            ],
            [
             0.5555555555555556,
             "#d8576b"
            ],
            [
             0.6666666666666666,
             "#ed7953"
            ],
            [
             0.7777777777777778,
             "#fb9f3a"
            ],
            [
             0.8888888888888888,
             "#fdca26"
            ],
            [
             1,
             "#f0f921"
            ]
           ]
          },
          "colorway": [
           "#636efa",
           "#EF553B",
           "#00cc96",
           "#ab63fa",
           "#FFA15A",
           "#19d3f3",
           "#FF6692",
           "#B6E880",
           "#FF97FF",
           "#FECB52"
          ],
          "font": {
           "color": "#2a3f5f"
          },
          "geo": {
           "bgcolor": "white",
           "lakecolor": "white",
           "landcolor": "#E5ECF6",
           "showlakes": true,
           "showland": true,
           "subunitcolor": "white"
          },
          "hoverlabel": {
           "align": "left"
          },
          "hovermode": "closest",
          "mapbox": {
           "style": "light"
          },
          "paper_bgcolor": "white",
          "plot_bgcolor": "#E5ECF6",
          "polar": {
           "angularaxis": {
            "gridcolor": "white",
            "linecolor": "white",
            "ticks": ""
           },
           "bgcolor": "#E5ECF6",
           "radialaxis": {
            "gridcolor": "white",
            "linecolor": "white",
            "ticks": ""
           }
          },
          "scene": {
           "xaxis": {
            "backgroundcolor": "#E5ECF6",
            "gridcolor": "white",
            "gridwidth": 2,
            "linecolor": "white",
            "showbackground": true,
            "ticks": "",
            "zerolinecolor": "white"
           },
           "yaxis": {
            "backgroundcolor": "#E5ECF6",
            "gridcolor": "white",
            "gridwidth": 2,
            "linecolor": "white",
            "showbackground": true,
            "ticks": "",
            "zerolinecolor": "white"
           },
           "zaxis": {
            "backgroundcolor": "#E5ECF6",
            "gridcolor": "white",
            "gridwidth": 2,
            "linecolor": "white",
            "showbackground": true,
            "ticks": "",
            "zerolinecolor": "white"
           }
          },
          "shapedefaults": {
           "line": {
            "color": "#2a3f5f"
           }
          },
          "ternary": {
           "aaxis": {
            "gridcolor": "white",
            "linecolor": "white",
            "ticks": ""
           },
           "baxis": {
            "gridcolor": "white",
            "linecolor": "white",
            "ticks": ""
           },
           "bgcolor": "#E5ECF6",
           "caxis": {
            "gridcolor": "white",
            "linecolor": "white",
            "ticks": ""
           }
          },
          "title": {
           "x": 0.05
          },
          "xaxis": {
           "automargin": true,
           "gridcolor": "white",
           "linecolor": "white",
           "ticks": "",
           "title": {
            "standoff": 15
           },
           "zerolinecolor": "white",
           "zerolinewidth": 2
          },
          "yaxis": {
           "automargin": true,
           "gridcolor": "white",
           "linecolor": "white",
           "ticks": "",
           "title": {
            "standoff": 15
           },
           "zerolinecolor": "white",
           "zerolinewidth": 2
          }
         }
        },
        "width": 700
       }
      }
     },
     "metadata": {},
     "output_type": "display_data"
    }
   ],
   "source": [
    "# group by municipality\n",
    "prices_by_municipalities = df_rent_clean.merge(municipalities_coords, left_on='city', right_on='name', how='left')\n",
    "prices_by_municipalities = prices_by_municipalities.groupby([\"city\", \"lat\", \"lon\"]).agg({'price': 'mean'}).reset_index().sort_values(by=['price'], ascending=True)\n",
    "prices_by_municipalities = prices_by_municipalities[['city', 'lat', 'lon', 'price']]\n",
    "prices_by_municipalities = prices_by_municipalities.dropna(subset=['lat', 'lon'])\n",
    "\n",
    "map_prices_plot(prices_by_municipalities, \"city\")"
   ]
  },
  {
   "cell_type": "markdown",
   "metadata": {},
   "source": [
    "TIME SERIES"
   ]
  },
  {
   "cell_type": "code",
   "execution_count": 260,
   "metadata": {},
   "outputs": [
    {
     "data": {
      "text/plain": [
       "<Axes: xlabel='week', ylabel='price'>"
      ]
     },
     "execution_count": 260,
     "metadata": {},
     "output_type": "execute_result"
    },
    {
     "data": {
      "image/png": "[encoded data removed]",
      "text/plain": [
       "<Figure size 640x480 with 1 Axes>"
      ]
     },
     "metadata": {},
     "output_type": "display_data"
    }
   ],
   "source": [
    "# mean price in Italy\n",
    "mean_price_italy = df_rent_clean.groupby([\"week\"])[\"price\"].mean().reset_index()\n",
    "sns.lineplot(mean_price_italy, x=\"week\", y=\"price\")\n"
   ]
  },
  {
   "cell_type": "code",
   "execution_count": 261,
   "metadata": {},
   "outputs": [
    {
     "data": {
      "text/plain": [
       "<Axes: xlabel='week', ylabel='price'>"
      ]
     },
     "execution_count": 261,
     "metadata": {},
     "output_type": "execute_result"
    },
    {
     "data": {
      "image/png": "[encoded data removed]",
      "text/plain": [
       "<Figure size 640x480 with 1 Axes>"
      ]
     },
     "metadata": {},
     "output_type": "display_data"
    }
   ],
   "source": [
    "regions = [\"Liguria\", \"Lombardia\", \"Piemonte\"]\n",
    "df_regions = df_rent_clean.loc[df_rent_clean[\"region\"].isin(regions)]\n",
    "mean_price_region = df_regions.groupby([\"week\", \"region\"])[\"price\"].mean().reset_index()\n",
    "sns.lineplot(mean_price_region, x=\"week\", y=\"price\", hue=\"region\")\n"
   ]
  },
  {
   "cell_type": "code",
   "execution_count": 262,
   "metadata": {},
   "outputs": [],
   "source": [
    "import statsmodels.api as sm\n",
    "## define functions\n",
    "def LinearRegression(y, x):\n",
    "    x = sm.add_constant(x)\n",
    "    ols = sm.OLS(y, x).fit()\n",
    "    ols_table = ols.summary()\n",
    "    return ols_table\n",
    "\n",
    "def TableResults(ols_table, labels):\n",
    "    \"\"\"Create a table with the results of the OLS regression\n",
    "    ols_table: the output of the LinearRegression function\n",
    "    labels: the labels of the variables\n",
    "    \"\"\"\n",
    "    ## format the ols table\n",
    "    table = pd.DataFrame(ols_table.tables[1])\n",
    "    list_col = ['ind_var', 'coef', 'std_err', 't_val', 'p_val', 'low_ci', 'high_ci']\n",
    "    for num in range(0,len(table.columns)):\n",
    "        table.rename(columns={table.columns[num]: f\"{list_col[num]}\" }, inplace = True)\n",
    "    table = table.iloc[2:,:]\n",
    "    #ols = sm.OLS(y, x).fit()\n",
    "    #table['obs'] = ols.nobs\n",
    "    table.rename(columns={\"P>|t|\": \"p_val\", \"[0.025\": \"low_ci\", \"0.975]\": \"high_ci\"}, inplace=True)\n",
    "    table = table.set_index(table.columns[0])\n",
    "    table = round(table, 3)\n",
    "    table_results = table.applymap(str).applymap(float)\n",
    "    table_results.index = labels\n",
    "    return table_results\n",
    "\n",
    "import matplotlib.pyplot as plt\n",
    "\n",
    "def Plot_ols_coefficients_and_CI(table):\n",
    "    \"\"\"Plot the OLS results with the 95% confidence intervals\"\"\"\n",
    "    ## prepare the data\n",
    "    n_coeff = len(table.index)\n",
    "    print(table.index)\n",
    "    table = table.iloc[0:n_coeff, :]\n",
    "    lower = table['low_ci']\n",
    "    upper = table['high_ci']\n",
    "    table['variables'] = table.index.values\n",
    "    n = len(table)\n",
    "    l = range(0, n)\n",
    "    labels = [0] * n\n",
    "    names = table['variables']\n",
    "\n",
    "    ##plot\n",
    "    fig, ax = plt.subplots(figsize=(10, 10))\n",
    "    plt.plot((lower,upper), (l, l), 'ro-', color='blue', linewidth=2, markersize=2)\n",
    "    plt.scatter(x=table.coef, y=range(0,len(table)))\n",
    "    ax.tick_params(axis='both', which='both')\n",
    "    plt.yticks(range(0, n), names)\n",
    "    plt.plot(labels, l, '--', color='red', linewidth=2, markersize=2)\n",
    "    ax.set_ylabel('Coefficients', fontsize=10)\n",
    "    plt.scatter(lower-.002, l, marker='|', color='blue')\n",
    "    plt.scatter(upper+.002, l, marker='|', color='blue')\n",
    "    ax.set_facecolor('white')\n",
    "    plt.title('PRICE PREDICTORS \\nOLS coefficients - 95% Confidence Intervals', fontsize=15)\n",
    "\n",
    "def plot_coefficient_bars(table_results):\n",
    "    bars = table_results['coef']\n",
    "    bars = pd.DataFrame(bars)\n",
    "    bars['value'] = np.where(bars['coef']>0, 1, 0)\n",
    "    bars['coef'] = abs(bars['coef'])\n",
    "    bars = bars.sort_values(by=\"coef\")\n",
    "    bars['colors'] = np.where(bars['value']==0, \"green\", \"red\")\n",
    "\n",
    "    fig = plt.figure(figsize = (10, 10))\n",
    "    plt.barh(bars.index, bars['coef'], color=bars['colors'])\n",
    "    plt.xlabel(\"Value\")\n",
    "    # y-axis label\n",
    "    plt.ylabel(\"Coefficients\")\n",
    "    # Title of the figure\n",
    "    plt.title(\"Ols coefficients: Predictors of Price\")\n",
    "    plt.legend(['Negative predictors', 'Positive predicgors'], loc='lower right')\n",
    "    plt.show()\n",
    "    plt.savefig(\"bar_plots.jpeg\", bbox_inches='tight')"
   ]
  },
  {
   "cell_type": "code",
   "execution_count": 263,
   "metadata": {},
   "outputs": [
    {
     "data": {
      "text/plain": [
       "Index(['region', 'city', 'quarter', 'price', 'datetime', 'parking_spaces',\n",
       "       'Bathrooms_per_room', 'bathrooms', 'rooms', 'top_floor', 'state',\n",
       "       'energy_class', 'sea_view', 'central_heating', 'surface', 'furnished',\n",
       "       'balcony', 'TV_system', 'external_exposure', 'optical_fiber',\n",
       "       'electric_gate', 'cellar', 'common_garden', 'private_garden',\n",
       "       'alarm_system', 'doorman', 'pool', 'villa', 'full_ownership',\n",
       "       'apartment', 'penthouse', 'loft', 'mansard', 'month', 'week'],\n",
       "      dtype='object')"
      ]
     },
     "execution_count": 263,
     "metadata": {},
     "output_type": "execute_result"
    }
   ],
   "source": [
    "df_rent_clean['energy_class'].value_counts()\n",
    "df = df_rent_clean.loc[df_rent_clean['energy_class']!=\",\"]\n",
    "df_rent_clean.columns"
   ]
  },
  {
   "cell_type": "code",
   "execution_count": 264,
   "metadata": {},
   "outputs": [],
   "source": [
    "columns = ['price', 'month', 'parking_spaces', 'Bathrooms_per_room', 'bathrooms', 'rooms', \n",
    "          'top_floor', 'state', 'energy_class', 'sea_view', 'central_heating', 'surface', 'furnished', \n",
    "          'balcony', 'cellar', 'common_garden', 'private_garden', 'pool', 'furnished', 'apartment']\n",
    "\n",
    "df_rent_clean = df_rent_clean[columns]"
   ]
  },
  {
   "cell_type": "code",
   "execution_count": 265,
   "metadata": {},
   "outputs": [],
   "source": [
    "col_dummies = ['region', 'month', 'energy_rating']\n",
    "\n",
    "#df_rent_clean = pd.get_dummies(df_rent_clean, columns=['region'])\n",
    "df_rent_clean = pd.get_dummies(df_rent_clean, columns=['month'])\n",
    "df_rent_clean = pd.get_dummies(df_rent_clean, columns=['energy_class'])\n",
    "df_rent_clean = pd.get_dummies(df_rent_clean, columns=['state'])"
   ]
  },
  {
   "cell_type": "code",
   "execution_count": 266,
   "metadata": {},
   "outputs": [
    {
     "name": "stdout",
     "output_type": "stream",
     "text": [
      "Shape of X: (86448, 40)\n",
      "Shape of y: (86448,)\n"
     ]
    }
   ],
   "source": [
    "df_rent_clean = df_rent_clean.dropna()\n",
    "\n",
    "# Extract X (independent vars) and y (target var)\n",
    "X = df_rent_clean.drop(['price'], axis=1)\n",
    "y = df_rent_clean['price']\n",
    "\n",
    "# Convert Boolean to Integer (True -> 1, False -> 0)\n",
    "X = X.astype(float)\n",
    "\n",
    "# Ensure all columns in X are numeric\n",
    "X = X.apply(pd.to_numeric, errors='coerce')\n",
    "\n",
    "# Replace Inf with NaN and drop NaN rows\n",
    "X = X.replace([np.inf, -np.inf], np.nan).dropna()\n",
    "y = y.replace([np.inf, -np.inf], np.nan).dropna()\n",
    "\n",
    "col_names = X.columns\n",
    "# Convert to NumPy arrays\n",
    "X = X.values\n",
    "y = y.values\n",
    "\n",
    "# Check if the dimensions match\n",
    "print(\"Shape of X:\", X.shape)\n",
    "print(\"Shape of y:\", y.shape)\n",
    "\n",
    "\n"
   ]
  },
  {
   "cell_type": "code",
   "execution_count": 267,
   "metadata": {},
   "outputs": [
    {
     "name": "stdout",
     "output_type": "stream",
     "text": [
      "X dtype: float64\n",
      "y dtype: float64\n"
     ]
    }
   ],
   "source": [
    "print(\"X dtype:\", X.dtype)\n",
    "print(\"y dtype:\", y.dtype)"
   ]
  },
  {
   "cell_type": "code",
   "execution_count": 268,
   "metadata": {},
   "outputs": [
    {
     "name": "stderr",
     "output_type": "stream",
     "text": [
      "C:\\Users\\franc\\AppData\\Local\\Temp\\ipykernel_19080\\1699274897.py:25: FutureWarning:\n",
      "\n",
      "DataFrame.applymap has been deprecated. Use DataFrame.map instead.\n",
      "\n"
     ]
    },
    {
     "data": {
      "text/html": [
       "<div>\n",
       "<style scoped>\n",
       "    .dataframe tbody tr th:only-of-type {\n",
       "        vertical-align: middle;\n",
       "    }\n",
       "\n",
       "    .dataframe tbody tr th {\n",
       "        vertical-align: top;\n",
       "    }\n",
       "\n",
       "    .dataframe thead th {\n",
       "        text-align: right;\n",
       "    }\n",
       "</style>\n",
       "<table border=\"1\" class=\"dataframe\">\n",
       "  <thead>\n",
       "    <tr style=\"text-align: right;\">\n",
       "      <th></th>\n",
       "      <th>coef</th>\n",
       "      <th>std_err</th>\n",
       "      <th>t_val</th>\n",
       "      <th>p_val</th>\n",
       "      <th>low_ci</th>\n",
       "      <th>high_ci</th>\n",
       "    </tr>\n",
       "  </thead>\n",
       "  <tbody>\n",
       "    <tr>\n",
       "      <th>parking_spaces</th>\n",
       "      <td>-202.7436</td>\n",
       "      <td>4.712</td>\n",
       "      <td>-43.024</td>\n",
       "      <td>0.000</td>\n",
       "      <td>-211.980</td>\n",
       "      <td>-193.507</td>\n",
       "    </tr>\n",
       "    <tr>\n",
       "      <th>Bathrooms_per_room</th>\n",
       "      <td>-450.5192</td>\n",
       "      <td>16.571</td>\n",
       "      <td>-27.187</td>\n",
       "      <td>0.000</td>\n",
       "      <td>-482.998</td>\n",
       "      <td>-418.040</td>\n",
       "    </tr>\n",
       "    <tr>\n",
       "      <th>bathrooms</th>\n",
       "      <td>410.5017</td>\n",
       "      <td>8.457</td>\n",
       "      <td>48.541</td>\n",
       "      <td>0.000</td>\n",
       "      <td>393.926</td>\n",
       "      <td>427.077</td>\n",
       "    </tr>\n",
       "    <tr>\n",
       "      <th>rooms</th>\n",
       "      <td>-108.9975</td>\n",
       "      <td>4.812</td>\n",
       "      <td>-22.652</td>\n",
       "      <td>0.000</td>\n",
       "      <td>-118.429</td>\n",
       "      <td>-99.566</td>\n",
       "    </tr>\n",
       "    <tr>\n",
       "      <th>top_floor</th>\n",
       "      <td>-48.7876</td>\n",
       "      <td>5.741</td>\n",
       "      <td>-8.498</td>\n",
       "      <td>0.000</td>\n",
       "      <td>-60.041</td>\n",
       "      <td>-37.535</td>\n",
       "    </tr>\n",
       "    <tr>\n",
       "      <th>sea_view</th>\n",
       "      <td>253.3389</td>\n",
       "      <td>17.685</td>\n",
       "      <td>14.325</td>\n",
       "      <td>0.000</td>\n",
       "      <td>218.677</td>\n",
       "      <td>288.001</td>\n",
       "    </tr>\n",
       "    <tr>\n",
       "      <th>central_heating</th>\n",
       "      <td>169.0004</td>\n",
       "      <td>4.933</td>\n",
       "      <td>34.261</td>\n",
       "      <td>0.000</td>\n",
       "      <td>159.332</td>\n",
       "      <td>178.669</td>\n",
       "    </tr>\n",
       "    <tr>\n",
       "      <th>surface</th>\n",
       "      <td>6.6610</td>\n",
       "      <td>0.106</td>\n",
       "      <td>62.877</td>\n",
       "      <td>0.000</td>\n",
       "      <td>6.453</td>\n",
       "      <td>6.869</td>\n",
       "    </tr>\n",
       "    <tr>\n",
       "      <th>furnished</th>\n",
       "      <td>63.2439</td>\n",
       "      <td>2.543</td>\n",
       "      <td>24.867</td>\n",
       "      <td>0.000</td>\n",
       "      <td>58.259</td>\n",
       "      <td>68.229</td>\n",
       "    </tr>\n",
       "    <tr>\n",
       "      <th>balcony</th>\n",
       "      <td>-161.6230</td>\n",
       "      <td>4.468</td>\n",
       "      <td>-36.175</td>\n",
       "      <td>0.000</td>\n",
       "      <td>-170.380</td>\n",
       "      <td>-152.866</td>\n",
       "    </tr>\n",
       "    <tr>\n",
       "      <th>cellar</th>\n",
       "      <td>-90.8376</td>\n",
       "      <td>5.405</td>\n",
       "      <td>-16.807</td>\n",
       "      <td>0.000</td>\n",
       "      <td>-101.431</td>\n",
       "      <td>-80.244</td>\n",
       "    </tr>\n",
       "    <tr>\n",
       "      <th>common_garden</th>\n",
       "      <td>13.2566</td>\n",
       "      <td>5.518</td>\n",
       "      <td>2.402</td>\n",
       "      <td>0.016</td>\n",
       "      <td>2.441</td>\n",
       "      <td>24.072</td>\n",
       "    </tr>\n",
       "    <tr>\n",
       "      <th>private_garden</th>\n",
       "      <td>-31.9073</td>\n",
       "      <td>8.265</td>\n",
       "      <td>-3.861</td>\n",
       "      <td>0.000</td>\n",
       "      <td>-48.106</td>\n",
       "      <td>-15.709</td>\n",
       "    </tr>\n",
       "    <tr>\n",
       "      <th>pool</th>\n",
       "      <td>449.8898</td>\n",
       "      <td>20.385</td>\n",
       "      <td>22.069</td>\n",
       "      <td>0.000</td>\n",
       "      <td>409.935</td>\n",
       "      <td>489.845</td>\n",
       "    </tr>\n",
       "    <tr>\n",
       "      <th>furnished</th>\n",
       "      <td>63.2439</td>\n",
       "      <td>2.543</td>\n",
       "      <td>24.867</td>\n",
       "      <td>0.000</td>\n",
       "      <td>58.259</td>\n",
       "      <td>68.229</td>\n",
       "    </tr>\n",
       "    <tr>\n",
       "      <th>apartment</th>\n",
       "      <td>-18.8595</td>\n",
       "      <td>8.870</td>\n",
       "      <td>-2.126</td>\n",
       "      <td>0.033</td>\n",
       "      <td>-36.244</td>\n",
       "      <td>-1.475</td>\n",
       "    </tr>\n",
       "    <tr>\n",
       "      <th>month_2023-01-01 00:00:00</th>\n",
       "      <td>62.6181</td>\n",
       "      <td>12.092</td>\n",
       "      <td>5.179</td>\n",
       "      <td>0.000</td>\n",
       "      <td>38.918</td>\n",
       "      <td>86.318</td>\n",
       "    </tr>\n",
       "    <tr>\n",
       "      <th>month_2023-02-01 00:00:00</th>\n",
       "      <td>17.8278</td>\n",
       "      <td>12.051</td>\n",
       "      <td>1.479</td>\n",
       "      <td>0.139</td>\n",
       "      <td>-5.791</td>\n",
       "      <td>41.447</td>\n",
       "    </tr>\n",
       "    <tr>\n",
       "      <th>month_2023-03-01 00:00:00</th>\n",
       "      <td>9.5017</td>\n",
       "      <td>6.771</td>\n",
       "      <td>1.403</td>\n",
       "      <td>0.161</td>\n",
       "      <td>-3.769</td>\n",
       "      <td>22.773</td>\n",
       "    </tr>\n",
       "    <tr>\n",
       "      <th>month_2023-04-01 00:00:00</th>\n",
       "      <td>-7.9572</td>\n",
       "      <td>7.586</td>\n",
       "      <td>-1.049</td>\n",
       "      <td>0.294</td>\n",
       "      <td>-22.825</td>\n",
       "      <td>6.910</td>\n",
       "    </tr>\n",
       "    <tr>\n",
       "      <th>month_2023-05-01 00:00:00</th>\n",
       "      <td>3.1896</td>\n",
       "      <td>5.111</td>\n",
       "      <td>0.624</td>\n",
       "      <td>0.533</td>\n",
       "      <td>-6.827</td>\n",
       "      <td>13.207</td>\n",
       "    </tr>\n",
       "    <tr>\n",
       "      <th>month_2023-06-01 00:00:00</th>\n",
       "      <td>62.0470</td>\n",
       "      <td>5.107</td>\n",
       "      <td>12.150</td>\n",
       "      <td>0.000</td>\n",
       "      <td>52.038</td>\n",
       "      <td>72.056</td>\n",
       "    </tr>\n",
       "    <tr>\n",
       "      <th>month_2023-07-01 00:00:00</th>\n",
       "      <td>93.9824</td>\n",
       "      <td>5.393</td>\n",
       "      <td>17.428</td>\n",
       "      <td>0.000</td>\n",
       "      <td>83.413</td>\n",
       "      <td>104.552</td>\n",
       "    </tr>\n",
       "    <tr>\n",
       "      <th>month_2023-08-01 00:00:00</th>\n",
       "      <td>-5.0316</td>\n",
       "      <td>11.878</td>\n",
       "      <td>-0.424</td>\n",
       "      <td>0.672</td>\n",
       "      <td>-28.313</td>\n",
       "      <td>18.250</td>\n",
       "    </tr>\n",
       "    <tr>\n",
       "      <th>month_2023-09-01 00:00:00</th>\n",
       "      <td>-0.4254</td>\n",
       "      <td>12.374</td>\n",
       "      <td>-0.034</td>\n",
       "      <td>0.973</td>\n",
       "      <td>-24.678</td>\n",
       "      <td>23.827</td>\n",
       "    </tr>\n",
       "    <tr>\n",
       "      <th>month_2023-10-01 00:00:00</th>\n",
       "      <td>98.7912</td>\n",
       "      <td>10.546</td>\n",
       "      <td>9.367</td>\n",
       "      <td>0.000</td>\n",
       "      <td>78.121</td>\n",
       "      <td>119.462</td>\n",
       "    </tr>\n",
       "    <tr>\n",
       "      <th>month_2023-11-01 00:00:00</th>\n",
       "      <td>-23.3847</td>\n",
       "      <td>12.155</td>\n",
       "      <td>-1.924</td>\n",
       "      <td>0.054</td>\n",
       "      <td>-47.208</td>\n",
       "      <td>0.438</td>\n",
       "    </tr>\n",
       "    <tr>\n",
       "      <th>month_2023-12-01 00:00:00</th>\n",
       "      <td>-17.8259</td>\n",
       "      <td>10.965</td>\n",
       "      <td>-1.626</td>\n",
       "      <td>0.104</td>\n",
       "      <td>-39.317</td>\n",
       "      <td>3.665</td>\n",
       "    </tr>\n",
       "    <tr>\n",
       "      <th>energy_class_,</th>\n",
       "      <td>236.6442</td>\n",
       "      <td>52.558</td>\n",
       "      <td>4.503</td>\n",
       "      <td>0.000</td>\n",
       "      <td>133.631</td>\n",
       "      <td>339.657</td>\n",
       "    </tr>\n",
       "    <tr>\n",
       "      <th>energy_class_A</th>\n",
       "      <td>75.5537</td>\n",
       "      <td>9.272</td>\n",
       "      <td>8.149</td>\n",
       "      <td>0.000</td>\n",
       "      <td>57.381</td>\n",
       "      <td>93.727</td>\n",
       "    </tr>\n",
       "    <tr>\n",
       "      <th>energy_class_B</th>\n",
       "      <td>49.4245</td>\n",
       "      <td>10.989</td>\n",
       "      <td>4.498</td>\n",
       "      <td>0.000</td>\n",
       "      <td>27.887</td>\n",
       "      <td>70.962</td>\n",
       "    </tr>\n",
       "    <tr>\n",
       "      <th>energy_class_C</th>\n",
       "      <td>796.4487</td>\n",
       "      <td>8.713</td>\n",
       "      <td>91.407</td>\n",
       "      <td>0.000</td>\n",
       "      <td>779.371</td>\n",
       "      <td>813.526</td>\n",
       "    </tr>\n",
       "    <tr>\n",
       "      <th>energy_class_D</th>\n",
       "      <td>54.7370</td>\n",
       "      <td>8.892</td>\n",
       "      <td>6.156</td>\n",
       "      <td>0.000</td>\n",
       "      <td>37.308</td>\n",
       "      <td>72.166</td>\n",
       "    </tr>\n",
       "    <tr>\n",
       "      <th>energy_class_E</th>\n",
       "      <td>80.7121</td>\n",
       "      <td>8.786</td>\n",
       "      <td>9.186</td>\n",
       "      <td>0.000</td>\n",
       "      <td>63.491</td>\n",
       "      <td>97.933</td>\n",
       "    </tr>\n",
       "    <tr>\n",
       "      <th>energy_class_F</th>\n",
       "      <td>103.3049</td>\n",
       "      <td>8.297</td>\n",
       "      <td>12.451</td>\n",
       "      <td>0.000</td>\n",
       "      <td>87.043</td>\n",
       "      <td>119.567</td>\n",
       "    </tr>\n",
       "    <tr>\n",
       "      <th>energy_class_G</th>\n",
       "      <td>59.4708</td>\n",
       "      <td>6.267</td>\n",
       "      <td>9.490</td>\n",
       "      <td>0.000</td>\n",
       "      <td>47.188</td>\n",
       "      <td>71.753</td>\n",
       "    </tr>\n",
       "    <tr>\n",
       "      <th>state_buono / abitabile</th>\n",
       "      <td>-4.1540</td>\n",
       "      <td>13.084</td>\n",
       "      <td>-0.317</td>\n",
       "      <td>0.751</td>\n",
       "      <td>-29.799</td>\n",
       "      <td>21.490</td>\n",
       "    </tr>\n",
       "    <tr>\n",
       "      <th>state_da ristrutturare</th>\n",
       "      <td>211.0847</td>\n",
       "      <td>37.697</td>\n",
       "      <td>5.600</td>\n",
       "      <td>0.000</td>\n",
       "      <td>137.199</td>\n",
       "      <td>284.970</td>\n",
       "    </tr>\n",
       "    <tr>\n",
       "      <th>state_nuovo / in costruzione</th>\n",
       "      <td>176.3772</td>\n",
       "      <td>17.409</td>\n",
       "      <td>10.132</td>\n",
       "      <td>0.000</td>\n",
       "      <td>142.256</td>\n",
       "      <td>210.498</td>\n",
       "    </tr>\n",
       "    <tr>\n",
       "      <th>state_ottimo / ristrutturato</th>\n",
       "      <td>155.3997</td>\n",
       "      <td>12.902</td>\n",
       "      <td>12.045</td>\n",
       "      <td>0.000</td>\n",
       "      <td>130.113</td>\n",
       "      <td>180.687</td>\n",
       "    </tr>\n",
       "  </tbody>\n",
       "</table>\n",
       "</div>"
      ],
      "text/plain": [
       "                                  coef  std_err   t_val  p_val   low_ci  \\\n",
       "parking_spaces               -202.7436    4.712 -43.024  0.000 -211.980   \n",
       "Bathrooms_per_room           -450.5192   16.571 -27.187  0.000 -482.998   \n",
       "bathrooms                     410.5017    8.457  48.541  0.000  393.926   \n",
       "rooms                        -108.9975    4.812 -22.652  0.000 -118.429   \n",
       "top_floor                     -48.7876    5.741  -8.498  0.000  -60.041   \n",
       "sea_view                      253.3389   17.685  14.325  0.000  218.677   \n",
       "central_heating               169.0004    4.933  34.261  0.000  159.332   \n",
       "surface                         6.6610    0.106  62.877  0.000    6.453   \n",
       "furnished                      63.2439    2.543  24.867  0.000   58.259   \n",
       "balcony                      -161.6230    4.468 -36.175  0.000 -170.380   \n",
       "cellar                        -90.8376    5.405 -16.807  0.000 -101.431   \n",
       "common_garden                  13.2566    5.518   2.402  0.016    2.441   \n",
       "private_garden                -31.9073    8.265  -3.861  0.000  -48.106   \n",
       "pool                          449.8898   20.385  22.069  0.000  409.935   \n",
       "furnished                      63.2439    2.543  24.867  0.000   58.259   \n",
       "apartment                     -18.8595    8.870  -2.126  0.033  -36.244   \n",
       "month_2023-01-01 00:00:00      62.6181   12.092   5.179  0.000   38.918   \n",
       "month_2023-02-01 00:00:00      17.8278   12.051   1.479  0.139   -5.791   \n",
       "month_2023-03-01 00:00:00       9.5017    6.771   1.403  0.161   -3.769   \n",
       "month_2023-04-01 00:00:00      -7.9572    7.586  -1.049  0.294  -22.825   \n",
       "month_2023-05-01 00:00:00       3.1896    5.111   0.624  0.533   -6.827   \n",
       "month_2023-06-01 00:00:00      62.0470    5.107  12.150  0.000   52.038   \n",
       "month_2023-07-01 00:00:00      93.9824    5.393  17.428  0.000   83.413   \n",
       "month_2023-08-01 00:00:00      -5.0316   11.878  -0.424  0.672  -28.313   \n",
       "month_2023-09-01 00:00:00      -0.4254   12.374  -0.034  0.973  -24.678   \n",
       "month_2023-10-01 00:00:00      98.7912   10.546   9.367  0.000   78.121   \n",
       "month_2023-11-01 00:00:00     -23.3847   12.155  -1.924  0.054  -47.208   \n",
       "month_2023-12-01 00:00:00     -17.8259   10.965  -1.626  0.104  -39.317   \n",
       "energy_class_,                236.6442   52.558   4.503  0.000  133.631   \n",
       "energy_class_A                 75.5537    9.272   8.149  0.000   57.381   \n",
       "energy_class_B                 49.4245   10.989   4.498  0.000   27.887   \n",
       "energy_class_C                796.4487    8.713  91.407  0.000  779.371   \n",
       "energy_class_D                 54.7370    8.892   6.156  0.000   37.308   \n",
       "energy_class_E                 80.7121    8.786   9.186  0.000   63.491   \n",
       "energy_class_F                103.3049    8.297  12.451  0.000   87.043   \n",
       "energy_class_G                 59.4708    6.267   9.490  0.000   47.188   \n",
       "state_buono / abitabile        -4.1540   13.084  -0.317  0.751  -29.799   \n",
       "state_da ristrutturare        211.0847   37.697   5.600  0.000  137.199   \n",
       "state_nuovo / in costruzione  176.3772   17.409  10.132  0.000  142.256   \n",
       "state_ottimo / ristrutturato  155.3997   12.902  12.045  0.000  130.113   \n",
       "\n",
       "                              high_ci  \n",
       "parking_spaces               -193.507  \n",
       "Bathrooms_per_room           -418.040  \n",
       "bathrooms                     427.077  \n",
       "rooms                         -99.566  \n",
       "top_floor                     -37.535  \n",
       "sea_view                      288.001  \n",
       "central_heating               178.669  \n",
       "surface                         6.869  \n",
       "furnished                      68.229  \n",
       "balcony                      -152.866  \n",
       "cellar                        -80.244  \n",
       "common_garden                  24.072  \n",
       "private_garden                -15.709  \n",
       "pool                          489.845  \n",
       "furnished                      68.229  \n",
       "apartment                      -1.475  \n",
       "month_2023-01-01 00:00:00      86.318  \n",
       "month_2023-02-01 00:00:00      41.447  \n",
       "month_2023-03-01 00:00:00      22.773  \n",
       "month_2023-04-01 00:00:00       6.910  \n",
       "month_2023-05-01 00:00:00      13.207  \n",
       "month_2023-06-01 00:00:00      72.056  \n",
       "month_2023-07-01 00:00:00     104.552  \n",
       "month_2023-08-01 00:00:00      18.250  \n",
       "month_2023-09-01 00:00:00      23.827  \n",
       "month_2023-10-01 00:00:00     119.462  \n",
       "month_2023-11-01 00:00:00       0.438  \n",
       "month_2023-12-01 00:00:00       3.665  \n",
       "energy_class_,                339.657  \n",
       "energy_class_A                 93.727  \n",
       "energy_class_B                 70.962  \n",
       "energy_class_C                813.526  \n",
       "energy_class_D                 72.166  \n",
       "energy_class_E                 97.933  \n",
       "energy_class_F                119.567  \n",
       "energy_class_G                 71.753  \n",
       "state_buono / abitabile        21.490  \n",
       "state_da ristrutturare        284.970  \n",
       "state_nuovo / in costruzione  210.498  \n",
       "state_ottimo / ristrutturato  180.687  "
      ]
     },
     "execution_count": 268,
     "metadata": {},
     "output_type": "execute_result"
    }
   ],
   "source": [
    "\n",
    "ols_table = LinearRegression(y, X)\n",
    "table_results = TableResults(ols_table, col_names)\n",
    "table_results"
   ]
  },
  {
   "cell_type": "code",
   "execution_count": 269,
   "metadata": {},
   "outputs": [
    {
     "name": "stderr",
     "output_type": "stream",
     "text": [
      "C:\\Users\\franc\\AppData\\Local\\Temp\\ipykernel_19080\\1699274897.py:39: SettingWithCopyWarning:\n",
      "\n",
      "\n",
      "A value is trying to be set on a copy of a slice from a DataFrame.\n",
      "Try using .loc[row_indexer,col_indexer] = value instead\n",
      "\n",
      "See the caveats in the documentation: https://pandas.pydata.org/pandas-docs/stable/user_guide/indexing.html#returning-a-view-versus-a-copy\n",
      "\n",
      "C:\\Users\\franc\\AppData\\Local\\Temp\\ipykernel_19080\\1699274897.py:47: UserWarning:\n",
      "\n",
      "color is redundantly defined by the 'color' keyword argument and the fmt string \"ro-\" (-> color='r'). The keyword argument will take precedence.\n",
      "\n"
     ]
    },
    {
     "name": "stdout",
     "output_type": "stream",
     "text": [
      "Index(['parking_spaces', 'Bathrooms_per_room', 'bathrooms', 'rooms',\n",
      "       'top_floor', 'sea_view', 'central_heating', 'surface', 'furnished',\n",
      "       'balcony', 'cellar', 'common_garden', 'private_garden', 'pool',\n",
      "       'furnished', 'apartment', 'month_2023-01-01 00:00:00',\n",
      "       'month_2023-02-01 00:00:00', 'month_2023-03-01 00:00:00',\n",
      "       'month_2023-04-01 00:00:00', 'month_2023-05-01 00:00:00',\n",
      "       'month_2023-06-01 00:00:00', 'month_2023-07-01 00:00:00',\n",
      "       'month_2023-08-01 00:00:00', 'month_2023-09-01 00:00:00',\n",
      "       'month_2023-10-01 00:00:00', 'month_2023-11-01 00:00:00',\n",
      "       'month_2023-12-01 00:00:00', 'energy_class_,', 'energy_class_A',\n",
      "       'energy_class_B', 'energy_class_C', 'energy_class_D', 'energy_class_E',\n",
      "       'energy_class_F', 'energy_class_G', 'state_buono / abitabile',\n",
      "       'state_da ristrutturare', 'state_nuovo / in costruzione',\n",
      "       'state_ottimo / ristrutturato'],\n",
      "      dtype='object')\n"
     ]
    },
    {
     "data": {
      "image/png": "[encoded data removed]",
      "text/plain": [
       "<Figure size 1000x1000 with 1 Axes>"
      ]
     },
     "metadata": {},
     "output_type": "display_data"
    }
   ],
   "source": [
    "Plot_ols_coefficients_and_CI(table_results)"
   ]
  },
  {
   "cell_type": "code",
   "execution_count": 270,
   "metadata": {},
   "outputs": [
    {
     "data": {
      "image/png": "[encoded data removed]",
      "text/plain": [
       "<Figure size 1000x1000 with 1 Axes>"
      ]
     },
     "metadata": {},
     "output_type": "display_data"
    },
    {
     "data": {
      "text/plain": [
       "<Figure size 640x480 with 0 Axes>"
      ]
     },
     "metadata": {},
     "output_type": "display_data"
    }
   ],
   "source": [
    "plot_coefficient_bars(table_results)"
   ]
  }
 ],
 "metadata": {
  "kernelspec": {
   "display_name": "venv",
   "language": "python",
   "name": "python3"
  },
  "language_info": {
   "codemirror_mode": {
    "name": "ipython",
    "version": 3
   },
   "file_extension": ".py",
   "mimetype": "text/x-python",
   "name": "python",
   "nbconvert_exporter": "python",
   "pygments_lexer": "ipython3",
   "version": "3.12.6"
  }
 },
 "nbformat": 4,
 "nbformat_minor": 2
}
